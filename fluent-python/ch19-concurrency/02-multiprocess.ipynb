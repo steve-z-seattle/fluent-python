{
 "cells": [
  {
   "cell_type": "code",
   "execution_count": 2,
   "id": "52c0cdab-94f3-4c63-9bbb-23fce3a56e85",
   "metadata": {},
   "outputs": [],
   "source": [
    "import itertools\n",
    "import time\n",
    "from multiprocessing import Process, Event\n",
    "from multiprocessing import synchronize"
   ]
  },
  {
   "cell_type": "code",
   "execution_count": 3,
   "id": "b123d283-2e38-4f2d-be82-aa8af6f5cb4d",
   "metadata": {},
   "outputs": [],
   "source": [
    "def spin(msg: str, done: synchronize.Event) -> None:\n",
    "    for char in itertools.cycle(r'\\|/-'):\n",
    "        status = f'\\r{char} {msg}'\n",
    "        print(status, end='', flush=True)\n",
    "        if done.wait(.1):\n",
    "            break\n",
    "    blanks = ' ' * len(status)\n",
    "    print(f'\\r{blanks}\\r', end='')   "
   ]
  },
  {
   "cell_type": "code",
   "execution_count": 4,
   "id": "22928021-4bf1-46e2-aea6-8a6d0fda8456",
   "metadata": {},
   "outputs": [],
   "source": [
    "def slow() -> int:\n",
    "    time.sleep(3)\n",
    "    return 42"
   ]
  },
  {
   "cell_type": "code",
   "execution_count": 5,
   "id": "a6713cdb-2e2f-46df-a4c9-e1101777160d",
   "metadata": {},
   "outputs": [],
   "source": [
    "def supervisor() -> int:\n",
    "    done = Event()\n",
    "    spinner = Process(target=spin, args=('thinking!', done))\n",
    "    print(f'spinner object: {spinner}')\n",
    "    spinner.start()\n",
    "    result = slow()\n",
    "    done.set()\n",
    "    spinner.join()\n",
    "    return result"
   ]
  },
  {
   "cell_type": "code",
   "execution_count": 7,
   "id": "c05b1f70-e525-46dc-89c9-333b760f54d1",
   "metadata": {},
   "outputs": [],
   "source": [
    "def main() -> None:\n",
    "    result = supervisor()\n",
    "    print(f'Answer: {result}')"
   ]
  },
  {
   "cell_type": "code",
   "execution_count": 8,
   "id": "808fdd25-abd3-4e41-b0b0-b328a8e688b4",
   "metadata": {},
   "outputs": [
    {
     "name": "stdout",
     "output_type": "stream",
     "text": [
      "spinner object: <Process name='Process-2' parent=76698 initial>\n"
     ]
    },
    {
     "name": "stderr",
     "output_type": "stream",
     "text": [
      "Traceback (most recent call last):\n",
      "  File \"<string>\", line 1, in <module>\n",
      "  File \"/usr/local/Cellar/python@3.10/3.10.6_1/Frameworks/Python.framework/Versions/3.10/lib/python3.10/multiprocessing/spawn.py\", line 116, in spawn_main\n",
      "    exitcode = _main(fd, parent_sentinel)\n",
      "  File \"/usr/local/Cellar/python@3.10/3.10.6_1/Frameworks/Python.framework/Versions/3.10/lib/python3.10/multiprocessing/spawn.py\", line 126, in _main\n",
      "    self = reduction.pickle.load(from_parent)\n",
      "AttributeError: Can't get attribute 'spin' on <module '__main__' (built-in)>\n"
     ]
    },
    {
     "name": "stdout",
     "output_type": "stream",
     "text": [
      "Answer: 42\n"
     ]
    }
   ],
   "source": [
    "main()"
   ]
  },
  {
   "cell_type": "code",
   "execution_count": null,
   "id": "b63d2966-04d3-44fd-8b27-434e6171cb3b",
   "metadata": {},
   "outputs": [],
   "source": []
  }
 ],
 "metadata": {
  "kernelspec": {
   "display_name": "Python 3 (ipykernel)",
   "language": "python",
   "name": "python3"
  },
  "language_info": {
   "codemirror_mode": {
    "name": "ipython",
    "version": 3
   },
   "file_extension": ".py",
   "mimetype": "text/x-python",
   "name": "python",
   "nbconvert_exporter": "python",
   "pygments_lexer": "ipython3",
   "version": "3.10.6"
  }
 },
 "nbformat": 4,
 "nbformat_minor": 5
}
