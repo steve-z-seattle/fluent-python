{
 "cells": [
  {
   "cell_type": "code",
   "execution_count": 1,
   "id": "d7a7489b-cc6a-4570-bcd0-6958eabe6074",
   "metadata": {},
   "outputs": [],
   "source": [
    "import asyncio\n",
    "import itertools\n",
    "import math"
   ]
  },
  {
   "cell_type": "code",
   "execution_count": 2,
   "id": "8e5e7160-a05a-4158-b29f-da0ed48ae405",
   "metadata": {},
   "outputs": [],
   "source": [
    "def is_prime(n: int) -> bool:\n",
    "    if n < 2:\n",
    "        return False\n",
    "    if n == 2:\n",
    "        return True\n",
    "    if n % 2 == 0:\n",
    "        return False\n",
    "    \n",
    "    root = math.isqrt(n)\n",
    "    for i in range(3, root + 1, 2):\n",
    "        if n % i == 0:\n",
    "            return False\n",
    "    return True"
   ]
  },
  {
   "cell_type": "code",
   "execution_count": null,
   "id": "8c082664-e85b-4ae1-b66e-5bfe17cb1bf6",
   "metadata": {},
   "outputs": [],
   "source": []
  },
  {
   "cell_type": "code",
   "execution_count": 3,
   "id": "198b7876-78cc-4a70-ad01-ff73f97730bd",
   "metadata": {},
   "outputs": [],
   "source": [
    "def main() -> None:\n",
    "    result = asyncio.run(supervisor())\n",
    "    print(f'Answer: {result}')"
   ]
  },
  {
   "cell_type": "code",
   "execution_count": 4,
   "id": "a8ae49d2-fe6c-4de8-b6b8-0240450fdf1b",
   "metadata": {},
   "outputs": [],
   "source": [
    "async def supervisor() -> int:\n",
    "    spinner = asyncio.create_task(spin('thining!'))\n",
    "    print(f'spinner object: {spinner}')\n",
    "    result = await slow()\n",
    "    spinner.cancel()\n",
    "    return result"
   ]
  },
  {
   "cell_type": "code",
   "execution_count": 5,
   "id": "5ef9d3b7-7305-4905-919f-36975b34bd46",
   "metadata": {},
   "outputs": [],
   "source": [
    "async def spin(msg: str) -> None:\n",
    "    for char in itertools.cycle(r'\\|/-'):\n",
    "        status = f'\\r{char} {msg}'\n",
    "        print(status, end='', flush=True)\n",
    "        try:\n",
    "            await asyncio.sleep(.1)\n",
    "        except asyncio.CancelledError:\n",
    "            break\n",
    "        # if done.wait(.1):\n",
    "        #     break\n",
    "    blanks = ' ' * len(status)\n",
    "    print(f'\\r{blanks}\\r', end='')   "
   ]
  },
  {
   "cell_type": "code",
   "execution_count": 6,
   "id": "82f79b13-d818-4a3f-bab1-704b408b95bc",
   "metadata": {},
   "outputs": [],
   "source": [
    "async def slow() -> int:\n",
    "    print(is_prime(5_000_111_000_222_021))\n",
    "    return 42"
   ]
  },
  {
   "cell_type": "code",
   "execution_count": 8,
   "id": "c5075623-eee4-4269-a2ff-bd8af89fb6af",
   "metadata": {},
   "outputs": [],
   "source": [
    "# from IPython.lib import backgroundjobs as bg\n",
    "# jobs = bg.BackgroundJobManager()\n",
    "# jobs.new('main()')"
   ]
  },
  {
   "cell_type": "code",
   "execution_count": 9,
   "id": "77ac8e60-f0a1-4d70-bbbb-01ff44872281",
   "metadata": {},
   "outputs": [
    {
     "name": "stdout",
     "output_type": "stream",
     "text": [
      "spinner object: <Task pending name='Task-7' coro=<spin() running at /var/folders/l8/h4nm0rjj3gl7qm59wrk_kwjr391phw/T/ipykernel_1708/3605680787.py:1>>\n",
      "True\n"
     ]
    },
    {
     "data": {
      "text/plain": [
       "42"
      ]
     },
     "execution_count": 9,
     "metadata": {},
     "output_type": "execute_result"
    }
   ],
   "source": [
    "await supervisor()"
   ]
  },
  {
   "cell_type": "code",
   "execution_count": null,
   "id": "bdaa2492-4ffa-4a3e-848a-13a892d92109",
   "metadata": {},
   "outputs": [],
   "source": []
  }
 ],
 "metadata": {
  "kernelspec": {
   "display_name": "Python 3 (ipykernel)",
   "language": "python",
   "name": "python3"
  },
  "language_info": {
   "codemirror_mode": {
    "name": "ipython",
    "version": 3
   },
   "file_extension": ".py",
   "mimetype": "text/x-python",
   "name": "python",
   "nbconvert_exporter": "python",
   "pygments_lexer": "ipython3",
   "version": "3.10.6"
  }
 },
 "nbformat": 4,
 "nbformat_minor": 5
}
