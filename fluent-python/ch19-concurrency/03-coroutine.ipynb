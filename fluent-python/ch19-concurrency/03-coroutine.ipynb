{
 "cells": [
  {
   "cell_type": "code",
   "execution_count": 1,
   "id": "d7a7489b-cc6a-4570-bcd0-6958eabe6074",
   "metadata": {},
   "outputs": [],
   "source": [
    "import asyncio\n",
    "import itertools"
   ]
  },
  {
   "cell_type": "code",
   "execution_count": 22,
   "id": "30e9668a-9640-42d7-922b-70cad437aab4",
   "metadata": {},
   "outputs": [],
   "source": [
    "verbose = False"
   ]
  },
  {
   "cell_type": "code",
   "execution_count": 23,
   "id": "198b7876-78cc-4a70-ad01-ff73f97730bd",
   "metadata": {},
   "outputs": [],
   "source": [
    "def main() -> None:\n",
    "    result = asyncio.run(supervisor())\n",
    "    print(f'Answer: {result}')"
   ]
  },
  {
   "cell_type": "code",
   "execution_count": 38,
   "id": "a8ae49d2-fe6c-4de8-b6b8-0240450fdf1b",
   "metadata": {},
   "outputs": [],
   "source": [
    "async def supervisor() -> int:\n",
    "    spinner = asyncio.create_task(spin('thining!'))\n",
    "    if verbose:\n",
    "        print(f'spinner object: {spinner}')\n",
    "    result = await slow()\n",
    "    spinner.cancel()\n",
    "    return result"
   ]
  },
  {
   "cell_type": "code",
   "execution_count": 85,
   "id": "5ef9d3b7-7305-4905-919f-36975b34bd46",
   "metadata": {},
   "outputs": [],
   "source": [
    "async def spin(msg: str) -> None:\n",
    "    for char in itertools.cycle(r'\\|/-'):\n",
    "        status = f'\\r{char} {msg}'\n",
    "        print(status, end='', flush=True)\n",
    "        try:\n",
    "            await asyncio.sleep(.1)\n",
    "        except asyncio.CancelledError:\n",
    "            break\n",
    "        # if done.wait(.1):\n",
    "        #     break\n",
    "    blanks = '-' * len(status)\n",
    "    print(f'\\r{blanks}\\r', end='')   "
   ]
  },
  {
   "cell_type": "code",
   "execution_count": 86,
   "id": "82f79b13-d818-4a3f-bab1-704b408b95bc",
   "metadata": {},
   "outputs": [],
   "source": [
    "async def slow() -> int:\n",
    "    await asyncio.sleep(3)\n",
    "    return 42"
   ]
  },
  {
   "cell_type": "code",
   "execution_count": 87,
   "id": "c5075623-eee4-4269-a2ff-bd8af89fb6af",
   "metadata": {},
   "outputs": [],
   "source": [
    "# from IPython.lib import backgroundjobs as bg\n",
    "# jobs = bg.BackgroundJobManager()\n",
    "# jobs.new('main()')"
   ]
  },
  {
   "cell_type": "code",
   "execution_count": 88,
   "id": "d430c083-e2e0-44ef-a082-ab566558adad",
   "metadata": {},
   "outputs": [
    {
     "name": "stdout",
     "output_type": "stream",
     "text": [
      "-----------\r"
     ]
    }
   ],
   "source": [
    "res = await supervisor()"
   ]
  },
  {
   "cell_type": "code",
   "execution_count": 89,
   "id": "9d8b2ac9-c8cf-439a-9a3b-a2229c600960",
   "metadata": {},
   "outputs": [
    {
     "data": {
      "text/plain": [
       "42"
      ]
     },
     "execution_count": 89,
     "metadata": {},
     "output_type": "execute_result"
    }
   ],
   "source": [
    "res"
   ]
  },
  {
   "cell_type": "code",
   "execution_count": null,
   "id": "7a636a05-4f41-4d96-90f6-092cbb22485b",
   "metadata": {},
   "outputs": [],
   "source": []
  }
 ],
 "metadata": {
  "kernelspec": {
   "display_name": "Python 3 (ipykernel)",
   "language": "python",
   "name": "python3"
  },
  "language_info": {
   "codemirror_mode": {
    "name": "ipython",
    "version": 3
   },
   "file_extension": ".py",
   "mimetype": "text/x-python",
   "name": "python",
   "nbconvert_exporter": "python",
   "pygments_lexer": "ipython3",
   "version": "3.10.6"
  }
 },
 "nbformat": 4,
 "nbformat_minor": 5
}
