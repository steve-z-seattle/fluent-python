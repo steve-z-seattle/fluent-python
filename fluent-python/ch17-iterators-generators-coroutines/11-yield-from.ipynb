{
 "cells": [
  {
   "cell_type": "markdown",
   "id": "7b29b80e-8f80-44df-98be-92b87b657859",
   "metadata": {},
   "source": [
    "## without yield from"
   ]
  },
  {
   "cell_type": "code",
   "execution_count": 1,
   "id": "37716715-f6d9-4262-a6b5-d4f63dbe5457",
   "metadata": {},
   "outputs": [],
   "source": [
    "def sub_gen():\n",
    "    yield 1.1\n",
    "    yield 1.2"
   ]
  },
  {
   "cell_type": "code",
   "execution_count": 2,
   "id": "47e624fe-fe33-4af7-9978-19dd0a438e87",
   "metadata": {},
   "outputs": [],
   "source": [
    "def gen():\n",
    "    yield 1\n",
    "    for i in sub_gen():\n",
    "        yield i\n",
    "    yield 2"
   ]
  },
  {
   "cell_type": "code",
   "execution_count": 3,
   "id": "6ddccb17-46bd-4c4b-9b60-6f3818ad40a7",
   "metadata": {},
   "outputs": [
    {
     "name": "stdout",
     "output_type": "stream",
     "text": [
      "1\n",
      "1.1\n",
      "1.2\n",
      "2\n"
     ]
    }
   ],
   "source": [
    "for x in gen():\n",
    "    print(x)"
   ]
  },
  {
   "cell_type": "code",
   "execution_count": null,
   "id": "eb5ed690-3cd8-4c43-8bf8-ec6314fe7866",
   "metadata": {},
   "outputs": [],
   "source": []
  },
  {
   "cell_type": "markdown",
   "id": "83154b1f-2a7c-446e-b24b-5bedcc6ab352",
   "metadata": {},
   "source": [
    "## with yield from"
   ]
  },
  {
   "cell_type": "code",
   "execution_count": 4,
   "id": "2ca43c24-000f-4404-b98d-4e6d00cb9424",
   "metadata": {},
   "outputs": [],
   "source": [
    "def sub_gen():\n",
    "    yield 1.1\n",
    "    yield 1.2"
   ]
  },
  {
   "cell_type": "code",
   "execution_count": 5,
   "id": "87bfc575-989d-440c-ab89-578583e5b942",
   "metadata": {},
   "outputs": [],
   "source": [
    "def gen():\n",
    "    yield 1\n",
    "    yield from sub_gen()\n",
    "    yield 2"
   ]
  },
  {
   "cell_type": "code",
   "execution_count": 6,
   "id": "fb12a571-84c5-4635-831a-7f59bd7c78ef",
   "metadata": {},
   "outputs": [
    {
     "name": "stdout",
     "output_type": "stream",
     "text": [
      "1\n",
      "1.1\n",
      "1.2\n",
      "2\n"
     ]
    }
   ],
   "source": [
    "for x in gen():\n",
    "    print(x)"
   ]
  },
  {
   "cell_type": "code",
   "execution_count": null,
   "id": "4416c0fc-31ba-43e4-874a-020fd559a79e",
   "metadata": {},
   "outputs": [],
   "source": []
  }
 ],
 "metadata": {
  "kernelspec": {
   "display_name": "Python 3 (ipykernel)",
   "language": "python",
   "name": "python3"
  },
  "language_info": {
   "codemirror_mode": {
    "name": "ipython",
    "version": 3
   },
   "file_extension": ".py",
   "mimetype": "text/x-python",
   "name": "python",
   "nbconvert_exporter": "python",
   "pygments_lexer": "ipython3",
   "version": "3.10.6"
  }
 },
 "nbformat": 4,
 "nbformat_minor": 5
}
