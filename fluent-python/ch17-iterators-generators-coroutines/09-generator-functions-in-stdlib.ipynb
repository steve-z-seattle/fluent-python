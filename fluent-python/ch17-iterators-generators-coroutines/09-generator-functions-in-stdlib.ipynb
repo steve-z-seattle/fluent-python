{
 "cells": [
  {
   "cell_type": "code",
   "execution_count": 1,
   "id": "0d45366a-16c2-470b-ab13-db1203ea47b3",
   "metadata": {},
   "outputs": [],
   "source": [
    "import itertools\n",
    "import operator"
   ]
  },
  {
   "cell_type": "markdown",
   "id": "45ce2740-e55c-40bb-85d7-6c63f41ac2bd",
   "metadata": {},
   "source": [
    "## filter"
   ]
  },
  {
   "cell_type": "code",
   "execution_count": 2,
   "id": "1c560855-a658-4fe9-b040-39d2389e138d",
   "metadata": {},
   "outputs": [],
   "source": [
    "def vowel(c):\n",
    "    return c.lower() in 'aeiou'"
   ]
  },
  {
   "cell_type": "code",
   "execution_count": 3,
   "id": "27105670-b093-4b72-ac01-cf908c104f71",
   "metadata": {},
   "outputs": [
    {
     "data": {
      "text/plain": [
       "['A', 'a', 'a']"
      ]
     },
     "execution_count": 3,
     "metadata": {},
     "output_type": "execute_result"
    }
   ],
   "source": [
    "list(filter(vowel, 'Aardvark'))"
   ]
  },
  {
   "cell_type": "markdown",
   "id": "46f4b6c9-be1a-4add-9e32-3ebb54c8baaa",
   "metadata": {},
   "source": [
    "## compress"
   ]
  },
  {
   "cell_type": "code",
   "execution_count": 4,
   "id": "8e520fd4-f5f1-49ac-b74d-65d5c0e50e30",
   "metadata": {},
   "outputs": [
    {
     "data": {
      "text/plain": [
       "['A', 'r', 'd', 'a']"
      ]
     },
     "execution_count": 4,
     "metadata": {},
     "output_type": "execute_result"
    }
   ],
   "source": [
    "list(itertools.compress('Aardvark', (1, 0, 1, 1, 0, 1)))"
   ]
  },
  {
   "cell_type": "markdown",
   "id": "fc75c18f-bc6a-48f0-b8b8-c284507dbd88",
   "metadata": {},
   "source": [
    "## islice"
   ]
  },
  {
   "cell_type": "code",
   "execution_count": 5,
   "id": "ef03ae10-2bce-41b6-8da8-97e7443ddad0",
   "metadata": {},
   "outputs": [
    {
     "data": {
      "text/plain": [
       "['A', 'a', 'r', 'd']"
      ]
     },
     "execution_count": 5,
     "metadata": {},
     "output_type": "execute_result"
    }
   ],
   "source": [
    "list(itertools.islice('Aardvark', 4))"
   ]
  },
  {
   "cell_type": "code",
   "execution_count": 6,
   "id": "24f7d9bd-4cd2-46c7-9009-eb11bb1f6312",
   "metadata": {},
   "outputs": [
    {
     "data": {
      "text/plain": [
       "['v', 'a', 'r']"
      ]
     },
     "execution_count": 6,
     "metadata": {},
     "output_type": "execute_result"
    }
   ],
   "source": [
    "list(itertools.islice('Aardvark', 4, 7))"
   ]
  },
  {
   "cell_type": "code",
   "execution_count": 7,
   "id": "033b9aa2-85ed-47a8-b502-c533e76faebb",
   "metadata": {},
   "outputs": [
    {
     "data": {
      "text/plain": [
       "['a', 'd', 'a']"
      ]
     },
     "execution_count": 7,
     "metadata": {},
     "output_type": "execute_result"
    }
   ],
   "source": [
    "list(itertools.islice('Aardvark', 1, 7, 2))"
   ]
  },
  {
   "cell_type": "markdown",
   "id": "84876da8-53cd-4d60-850c-c682f170aca2",
   "metadata": {},
   "source": [
    "## accumulate"
   ]
  },
  {
   "cell_type": "code",
   "execution_count": 8,
   "id": "57f309f7-894c-4a59-a040-0e7db0df0df7",
   "metadata": {},
   "outputs": [],
   "source": [
    "sample = [5, 4, 2, 8, 7, 6, 3, 0, 9, 1]"
   ]
  },
  {
   "cell_type": "code",
   "execution_count": 9,
   "id": "c8e41a63-480f-40ec-9b52-0209b081e43d",
   "metadata": {},
   "outputs": [
    {
     "data": {
      "text/plain": [
       "[5, 9, 11, 19, 26, 32, 35, 35, 44, 45]"
      ]
     },
     "execution_count": 9,
     "metadata": {},
     "output_type": "execute_result"
    }
   ],
   "source": [
    "list(itertools.accumulate(sample))"
   ]
  },
  {
   "cell_type": "code",
   "execution_count": 10,
   "id": "711e4e09-b3ff-4937-bef3-f88e5464e473",
   "metadata": {},
   "outputs": [
    {
     "data": {
      "text/plain": [
       "[5, 4, 2, 2, 2, 2, 2, 0, 0, 0]"
      ]
     },
     "execution_count": 10,
     "metadata": {},
     "output_type": "execute_result"
    }
   ],
   "source": [
    "list(itertools.accumulate(sample, min))"
   ]
  },
  {
   "cell_type": "code",
   "execution_count": 11,
   "id": "5b4022e1-28a1-4fe9-b3c8-e33ed28d294f",
   "metadata": {},
   "outputs": [
    {
     "data": {
      "text/plain": [
       "[5, 5, 5, 8, 8, 8, 8, 8, 9, 9]"
      ]
     },
     "execution_count": 11,
     "metadata": {},
     "output_type": "execute_result"
    }
   ],
   "source": [
    "list(itertools.accumulate(sample, max))"
   ]
  },
  {
   "cell_type": "code",
   "execution_count": 12,
   "id": "34273b3b-b25a-49f1-ad88-616817bed05f",
   "metadata": {},
   "outputs": [
    {
     "data": {
      "text/plain": [
       "[5, 20, 40, 320, 2240, 13440, 40320, 0, 0, 0]"
      ]
     },
     "execution_count": 12,
     "metadata": {},
     "output_type": "execute_result"
    }
   ],
   "source": [
    "list(itertools.accumulate(sample, operator.mul))"
   ]
  },
  {
   "cell_type": "code",
   "execution_count": 13,
   "id": "f3439cb0-ad7b-4df7-8079-89378be51c20",
   "metadata": {},
   "outputs": [
    {
     "data": {
      "text/plain": [
       "[1, 2, 6, 24, 120, 720, 5040, 40320, 362880, 3628800]"
      ]
     },
     "execution_count": 13,
     "metadata": {},
     "output_type": "execute_result"
    }
   ],
   "source": [
    "list(itertools.accumulate(range(1, 11), operator.mul))"
   ]
  },
  {
   "cell_type": "markdown",
   "id": "a81a1d39-0662-4eb1-8636-7514ee01cc07",
   "metadata": {},
   "source": [
    "## map, starmap, and tee"
   ]
  },
  {
   "cell_type": "code",
   "execution_count": 14,
   "id": "03bcebf3-f8da-4c95-8c5e-10614f0aaca4",
   "metadata": {},
   "outputs": [],
   "source": [
    "# this is zip"
   ]
  },
  {
   "cell_type": "code",
   "execution_count": 15,
   "id": "85d66948-2b8a-45fb-bb4e-8602daa18a36",
   "metadata": {},
   "outputs": [
    {
     "data": {
      "text/plain": [
       "[(0, 2), (1, 4), (2, 8)]"
      ]
     },
     "execution_count": 15,
     "metadata": {},
     "output_type": "execute_result"
    }
   ],
   "source": [
    "list(map(lambda a, b: (a, b), range(11), [2, 4, 8]))"
   ]
  },
  {
   "cell_type": "code",
   "execution_count": 16,
   "id": "dd7c8cca-28e9-425f-880a-a8daa816f2c6",
   "metadata": {},
   "outputs": [],
   "source": [
    "# this is running average"
   ]
  },
  {
   "cell_type": "code",
   "execution_count": 17,
   "id": "7d964086-5bd5-4702-85d1-b767a1adc3c7",
   "metadata": {},
   "outputs": [],
   "source": [
    "data1, data2 = itertools.tee(enumerate(itertools.accumulate(sample), 1))"
   ]
  },
  {
   "cell_type": "code",
   "execution_count": 18,
   "id": "1f4048bf-9a50-4476-bab0-d11d66667232",
   "metadata": {},
   "outputs": [
    {
     "data": {
      "text/plain": [
       "[(1, 5),\n",
       " (2, 9),\n",
       " (3, 11),\n",
       " (4, 19),\n",
       " (5, 26),\n",
       " (6, 32),\n",
       " (7, 35),\n",
       " (8, 35),\n",
       " (9, 44),\n",
       " (10, 45)]"
      ]
     },
     "execution_count": 18,
     "metadata": {},
     "output_type": "execute_result"
    }
   ],
   "source": [
    "list(data1)"
   ]
  },
  {
   "cell_type": "code",
   "execution_count": 19,
   "id": "447ce6a7-09b0-4327-9c5b-3eca67e747e2",
   "metadata": {},
   "outputs": [
    {
     "data": {
      "text/plain": [
       "[5.0,\n",
       " 4.5,\n",
       " 3.6666666666666665,\n",
       " 4.75,\n",
       " 5.2,\n",
       " 5.333333333333333,\n",
       " 5.0,\n",
       " 4.375,\n",
       " 4.888888888888889,\n",
       " 4.5]"
      ]
     },
     "execution_count": 19,
     "metadata": {},
     "output_type": "execute_result"
    }
   ],
   "source": [
    "list(itertools.starmap(lambda a, b: b / a, data2))"
   ]
  },
  {
   "cell_type": "markdown",
   "id": "99244243-5858-40da-917e-e8ea2a1463fc",
   "metadata": {},
   "source": [
    "## chain"
   ]
  },
  {
   "cell_type": "code",
   "execution_count": 20,
   "id": "7ca0f8e6-fb31-43de-a305-8b7108b78da7",
   "metadata": {},
   "outputs": [
    {
     "data": {
      "text/plain": [
       "[(0, 'A'), (1, 'B'), (2, 'C'), 0, 1]"
      ]
     },
     "execution_count": 20,
     "metadata": {},
     "output_type": "execute_result"
    }
   ],
   "source": [
    "list(itertools.chain(enumerate('ABC'), range(2)))"
   ]
  },
  {
   "cell_type": "code",
   "execution_count": 21,
   "id": "1cbbb53b-67b6-4fcb-801e-efe3aa825a4c",
   "metadata": {},
   "outputs": [
    {
     "data": {
      "text/plain": [
       "[(0, 'A'), (1, 'B'), (2, 'C')]"
      ]
     },
     "execution_count": 21,
     "metadata": {},
     "output_type": "execute_result"
    }
   ],
   "source": [
    "list(enumerate('ABC'))"
   ]
  },
  {
   "cell_type": "code",
   "execution_count": 22,
   "id": "3cd72130-be71-4a17-a417-66a67f052284",
   "metadata": {},
   "outputs": [
    {
     "data": {
      "text/plain": [
       "[(0, 'A'), (1, 'B'), (2, 'C')]"
      ]
     },
     "execution_count": 22,
     "metadata": {},
     "output_type": "execute_result"
    }
   ],
   "source": [
    "list(itertools.chain(enumerate('ABC')))"
   ]
  },
  {
   "cell_type": "markdown",
   "id": "5d5712cd-fac9-4836-9fff-f52ddc74a422",
   "metadata": {},
   "source": [
    "## chain.from_iterable"
   ]
  },
  {
   "cell_type": "code",
   "execution_count": 23,
   "id": "f2df4aa9-c558-411e-93a8-16d92d1a309f",
   "metadata": {},
   "outputs": [
    {
     "data": {
      "text/plain": [
       "[0, 'A', 1, 'B', 2, 'C']"
      ]
     },
     "execution_count": 23,
     "metadata": {},
     "output_type": "execute_result"
    }
   ],
   "source": [
    "list(itertools.chain.from_iterable(enumerate('ABC')))"
   ]
  },
  {
   "cell_type": "markdown",
   "id": "95a92975-2f8c-4497-bf27-ef3126f4133f",
   "metadata": {},
   "source": [
    "## zip"
   ]
  },
  {
   "cell_type": "code",
   "execution_count": 24,
   "id": "cbb7da66-0d19-444b-9a8d-6b3584c79af2",
   "metadata": {},
   "outputs": [
    {
     "data": {
      "text/plain": [
       "[('A', 0, 10), ('B', 1, 20), ('C', 2, 30)]"
      ]
     },
     "execution_count": 24,
     "metadata": {},
     "output_type": "execute_result"
    }
   ],
   "source": [
    "list(zip('ABC', range(5), [10, 20, 30, 40]))"
   ]
  },
  {
   "cell_type": "code",
   "execution_count": 25,
   "id": "2771a520-7b22-4a2a-be26-9c4e891c7288",
   "metadata": {},
   "outputs": [
    {
     "data": {
      "text/plain": [
       "[('A', 0), ('B', 1), ('C', 2), ('?', 3), ('?', 4)]"
      ]
     },
     "execution_count": 25,
     "metadata": {},
     "output_type": "execute_result"
    }
   ],
   "source": [
    "list(itertools.zip_longest('ABC', range(5), fillvalue='?'))"
   ]
  },
  {
   "cell_type": "markdown",
   "id": "4dcebb75-6392-455b-b6ab-71e3f5c92f67",
   "metadata": {},
   "source": [
    "## pairwise"
   ]
  },
  {
   "cell_type": "code",
   "execution_count": 26,
   "id": "0fd82754-70d4-4545-b846-b9e97a07777a",
   "metadata": {},
   "outputs": [
    {
     "data": {
      "text/plain": [
       "[(0, 1), (1, 2), (2, 3), (3, 4), (4, 5), (5, 6)]"
      ]
     },
     "execution_count": 26,
     "metadata": {},
     "output_type": "execute_result"
    }
   ],
   "source": [
    "list(itertools.pairwise(range(7)))"
   ]
  },
  {
   "cell_type": "markdown",
   "id": "c7abeffe-6e39-4059-9e08-dd4d4236bd44",
   "metadata": {},
   "source": [
    "## repeat"
   ]
  },
  {
   "cell_type": "code",
   "execution_count": 27,
   "id": "4b81665b-2b23-46cf-9d03-57cbc4401213",
   "metadata": {},
   "outputs": [
    {
     "data": {
      "text/plain": [
       "[0, 5, 10, 15, 20, 25, 30, 35, 40, 45, 50]"
      ]
     },
     "execution_count": 27,
     "metadata": {},
     "output_type": "execute_result"
    }
   ],
   "source": [
    "list(map(operator.mul, range(11), itertools.repeat(5)))"
   ]
  },
  {
   "cell_type": "markdown",
   "id": "1327efbd-2fda-462e-945b-d79ee2f0461a",
   "metadata": {},
   "source": [
    "## count"
   ]
  },
  {
   "cell_type": "code",
   "execution_count": 28,
   "id": "11414984-aa8b-487a-9485-93d81ac44dd8",
   "metadata": {},
   "outputs": [
    {
     "data": {
      "text/plain": [
       "[1, 1.3, 1.6, 1.9000000000000001, 2.2]"
      ]
     },
     "execution_count": 28,
     "metadata": {},
     "output_type": "execute_result"
    }
   ],
   "source": [
    "list(itertools.islice(itertools.count(1, .3), 5))"
   ]
  },
  {
   "cell_type": "code",
   "execution_count": null,
   "id": "ca20e409-15c2-424c-8802-0dd6a6ae3a5a",
   "metadata": {},
   "outputs": [],
   "source": []
  }
 ],
 "metadata": {
  "kernelspec": {
   "display_name": "Python 3 (ipykernel)",
   "language": "python",
   "name": "python3"
  },
  "language_info": {
   "codemirror_mode": {
    "name": "ipython",
    "version": 3
   },
   "file_extension": ".py",
   "mimetype": "text/x-python",
   "name": "python",
   "nbconvert_exporter": "python",
   "pygments_lexer": "ipython3",
   "version": "3.10.6"
  }
 },
 "nbformat": 4,
 "nbformat_minor": 5
}
