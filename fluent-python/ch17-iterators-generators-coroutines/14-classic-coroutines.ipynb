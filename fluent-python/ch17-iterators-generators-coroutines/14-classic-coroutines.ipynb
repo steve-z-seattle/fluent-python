{
 "cells": [
  {
   "cell_type": "code",
   "execution_count": 1,
   "id": "ea1a99f9-7230-4653-b9bb-a00ec44a955c",
   "metadata": {},
   "outputs": [],
   "source": [
    "# Generators are commonly used as iterators,\n",
    "# but they can also be used as coroutines"
   ]
  },
  {
   "cell_type": "markdown",
   "id": "2e51687d-cd68-4e8a-9f95-94ee47a05175",
   "metadata": {},
   "source": [
    "## Send a value to a coroutine"
   ]
  },
  {
   "cell_type": "code",
   "execution_count": null,
   "id": "c51eba96-baf3-4f0d-9488-67c440b27c28",
   "metadata": {},
   "outputs": [],
   "source": [
    "# Coroutine to compute a running average"
   ]
  },
  {
   "cell_type": "code",
   "execution_count": 3,
   "id": "1abba79e-c1f2-4567-8c7a-4ec8dc64f069",
   "metadata": {},
   "outputs": [],
   "source": [
    "from collections.abc import Generator"
   ]
  },
  {
   "cell_type": "code",
   "execution_count": 22,
   "id": "4e7cf109-5be2-4bee-b6ef-8af4c0474359",
   "metadata": {},
   "outputs": [],
   "source": [
    "def averager() -> Generator[float, float, None]:\n",
    "    total = 0.0\n",
    "    count = 0\n",
    "    average = 0.0\n",
    "    while True:\n",
    "        term = yield average\n",
    "        total += term\n",
    "        count += 1\n",
    "        average = total/count"
   ]
  },
  {
   "cell_type": "code",
   "execution_count": 23,
   "id": "47355841-7d29-4dcc-9d0f-a851927d6861",
   "metadata": {},
   "outputs": [
    {
     "data": {
      "text/plain": [
       "<generator object averager at 0x1098ba570>"
      ]
     },
     "execution_count": 23,
     "metadata": {},
     "output_type": "execute_result"
    }
   ],
   "source": [
    "coro_avg = averager()\n",
    "coro_avg"
   ]
  },
  {
   "cell_type": "code",
   "execution_count": 24,
   "id": "0e40179a-fbb9-472b-be7b-fb15d68e6752",
   "metadata": {},
   "outputs": [],
   "source": [
    "# start the coroutine, and the coroutine yields the initial value of average: 0.0"
   ]
  },
  {
   "cell_type": "code",
   "execution_count": 25,
   "id": "fad55e59-4745-4ec8-80b6-7e9afa28612b",
   "metadata": {},
   "outputs": [
    {
     "data": {
      "text/plain": [
       "0.0"
      ]
     },
     "execution_count": 25,
     "metadata": {},
     "output_type": "execute_result"
    }
   ],
   "source": [
    "next(coro_avg)"
   ]
  },
  {
   "cell_type": "code",
   "execution_count": 26,
   "id": "71e7a959-c90c-4a93-8d21-82ca95a86730",
   "metadata": {},
   "outputs": [
    {
     "data": {
      "text/plain": [
       "10.0"
      ]
     },
     "execution_count": 26,
     "metadata": {},
     "output_type": "execute_result"
    }
   ],
   "source": [
    "coro_avg.send(10)"
   ]
  },
  {
   "cell_type": "code",
   "execution_count": 27,
   "id": "22d404f8-c061-4192-b424-4d7df528d2af",
   "metadata": {},
   "outputs": [
    {
     "data": {
      "text/plain": [
       "20.0"
      ]
     },
     "execution_count": 27,
     "metadata": {},
     "output_type": "execute_result"
    }
   ],
   "source": [
    "coro_avg.send(30)"
   ]
  },
  {
   "cell_type": "code",
   "execution_count": 28,
   "id": "edcafc25-6cb4-405d-a888-bf89ca88cc04",
   "metadata": {},
   "outputs": [
    {
     "data": {
      "text/plain": [
       "15.0"
      ]
     },
     "execution_count": 28,
     "metadata": {},
     "output_type": "execute_result"
    }
   ],
   "source": [
    "coro_avg.send(5)"
   ]
  },
  {
   "cell_type": "code",
   "execution_count": 29,
   "id": "3fbef08d-4cf5-4a4b-a6a3-101d8ec1695c",
   "metadata": {},
   "outputs": [
    {
     "data": {
      "text/plain": [
       "16.25"
      ]
     },
     "execution_count": 29,
     "metadata": {},
     "output_type": "execute_result"
    }
   ],
   "source": [
    "coro_avg.send(20)"
   ]
  },
  {
   "cell_type": "code",
   "execution_count": 30,
   "id": "f034ad44-a39a-4739-a3d8-e0815a290de9",
   "metadata": {},
   "outputs": [],
   "source": [
    "coro_avg.close()"
   ]
  },
  {
   "cell_type": "code",
   "execution_count": 31,
   "id": "330f5656-4f8d-49a1-ac81-033735e3b8fe",
   "metadata": {},
   "outputs": [],
   "source": [
    "coro_avg.close()"
   ]
  },
  {
   "cell_type": "code",
   "execution_count": 32,
   "id": "f1c99330-31ea-4241-aa54-0919ac21092d",
   "metadata": {},
   "outputs": [
    {
     "ename": "StopIteration",
     "evalue": "",
     "output_type": "error",
     "traceback": [
      "\u001b[0;31m---------------------------------------------------------------------------\u001b[0m",
      "\u001b[0;31mStopIteration\u001b[0m                             Traceback (most recent call last)",
      "Cell \u001b[0;32mIn[32], line 1\u001b[0m\n\u001b[0;32m----> 1\u001b[0m \u001b[43mcoro_avg\u001b[49m\u001b[38;5;241;43m.\u001b[39;49m\u001b[43msend\u001b[49m\u001b[43m(\u001b[49m\u001b[38;5;241;43m5\u001b[39;49m\u001b[43m)\u001b[49m\n",
      "\u001b[0;31mStopIteration\u001b[0m: "
     ]
    }
   ],
   "source": [
    "coro_avg.send(5)"
   ]
  },
  {
   "cell_type": "markdown",
   "id": "883f93b9-4222-45d3-8049-1f2693538d99",
   "metadata": {},
   "source": [
    "## Receive a value from a coroutine"
   ]
  },
  {
   "cell_type": "code",
   "execution_count": null,
   "id": "cb05d2b6-f096-4010-8b94-cb0e9cf601aa",
   "metadata": {},
   "outputs": [],
   "source": []
  }
 ],
 "metadata": {
  "kernelspec": {
   "display_name": "Python 3 (ipykernel)",
   "language": "python",
   "name": "python3"
  },
  "language_info": {
   "codemirror_mode": {
    "name": "ipython",
    "version": 3
   },
   "file_extension": ".py",
   "mimetype": "text/x-python",
   "name": "python",
   "nbconvert_exporter": "python",
   "pygments_lexer": "ipython3",
   "version": "3.10.6"
  }
 },
 "nbformat": 4,
 "nbformat_minor": 5
}
