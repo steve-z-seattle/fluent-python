{
 "cells": [
  {
   "cell_type": "markdown",
   "id": "2de82879-a107-41e8-bda5-fe24c6152965",
   "metadata": {},
   "source": [
    "## Why sequences are iterable?"
   ]
  },
  {
   "cell_type": "code",
   "execution_count": 4,
   "id": "1ef2db90-aa01-42f6-8ae8-e7bbc8523a9a",
   "metadata": {},
   "outputs": [],
   "source": [
    "# When Python needs to iterate over an object x,\n",
    "# it automatically calls iter(x)\n",
    "\n",
    "# Iter will\n",
    "# 1) check if the object implemens __iter__, and calls that to obtain an iterator\n",
    "# 2) o.w., check for __getitem__, iter() creates an iterator that tries to \n",
    "#    fetch items by inex, starting with 0.\n",
    "# 3) if that fails, Python raises a TypeError (object is not iterable)\n",
    "\n",
    "# This is why all Python sequences are iterable, as they implement __getitem__.\n",
    "# Note the standard seqences also implement __iter__, and you should too."
   ]
  },
  {
   "cell_type": "code",
   "execution_count": 5,
   "id": "1987536a-a064-4cbe-aed6-f1a14b3e7768",
   "metadata": {},
   "outputs": [],
   "source": [
    "class Spam:\n",
    "    def __getitem__(self, i):\n",
    "        print('->', i)\n",
    "        raise IndexError()"
   ]
  },
  {
   "cell_type": "code",
   "execution_count": 6,
   "id": "9888c579-73b4-44b9-a965-5202adff7703",
   "metadata": {},
   "outputs": [],
   "source": [
    "spam_can = Spam()"
   ]
  },
  {
   "cell_type": "code",
   "execution_count": 7,
   "id": "f3a80ccc-44c7-49aa-a9ed-743cc6a47adf",
   "metadata": {},
   "outputs": [
    {
     "data": {
      "text/plain": [
       "<iterator at 0x108900ca0>"
      ]
     },
     "execution_count": 7,
     "metadata": {},
     "output_type": "execute_result"
    }
   ],
   "source": [
    "iter(spam_can)"
   ]
  },
  {
   "cell_type": "code",
   "execution_count": 8,
   "id": "9e69e178-0462-4a3a-b080-c08e31978ecf",
   "metadata": {},
   "outputs": [
    {
     "name": "stdout",
     "output_type": "stream",
     "text": [
      "-> 0\n"
     ]
    },
    {
     "data": {
      "text/plain": [
       "[]"
      ]
     },
     "execution_count": 8,
     "metadata": {},
     "output_type": "execute_result"
    }
   ],
   "source": [
    "list(spam_can)"
   ]
  },
  {
   "cell_type": "code",
   "execution_count": 11,
   "id": "0f91cd65-0d07-4746-b942-eeabae28c959",
   "metadata": {},
   "outputs": [],
   "source": [
    "# Although spam_can is an iterator and is iterable,\n",
    "# it is not recognized as such by an isinstance against abc.Iterable"
   ]
  },
  {
   "cell_type": "code",
   "execution_count": 12,
   "id": "a167ed72-d729-49ad-aa4a-56f40bc38a8f",
   "metadata": {},
   "outputs": [
    {
     "data": {
      "text/plain": [
       "False"
      ]
     },
     "execution_count": 12,
     "metadata": {},
     "output_type": "execute_result"
    }
   ],
   "source": [
    "from collections import abc\n",
    "isinstance(spam_can, abc.Iterable)"
   ]
  },
  {
   "cell_type": "code",
   "execution_count": 16,
   "id": "0824403c-a06f-4e06-9912-5efbcdee7637",
   "metadata": {},
   "outputs": [],
   "source": [
    "# A robust way to check `iterable'"
   ]
  },
  {
   "cell_type": "code",
   "execution_count": 19,
   "id": "27ad4f2e-9dfb-420b-a9d9-aa0d78013419",
   "metadata": {},
   "outputs": [
    {
     "name": "stdout",
     "output_type": "stream",
     "text": [
      "it is iterable\n"
     ]
    }
   ],
   "source": [
    "try:\n",
    "    iter(spam_can)\n",
    "    print('it is iterable')\n",
    "except TypeError:\n",
    "    print('it is NOT iterable')    "
   ]
  },
  {
   "cell_type": "code",
   "execution_count": null,
   "id": "c87f4426-7905-4e44-b534-34d08450c830",
   "metadata": {},
   "outputs": [],
   "source": []
  }
 ],
 "metadata": {
  "kernelspec": {
   "display_name": "Python 3 (ipykernel)",
   "language": "python",
   "name": "python3"
  },
  "language_info": {
   "codemirror_mode": {
    "name": "ipython",
    "version": 3
   },
   "file_extension": ".py",
   "mimetype": "text/x-python",
   "name": "python",
   "nbconvert_exporter": "python",
   "pygments_lexer": "ipython3",
   "version": "3.10.9"
  }
 },
 "nbformat": 4,
 "nbformat_minor": 5
}
