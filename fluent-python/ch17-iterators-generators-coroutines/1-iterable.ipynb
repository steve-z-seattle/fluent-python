{
 "cells": [
  {
   "cell_type": "markdown",
   "id": "d09e5764-c718-4e9d-9908-937985f839bd",
   "metadata": {},
   "source": [
    "# Iterable"
   ]
  },
  {
   "cell_type": "code",
   "execution_count": null,
   "id": "23f6eeec-ea3c-4518-85aa-9361ea6e7256",
   "metadata": {},
   "outputs": [],
   "source": [
    "# An iterable is an object that provides an iterator."
   ]
  },
  {
   "cell_type": "code",
   "execution_count": null,
   "id": "453a51bb-ebc0-43ca-9945-98e2a1657e62",
   "metadata": {},
   "outputs": [],
   "source": [
    "# The iter() builtin function makes sequences iterable"
   ]
  },
  {
   "cell_type": "code",
   "execution_count": null,
   "id": "d0057937-b7d3-4e16-ac3b-9c63cc962e8f",
   "metadata": {},
   "outputs": [],
   "source": []
  },
  {
   "cell_type": "code",
   "execution_count": null,
   "id": "dc5a52ef-5701-4a42-8b24-95b0f04cd7f1",
   "metadata": {},
   "outputs": [],
   "source": [
    "# Implement a `sentence' class:\n",
    "# You give its constructor a string with some text,\n",
    "# and then you can iterate word by word\n",
    "\n",
    "# Our first version will implement the `sequence' protocol,\n",
    "# and all sequences are iterable."
   ]
  },
  {
   "cell_type": "code",
   "execution_count": null,
   "id": "6f9626da-b0fa-4dad-8bc6-85b9bab85a45",
   "metadata": {},
   "outputs": [],
   "source": []
  }
 ],
 "metadata": {
  "kernelspec": {
   "display_name": "Python 3 (ipykernel)",
   "language": "python",
   "name": "python3"
  },
  "language_info": {
   "codemirror_mode": {
    "name": "ipython",
    "version": 3
   },
   "file_extension": ".py",
   "mimetype": "text/x-python",
   "name": "python",
   "nbconvert_exporter": "python",
   "pygments_lexer": "ipython3",
   "version": "3.10.9"
  }
 },
 "nbformat": 4,
 "nbformat_minor": 5
}
