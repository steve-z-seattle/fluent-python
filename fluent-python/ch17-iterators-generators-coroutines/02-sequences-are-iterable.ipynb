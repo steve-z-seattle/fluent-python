{
 "cells": [
  {
   "cell_type": "markdown",
   "id": "d66b3303-1d7a-4ffa-aa00-41fd7fa85c1d",
   "metadata": {},
   "source": [
    "## Sequences are iterable"
   ]
  },
  {
   "cell_type": "code",
   "execution_count": 1,
   "id": "15980e72-57ca-49db-be47-5e899eb58494",
   "metadata": {},
   "outputs": [],
   "source": [
    "import re\n",
    "import reprlib"
   ]
  },
  {
   "cell_type": "code",
   "execution_count": 2,
   "id": "a61576cd-f735-4335-8b7d-630e3432817a",
   "metadata": {},
   "outputs": [],
   "source": [
    "RE_WORD = re.compile(r'\\w+')"
   ]
  },
  {
   "cell_type": "code",
   "execution_count": 3,
   "id": "3adc289e-686b-4a69-bb45-6b9609ea3394",
   "metadata": {},
   "outputs": [],
   "source": [
    "class Sentence:\n",
    "    \n",
    "    def __init__(self, text):\n",
    "        self.text = text\n",
    "        self.words = RE_WORD.findall(text)\n",
    "        \n",
    "    def __getitem__(self, index):\n",
    "        return self.words[index]\n",
    "    \n",
    "    def __len__(self):\n",
    "        return len(self.words)\n",
    "    \n",
    "    def __repr__(self):\n",
    "        return 'Sentence(%s)' % reprlib.repr(self.text)"
   ]
  },
  {
   "cell_type": "code",
   "execution_count": 4,
   "id": "c011c053-7f57-461f-836a-1df106980925",
   "metadata": {},
   "outputs": [
    {
     "data": {
      "text/plain": [
       "Sentence('\"the time ha... Walrus said,')"
      ]
     },
     "execution_count": 4,
     "metadata": {},
     "output_type": "execute_result"
    }
   ],
   "source": [
    "s = Sentence('\"the time has come, \" the Walrus said,')\n",
    "s"
   ]
  },
  {
   "cell_type": "markdown",
   "id": "4e118631-eadf-4b45-a50f-49b8ad56c14c",
   "metadata": {},
   "source": [
    "## `Sentence' is iterable"
   ]
  },
  {
   "cell_type": "code",
   "execution_count": 5,
   "id": "1f238e5c-a13a-4eed-a7cc-55d2604123d7",
   "metadata": {},
   "outputs": [
    {
     "name": "stdout",
     "output_type": "stream",
     "text": [
      "the\n",
      "time\n",
      "has\n",
      "come\n",
      "the\n",
      "Walrus\n",
      "said\n"
     ]
    }
   ],
   "source": [
    "for word in s:\n",
    "    print(word)"
   ]
  },
  {
   "cell_type": "code",
   "execution_count": 6,
   "id": "3470301e-a364-4e34-b813-1730fe44c054",
   "metadata": {},
   "outputs": [
    {
     "data": {
      "text/plain": [
       "['the', 'time', 'has', 'come', 'the', 'Walrus', 'said']"
      ]
     },
     "execution_count": 6,
     "metadata": {},
     "output_type": "execute_result"
    }
   ],
   "source": [
    "list(s)"
   ]
  },
  {
   "cell_type": "markdown",
   "id": "d0c0a51a-1288-47fa-a6c5-24b8db284487",
   "metadata": {},
   "source": [
    "## `Sentence' is a sequence"
   ]
  },
  {
   "cell_type": "code",
   "execution_count": 7,
   "id": "c37dbb16-27ee-4a96-b9bb-5ec8e1acf1bb",
   "metadata": {},
   "outputs": [
    {
     "data": {
      "text/plain": [
       "'the'"
      ]
     },
     "execution_count": 7,
     "metadata": {},
     "output_type": "execute_result"
    }
   ],
   "source": [
    "s[0]"
   ]
  },
  {
   "cell_type": "code",
   "execution_count": 8,
   "id": "a7089e68-4869-4123-90e6-56eb39da7af8",
   "metadata": {},
   "outputs": [
    {
     "data": {
      "text/plain": [
       "'Walrus'"
      ]
     },
     "execution_count": 8,
     "metadata": {},
     "output_type": "execute_result"
    }
   ],
   "source": [
    "s[5]"
   ]
  },
  {
   "cell_type": "code",
   "execution_count": 9,
   "id": "c9a3eaf2-d09b-4ffa-b0ae-50e15a23a6ff",
   "metadata": {},
   "outputs": [
    {
     "data": {
      "text/plain": [
       "'said'"
      ]
     },
     "execution_count": 9,
     "metadata": {},
     "output_type": "execute_result"
    }
   ],
   "source": [
    "s[-1]"
   ]
  },
  {
   "cell_type": "code",
   "execution_count": null,
   "id": "6f9626da-b0fa-4dad-8bc6-85b9bab85a45",
   "metadata": {},
   "outputs": [],
   "source": []
  }
 ],
 "metadata": {
  "kernelspec": {
   "display_name": "Python 3 (ipykernel)",
   "language": "python",
   "name": "python3"
  },
  "language_info": {
   "codemirror_mode": {
    "name": "ipython",
    "version": 3
   },
   "file_extension": ".py",
   "mimetype": "text/x-python",
   "name": "python",
   "nbconvert_exporter": "python",
   "pygments_lexer": "ipython3",
   "version": "3.10.9"
  }
 },
 "nbformat": 4,
 "nbformat_minor": 5
}
