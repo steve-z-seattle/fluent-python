{
 "cells": [
  {
   "cell_type": "code",
   "execution_count": 1,
   "id": "e5f2b7bd-c490-4110-be3d-83092ee2a191",
   "metadata": {},
   "outputs": [],
   "source": [
    "# roll a six-sided die until a 1 is rolled"
   ]
  },
  {
   "cell_type": "code",
   "execution_count": 5,
   "id": "bc291eee-a030-483e-a5c5-ab8616925454",
   "metadata": {},
   "outputs": [],
   "source": [
    "from random import randint"
   ]
  },
  {
   "cell_type": "code",
   "execution_count": 6,
   "id": "0ce9b1e8-8fa4-4fe9-b2b1-a36eac0b9af4",
   "metadata": {},
   "outputs": [],
   "source": [
    "def d6():\n",
    "    return randint(1, 6)"
   ]
  },
  {
   "cell_type": "code",
   "execution_count": 8,
   "id": "e74494a7-206b-41e0-a25c-fe44d25a5364",
   "metadata": {},
   "outputs": [
    {
     "data": {
      "text/plain": [
       "5"
      ]
     },
     "execution_count": 8,
     "metadata": {},
     "output_type": "execute_result"
    }
   ],
   "source": [
    "d6()"
   ]
  },
  {
   "cell_type": "code",
   "execution_count": 21,
   "id": "feeb6a9f-8913-4afc-aedf-7f721ffaf458",
   "metadata": {},
   "outputs": [],
   "source": [
    "d6_iter = iter(d6, 1)"
   ]
  },
  {
   "cell_type": "code",
   "execution_count": 22,
   "id": "607c1617-d5a0-46e7-8a44-b294761248ca",
   "metadata": {},
   "outputs": [
    {
     "data": {
      "text/plain": [
       "<callable_iterator at 0x105e11960>"
      ]
     },
     "execution_count": 22,
     "metadata": {},
     "output_type": "execute_result"
    }
   ],
   "source": [
    "d6_iter"
   ]
  },
  {
   "cell_type": "code",
   "execution_count": 23,
   "id": "09e3e7cd-5a1f-4714-9d7a-d7b654beb487",
   "metadata": {},
   "outputs": [
    {
     "name": "stdout",
     "output_type": "stream",
     "text": [
      "5\n",
      "5\n",
      "5\n",
      "2\n"
     ]
    }
   ],
   "source": [
    "for roll in d6_iter:\n",
    "    print(roll)"
   ]
  },
  {
   "cell_type": "code",
   "execution_count": null,
   "id": "79661bc8-c643-483a-a7fd-6585e7453e12",
   "metadata": {},
   "outputs": [],
   "source": []
  }
 ],
 "metadata": {
  "kernelspec": {
   "display_name": "Python 3 (ipykernel)",
   "language": "python",
   "name": "python3"
  },
  "language_info": {
   "codemirror_mode": {
    "name": "ipython",
    "version": 3
   },
   "file_extension": ".py",
   "mimetype": "text/x-python",
   "name": "python",
   "nbconvert_exporter": "python",
   "pygments_lexer": "ipython3",
   "version": "3.10.6"
  }
 },
 "nbformat": 4,
 "nbformat_minor": 5
}
