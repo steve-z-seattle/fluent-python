{
 "cells": [
  {
   "cell_type": "code",
   "execution_count": 2,
   "id": "d27ec91b-849c-4ad8-8f61-c59039e97957",
   "metadata": {},
   "outputs": [],
   "source": [
    "## given a root class, the `tree' generator yields its name and stop"
   ]
  },
  {
   "cell_type": "code",
   "execution_count": 3,
   "id": "fd9b2c05-d081-4b04-b78b-caf4196ac8f7",
   "metadata": {},
   "outputs": [],
   "source": [
    "def tree(cls):\n",
    "    yield cls.__name__"
   ]
  },
  {
   "cell_type": "code",
   "execution_count": 4,
   "id": "a2732705-f241-4688-9638-f739e51a995c",
   "metadata": {},
   "outputs": [],
   "source": [
    "def display(cls):\n",
    "    for cls_name in tree(cls):\n",
    "        print(cls_name)"
   ]
  },
  {
   "cell_type": "code",
   "execution_count": 5,
   "id": "fff8c4d8-aa8a-467b-8246-2878ab476c57",
   "metadata": {},
   "outputs": [
    {
     "name": "stdout",
     "output_type": "stream",
     "text": [
      "BaseException\n"
     ]
    }
   ],
   "source": [
    "display(BaseException)"
   ]
  },
  {
   "cell_type": "code",
   "execution_count": 7,
   "id": "01ea364b-73f2-4790-aa58-362012080a81",
   "metadata": {},
   "outputs": [],
   "source": [
    "# names of root class and direct subclasses"
   ]
  },
  {
   "cell_type": "code",
   "execution_count": 8,
   "id": "51a39eef-dbf0-42d4-9f61-3cc429f6e10b",
   "metadata": {},
   "outputs": [],
   "source": [
    "def tree(cls):\n",
    "    yield cls.__name__, 0\n",
    "    for sub_cls in cls.__subclasses__():\n",
    "        yield sub_cls.__name__, 1"
   ]
  },
  {
   "cell_type": "code",
   "execution_count": 11,
   "id": "4c0af48e-5b8e-423d-b530-05093c7c1a56",
   "metadata": {},
   "outputs": [],
   "source": [
    "def display(cls):\n",
    "    for cls_name, level in tree(cls):\n",
    "        indent = ' ' * 4 * level\n",
    "        print(f'{indent}{cls_name}')"
   ]
  },
  {
   "cell_type": "code",
   "execution_count": 12,
   "id": "0bfaaa9e-74e8-4035-8cc8-7e71af46ed86",
   "metadata": {},
   "outputs": [
    {
     "name": "stdout",
     "output_type": "stream",
     "text": [
      "BaseException\n",
      "    Exception\n",
      "    GeneratorExit\n",
      "    SystemExit\n",
      "    KeyboardInterrupt\n",
      "    CancelledError\n",
      "    AbortThread\n"
     ]
    }
   ],
   "source": [
    "display(BaseException)"
   ]
  },
  {
   "cell_type": "code",
   "execution_count": 13,
   "id": "586c07db-bbbe-46ef-9c2f-69bcfdfd93a4",
   "metadata": {},
   "outputs": [],
   "source": [
    "# refactor the above code"
   ]
  },
  {
   "cell_type": "code",
   "execution_count": 14,
   "id": "ce9ddb5e-a50c-44b2-b612-6620d0ac824f",
   "metadata": {},
   "outputs": [],
   "source": [
    "def tree(cls):\n",
    "    yield cls.__name__, 0\n",
    "    yield from sub_tree(cls)"
   ]
  },
  {
   "cell_type": "code",
   "execution_count": 15,
   "id": "284399f9-fa4a-431d-b2f7-0fc0cac88f96",
   "metadata": {},
   "outputs": [],
   "source": [
    "def sub_tree(cls):\n",
    "    for sub_cls in cls.__subclasses__():\n",
    "        yield sub_cls.__name__, 1"
   ]
  },
  {
   "cell_type": "code",
   "execution_count": 16,
   "id": "d8d1c397-2924-43fe-a6eb-670d574b54e4",
   "metadata": {},
   "outputs": [
    {
     "name": "stdout",
     "output_type": "stream",
     "text": [
      "BaseException\n",
      "    Exception\n",
      "    GeneratorExit\n",
      "    SystemExit\n",
      "    KeyboardInterrupt\n",
      "    CancelledError\n",
      "    AbortThread\n"
     ]
    }
   ],
   "source": [
    "display(BaseException)"
   ]
  },
  {
   "cell_type": "code",
   "execution_count": 17,
   "id": "6540ad41-50f4-4977-9809-c66b1c855bf1",
   "metadata": {},
   "outputs": [],
   "source": [
    "# level 2"
   ]
  },
  {
   "cell_type": "code",
   "execution_count": 18,
   "id": "89d72677-04e6-4d22-9a0b-e8639869c863",
   "metadata": {},
   "outputs": [],
   "source": [
    "def sub_tree(cls):\n",
    "    for sub_cls in cls.__subclasses__():\n",
    "        yield sub_cls.__name__, 1\n",
    "        for sub_sub_cls in sub_cls.__subclasses__():\n",
    "            yield sub_sub_cls.__name__, 2"
   ]
  },
  {
   "cell_type": "code",
   "execution_count": 28,
   "id": "9a1dd0ed-8370-451f-b15a-059d72f99980",
   "metadata": {},
   "outputs": [],
   "source": [
    "# display(BaseException)"
   ]
  },
  {
   "cell_type": "code",
   "execution_count": 20,
   "id": "32482c09-c58d-4a66-b1b8-9ec93411c1ff",
   "metadata": {},
   "outputs": [],
   "source": [
    "# level 3"
   ]
  },
  {
   "cell_type": "code",
   "execution_count": 21,
   "id": "ca03d719-ff52-4b04-a01a-3a62378a9729",
   "metadata": {},
   "outputs": [],
   "source": [
    "def sub_tree(cls):\n",
    "    for sub_cls in cls.__subclasses__():\n",
    "        yield sub_cls.__name__, 1\n",
    "        for sub_sub_cls in sub_cls.__subclasses__():\n",
    "            yield sub_sub_cls.__name__, 2\n",
    "            for sub_sub_sub_cls in sub_sub_cls.__subclasses__():\n",
    "                yield sub_sub_sub_cls.__name__, 3"
   ]
  },
  {
   "cell_type": "code",
   "execution_count": 27,
   "id": "a10e0a12-0a9f-413c-92f6-f1c26d88c5a4",
   "metadata": {},
   "outputs": [],
   "source": [
    "# display(BaseException)"
   ]
  },
  {
   "cell_type": "code",
   "execution_count": 23,
   "id": "92d594e3-5487-499f-9e1f-59a2a3192c02",
   "metadata": {},
   "outputs": [],
   "source": [
    "# refactor"
   ]
  },
  {
   "cell_type": "code",
   "execution_count": 24,
   "id": "3f23fcd2-4076-42c4-9c5e-76aecac51988",
   "metadata": {},
   "outputs": [],
   "source": [
    "def sub_tree(cls, level=1):\n",
    "    for sub_cls in cls.__subclasses__():\n",
    "        yield sub_cls.__name__, level\n",
    "        yield from sub_tree(sub_cls, level+1)"
   ]
  },
  {
   "cell_type": "code",
   "execution_count": 26,
   "id": "92b9b649-3c4a-4747-a678-80f21607d539",
   "metadata": {},
   "outputs": [],
   "source": [
    "# display(BaseException)"
   ]
  },
  {
   "cell_type": "code",
   "execution_count": 29,
   "id": "a2e50128-06fa-4ce7-990c-9026b94afd82",
   "metadata": {},
   "outputs": [],
   "source": [
    "# refactor again"
   ]
  },
  {
   "cell_type": "code",
   "execution_count": 31,
   "id": "8854cc96-f189-4dd4-a751-a37d8d3dc8d0",
   "metadata": {},
   "outputs": [],
   "source": [
    "def tree(cls, level=0):\n",
    "    yield cls.__name__, level\n",
    "    for sub_cls in cls.__subclasses__():\n",
    "        yield from tree(sub_cls, level+1)"
   ]
  },
  {
   "cell_type": "code",
   "execution_count": 33,
   "id": "a5c5e135-985b-4d32-885f-790867d50c7a",
   "metadata": {},
   "outputs": [],
   "source": [
    "# display(BaseException)"
   ]
  },
  {
   "cell_type": "code",
   "execution_count": null,
   "id": "3c769479-d8e0-4c67-b0b7-08f1f35a8f93",
   "metadata": {},
   "outputs": [],
   "source": []
  }
 ],
 "metadata": {
  "kernelspec": {
   "display_name": "Python 3 (ipykernel)",
   "language": "python",
   "name": "python3"
  },
  "language_info": {
   "codemirror_mode": {
    "name": "ipython",
    "version": 3
   },
   "file_extension": ".py",
   "mimetype": "text/x-python",
   "name": "python",
   "nbconvert_exporter": "python",
   "pygments_lexer": "ipython3",
   "version": "3.10.6"
  }
 },
 "nbformat": 4,
 "nbformat_minor": 5
}
