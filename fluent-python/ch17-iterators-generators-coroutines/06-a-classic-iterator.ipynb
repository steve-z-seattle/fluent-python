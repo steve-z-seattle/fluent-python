{
 "cells": [
  {
   "cell_type": "code",
   "execution_count": 2,
   "id": "cc63d6df-aca1-4461-b2c9-8ace3d1e88ea",
   "metadata": {},
   "outputs": [],
   "source": [
    "# Sentence Take #2: A classic Iterator\n",
    "# Sentence Classes with __iter__"
   ]
  },
  {
   "cell_type": "code",
   "execution_count": 3,
   "id": "177e0f04-293e-4d30-a9b4-7d45e35fef8d",
   "metadata": {},
   "outputs": [],
   "source": [
    "import re\n",
    "import reprlib"
   ]
  },
  {
   "cell_type": "code",
   "execution_count": 4,
   "id": "5bf45d23-08be-4b8f-abd7-ae595f969848",
   "metadata": {},
   "outputs": [],
   "source": [
    "RE_WORD = re.compile(r'\\w+')"
   ]
  },
  {
   "cell_type": "code",
   "execution_count": 20,
   "id": "a6eb429d-06cf-4a88-ba08-93968729a6ad",
   "metadata": {},
   "outputs": [],
   "source": [
    "class Sentence:\n",
    "    \n",
    "    def __init__(self, text):\n",
    "        self.text = text\n",
    "        self.words = RE_WORD.findall(text)\n",
    "        \n",
    "    def __repr__(self):\n",
    "        return f'Sentence({reprlib.repr(self.text)})'\n",
    "    \n",
    "    def __iter__(self):\n",
    "        return SentenceIterator(self.words)"
   ]
  },
  {
   "cell_type": "code",
   "execution_count": 13,
   "id": "caca2a50-9d11-46d5-b2d0-0d25e28c926c",
   "metadata": {},
   "outputs": [],
   "source": [
    "class SentenceIterator:\n",
    "    \n",
    "    def __init__(self, words):\n",
    "        self.words = words\n",
    "        self.index = 0\n",
    "        \n",
    "    def __next__(self):\n",
    "        try:\n",
    "            word = self.words[self.index]\n",
    "        except IndexError:\n",
    "            raise StopIteration()\n",
    "        self.index += 1\n",
    "        return word\n",
    "    \n",
    "    def __iter__(self):\n",
    "        return self"
   ]
  },
  {
   "cell_type": "code",
   "execution_count": 14,
   "id": "86d495fc-a869-4dcf-bb72-c5d49210f8c6",
   "metadata": {},
   "outputs": [
    {
     "data": {
      "text/plain": [
       "Sentence('\"The time ha... Walrus said,')"
      ]
     },
     "execution_count": 14,
     "metadata": {},
     "output_type": "execute_result"
    }
   ],
   "source": [
    "s = Sentence('\"The time has come,\" the Walrus said,')\n",
    "s"
   ]
  },
  {
   "cell_type": "code",
   "execution_count": 15,
   "id": "fd3d1b64-d205-4f31-a9c8-3c13b5693d13",
   "metadata": {},
   "outputs": [
    {
     "name": "stdout",
     "output_type": "stream",
     "text": [
      "The\n",
      "time\n",
      "has\n",
      "come\n",
      "the\n",
      "Walrus\n",
      "said\n"
     ]
    }
   ],
   "source": [
    "for word in s:\n",
    "    print(word)"
   ]
  },
  {
   "cell_type": "code",
   "execution_count": 16,
   "id": "c29a5cc1-e81c-41a7-ad95-1f756b10625d",
   "metadata": {},
   "outputs": [
    {
     "data": {
      "text/plain": [
       "['The', 'time', 'has', 'come', 'the', 'Walrus', 'said']"
      ]
     },
     "execution_count": 16,
     "metadata": {},
     "output_type": "execute_result"
    }
   ],
   "source": [
    "list(s)"
   ]
  },
  {
   "cell_type": "code",
   "execution_count": 18,
   "id": "adc9bd1a-4ae0-4832-8bc3-f68ea131f6a4",
   "metadata": {},
   "outputs": [],
   "source": [
    "# s is iterable, but s is not a sequence."
   ]
  },
  {
   "cell_type": "code",
   "execution_count": 19,
   "id": "b9a15488-7c5b-49ff-81b3-b15ed0459d69",
   "metadata": {},
   "outputs": [
    {
     "ename": "TypeError",
     "evalue": "'Sentence' object is not subscriptable",
     "output_type": "error",
     "traceback": [
      "\u001b[0;31m---------------------------------------------------------------------------\u001b[0m",
      "\u001b[0;31mTypeError\u001b[0m                                 Traceback (most recent call last)",
      "Cell \u001b[0;32mIn[19], line 1\u001b[0m\n\u001b[0;32m----> 1\u001b[0m \u001b[43ms\u001b[49m\u001b[43m[\u001b[49m\u001b[38;5;241;43m0\u001b[39;49m\u001b[43m]\u001b[49m\n",
      "\u001b[0;31mTypeError\u001b[0m: 'Sentence' object is not subscriptable"
     ]
    }
   ],
   "source": [
    "s[0]"
   ]
  },
  {
   "cell_type": "code",
   "execution_count": null,
   "id": "d70386e5-81e0-47f2-bc6f-14154ffd4d77",
   "metadata": {},
   "outputs": [],
   "source": []
  }
 ],
 "metadata": {
  "kernelspec": {
   "display_name": "Python 3 (ipykernel)",
   "language": "python",
   "name": "python3"
  },
  "language_info": {
   "codemirror_mode": {
    "name": "ipython",
    "version": 3
   },
   "file_extension": ".py",
   "mimetype": "text/x-python",
   "name": "python",
   "nbconvert_exporter": "python",
   "pygments_lexer": "ipython3",
   "version": "3.10.6"
  }
 },
 "nbformat": 4,
 "nbformat_minor": 5
}
