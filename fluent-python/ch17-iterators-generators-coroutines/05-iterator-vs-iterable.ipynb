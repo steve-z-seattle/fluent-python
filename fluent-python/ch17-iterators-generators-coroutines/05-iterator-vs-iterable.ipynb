{
 "cells": [
  {
   "cell_type": "markdown",
   "id": "0732c4b1-658b-4a8f-8936-1b218f1141a9",
   "metadata": {},
   "source": [
    "# Python obtains iterators from iterables"
   ]
  },
  {
   "cell_type": "code",
   "execution_count": 1,
   "id": "ada1755e-7b81-45f9-9111-3c667476e1e3",
   "metadata": {},
   "outputs": [],
   "source": [
    "s = 'ABC'"
   ]
  },
  {
   "cell_type": "code",
   "execution_count": 2,
   "id": "1b2c9b24-15f3-443e-870f-b2f745f2b259",
   "metadata": {},
   "outputs": [
    {
     "data": {
      "text/plain": [
       "'ABC'"
      ]
     },
     "execution_count": 2,
     "metadata": {},
     "output_type": "execute_result"
    }
   ],
   "source": [
    "s"
   ]
  },
  {
   "cell_type": "code",
   "execution_count": 3,
   "id": "2965a50e-3993-4efc-8ae8-36d40fc6f562",
   "metadata": {},
   "outputs": [
    {
     "name": "stdout",
     "output_type": "stream",
     "text": [
      "A\n",
      "B\n",
      "C\n"
     ]
    }
   ],
   "source": [
    "for char in s:\n",
    "    print(char)"
   ]
  },
  {
   "cell_type": "markdown",
   "id": "48d887be-3209-4d39-8555-a27f95874ec2",
   "metadata": {},
   "source": [
    "# simulate `for' on an iterable"
   ]
  },
  {
   "cell_type": "code",
   "execution_count": 5,
   "id": "6aecf7aa-2d23-47ed-b70f-48cecc9799aa",
   "metadata": {},
   "outputs": [],
   "source": [
    "s = 'ABC'"
   ]
  },
  {
   "cell_type": "code",
   "execution_count": 7,
   "id": "07fdcc40-edfa-4625-8943-999d3cb15cfc",
   "metadata": {},
   "outputs": [
    {
     "data": {
      "text/plain": [
       "<str_iterator at 0x10599d1b0>"
      ]
     },
     "execution_count": 7,
     "metadata": {},
     "output_type": "execute_result"
    }
   ],
   "source": [
    "it = iter(s)\n",
    "it"
   ]
  },
  {
   "cell_type": "code",
   "execution_count": 8,
   "id": "b22d6a25-4d9b-4b9b-a3a1-a6078da9ba22",
   "metadata": {},
   "outputs": [
    {
     "name": "stdout",
     "output_type": "stream",
     "text": [
      "A\n",
      "B\n",
      "C\n"
     ]
    }
   ],
   "source": [
    "while True:\n",
    "    try:\n",
    "        print(next(it))\n",
    "    except StopIteration:\n",
    "        del it\n",
    "        break"
   ]
  },
  {
   "cell_type": "markdown",
   "id": "18a544ad-faf6-4491-bc6f-f3509153c437",
   "metadata": {},
   "source": [
    "## iterables vs iterators"
   ]
  },
  {
   "cell_type": "code",
   "execution_count": 1,
   "id": "54e05bee-d15d-42c5-9338-523dbf83cf31",
   "metadata": {},
   "outputs": [],
   "source": [
    "# iterators have two methods: __next__ and __iter__\n",
    "# iterables have one method: __iter__\n",
    "\n",
    "# iterators is derived from iterables"
   ]
  },
  {
   "cell_type": "markdown",
   "id": "67e83435-c309-47bb-8e9b-c07c38bc7826",
   "metadata": {},
   "source": [
    "## Important"
   ]
  },
  {
   "cell_type": "code",
   "execution_count": 22,
   "id": "42b684af-03fa-4217-acf4-00908704caac",
   "metadata": {},
   "outputs": [],
   "source": [
    "# Iterators are also iterables,\n",
    "# but iterables are not iterators\n",
    "\n",
    "# Also see 06"
   ]
  },
  {
   "cell_type": "code",
   "execution_count": null,
   "id": "31eda3d8-9daa-4677-bd60-fdf936c073ac",
   "metadata": {},
   "outputs": [],
   "source": []
  },
  {
   "cell_type": "code",
   "execution_count": 21,
   "id": "019d76b7-50da-499b-8fb6-f925dd9e5c3a",
   "metadata": {},
   "outputs": [],
   "source": [
    "# an example using iter() and next()"
   ]
  },
  {
   "cell_type": "code",
   "execution_count": null,
   "id": "644a3e38-3ced-4b50-9d9e-cbcfa70c5bc5",
   "metadata": {},
   "outputs": [],
   "source": []
  },
  {
   "cell_type": "code",
   "execution_count": 3,
   "id": "03bc6874-b148-4ac3-af0c-49b27abc7b85",
   "metadata": {},
   "outputs": [],
   "source": [
    "import re\n",
    "import reprlib"
   ]
  },
  {
   "cell_type": "code",
   "execution_count": 4,
   "id": "afd61632-c254-4cde-b3a6-b5fb3c62e244",
   "metadata": {},
   "outputs": [],
   "source": [
    "RE_WORD = re.compile(r'\\w+')"
   ]
  },
  {
   "cell_type": "code",
   "execution_count": 5,
   "id": "fa3208a3-c3b6-41d4-a2c7-3ebab21dee18",
   "metadata": {},
   "outputs": [],
   "source": [
    "class Sentence:\n",
    "    \n",
    "    def __init__(self, text):\n",
    "        self.text = text\n",
    "        self.words = RE_WORD.findall(text)\n",
    "        \n",
    "    def __getitem__(self, index):\n",
    "        return self.words[index]\n",
    "    \n",
    "    def __len__(self):\n",
    "        return len(self.words)\n",
    "    \n",
    "    def __repr__(self):\n",
    "        return 'Sentence(%s)' % reprlib.repr(self.text)"
   ]
  },
  {
   "cell_type": "code",
   "execution_count": 6,
   "id": "677258a6-c694-4a58-ad39-c80451fd73eb",
   "metadata": {},
   "outputs": [],
   "source": [
    "s3 = Sentence('Life of Brian')"
   ]
  },
  {
   "cell_type": "code",
   "execution_count": 8,
   "id": "080c883c-6617-4ba1-a69d-b27d1ae6a3af",
   "metadata": {},
   "outputs": [],
   "source": [
    "# use iter to get an iterator from an iterable"
   ]
  },
  {
   "cell_type": "code",
   "execution_count": 9,
   "id": "aa777d69-9b58-47f3-a61c-81ccc5dc331b",
   "metadata": {},
   "outputs": [
    {
     "data": {
      "text/plain": [
       "<iterator at 0x10d53c970>"
      ]
     },
     "execution_count": 9,
     "metadata": {},
     "output_type": "execute_result"
    }
   ],
   "source": [
    "it = iter(s3)\n",
    "it"
   ]
  },
  {
   "cell_type": "code",
   "execution_count": 17,
   "id": "224fbcc6-b29d-4659-8c7b-47aa78633270",
   "metadata": {},
   "outputs": [],
   "source": [
    "# fetch next word using next()"
   ]
  },
  {
   "cell_type": "code",
   "execution_count": 10,
   "id": "633f3a6a-8443-4f7f-971a-d957b7c36f92",
   "metadata": {},
   "outputs": [
    {
     "data": {
      "text/plain": [
       "'Life'"
      ]
     },
     "execution_count": 10,
     "metadata": {},
     "output_type": "execute_result"
    }
   ],
   "source": [
    "next(it)"
   ]
  },
  {
   "cell_type": "code",
   "execution_count": 11,
   "id": "4a47036a-9fd0-4a98-b222-0c394adb20d4",
   "metadata": {},
   "outputs": [
    {
     "data": {
      "text/plain": [
       "'of'"
      ]
     },
     "execution_count": 11,
     "metadata": {},
     "output_type": "execute_result"
    }
   ],
   "source": [
    "next(it)"
   ]
  },
  {
   "cell_type": "code",
   "execution_count": 12,
   "id": "4382bd7f-1af7-491f-a82e-a5271512b716",
   "metadata": {},
   "outputs": [
    {
     "data": {
      "text/plain": [
       "'Brian'"
      ]
     },
     "execution_count": 12,
     "metadata": {},
     "output_type": "execute_result"
    }
   ],
   "source": [
    "next(it)"
   ]
  },
  {
   "cell_type": "code",
   "execution_count": 13,
   "id": "f8378057-bf20-4bcf-88f3-5d3ab97b4fdb",
   "metadata": {},
   "outputs": [
    {
     "ename": "StopIteration",
     "evalue": "",
     "output_type": "error",
     "traceback": [
      "\u001b[0;31m---------------------------------------------------------------------------\u001b[0m",
      "\u001b[0;31mStopIteration\u001b[0m                             Traceback (most recent call last)",
      "Cell \u001b[0;32mIn[13], line 1\u001b[0m\n\u001b[0;32m----> 1\u001b[0m \u001b[38;5;28;43mnext\u001b[39;49m\u001b[43m(\u001b[49m\u001b[43mit\u001b[49m\u001b[43m)\u001b[49m\n",
      "\u001b[0;31mStopIteration\u001b[0m: "
     ]
    }
   ],
   "source": [
    "next(it)"
   ]
  },
  {
   "cell_type": "code",
   "execution_count": 14,
   "id": "3f20dc05-5a2f-4218-8822-48481c824319",
   "metadata": {},
   "outputs": [
    {
     "data": {
      "text/plain": [
       "[]"
      ]
     },
     "execution_count": 14,
     "metadata": {},
     "output_type": "execute_result"
    }
   ],
   "source": [
    "list(it)"
   ]
  },
  {
   "cell_type": "code",
   "execution_count": 15,
   "id": "739666ad-9077-422c-a10a-8965901c6033",
   "metadata": {},
   "outputs": [
    {
     "data": {
      "text/plain": [
       "['Life', 'of', 'Brian']"
      ]
     },
     "execution_count": 15,
     "metadata": {},
     "output_type": "execute_result"
    }
   ],
   "source": [
    "list(iter(s3))"
   ]
  },
  {
   "cell_type": "code",
   "execution_count": null,
   "id": "66ab2bd6-7e2d-4d85-8b66-1b1ba92c9fe7",
   "metadata": {},
   "outputs": [],
   "source": []
  }
 ],
 "metadata": {
  "kernelspec": {
   "display_name": "Python 3 (ipykernel)",
   "language": "python",
   "name": "python3"
  },
  "language_info": {
   "codemirror_mode": {
    "name": "ipython",
    "version": 3
   },
   "file_extension": ".py",
   "mimetype": "text/x-python",
   "name": "python",
   "nbconvert_exporter": "python",
   "pygments_lexer": "ipython3",
   "version": "3.10.6"
  }
 },
 "nbformat": 4,
 "nbformat_minor": 5
}
