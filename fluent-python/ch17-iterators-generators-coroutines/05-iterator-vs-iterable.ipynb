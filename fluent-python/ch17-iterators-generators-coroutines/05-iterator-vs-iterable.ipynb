{
 "cells": [
  {
   "cell_type": "markdown",
   "id": "0732c4b1-658b-4a8f-8936-1b218f1141a9",
   "metadata": {},
   "source": [
    "# Python obtains iterators from iterables"
   ]
  },
  {
   "cell_type": "code",
   "execution_count": 1,
   "id": "ada1755e-7b81-45f9-9111-3c667476e1e3",
   "metadata": {},
   "outputs": [],
   "source": [
    "s = 'ABC'"
   ]
  },
  {
   "cell_type": "code",
   "execution_count": 2,
   "id": "1b2c9b24-15f3-443e-870f-b2f745f2b259",
   "metadata": {},
   "outputs": [
    {
     "data": {
      "text/plain": [
       "'ABC'"
      ]
     },
     "execution_count": 2,
     "metadata": {},
     "output_type": "execute_result"
    }
   ],
   "source": [
    "s"
   ]
  },
  {
   "cell_type": "code",
   "execution_count": 3,
   "id": "2965a50e-3993-4efc-8ae8-36d40fc6f562",
   "metadata": {},
   "outputs": [
    {
     "name": "stdout",
     "output_type": "stream",
     "text": [
      "A\n",
      "B\n",
      "C\n"
     ]
    }
   ],
   "source": [
    "for char in s:\n",
    "    print(char)"
   ]
  },
  {
   "cell_type": "markdown",
   "id": "48d887be-3209-4d39-8555-a27f95874ec2",
   "metadata": {},
   "source": [
    "# simulate `for' on an iterable"
   ]
  },
  {
   "cell_type": "code",
   "execution_count": 5,
   "id": "6aecf7aa-2d23-47ed-b70f-48cecc9799aa",
   "metadata": {},
   "outputs": [],
   "source": [
    "s = 'ABC'"
   ]
  },
  {
   "cell_type": "code",
   "execution_count": 7,
   "id": "07fdcc40-edfa-4625-8943-999d3cb15cfc",
   "metadata": {},
   "outputs": [
    {
     "data": {
      "text/plain": [
       "<str_iterator at 0x10599d1b0>"
      ]
     },
     "execution_count": 7,
     "metadata": {},
     "output_type": "execute_result"
    }
   ],
   "source": [
    "it = iter(s)\n",
    "it"
   ]
  },
  {
   "cell_type": "code",
   "execution_count": 8,
   "id": "b22d6a25-4d9b-4b9b-a3a1-a6078da9ba22",
   "metadata": {},
   "outputs": [
    {
     "name": "stdout",
     "output_type": "stream",
     "text": [
      "A\n",
      "B\n",
      "C\n"
     ]
    }
   ],
   "source": [
    "while True:\n",
    "    try:\n",
    "        print(next(it))\n",
    "    except StopIteration:\n",
    "        del it\n",
    "        break"
   ]
  },
  {
   "cell_type": "code",
   "execution_count": null,
   "id": "9bb9fb3c-44af-4776-95ea-f6982337f6f8",
   "metadata": {},
   "outputs": [],
   "source": []
  }
 ],
 "metadata": {
  "kernelspec": {
   "display_name": "Python 3 (ipykernel)",
   "language": "python",
   "name": "python3"
  },
  "language_info": {
   "codemirror_mode": {
    "name": "ipython",
    "version": 3
   },
   "file_extension": ".py",
   "mimetype": "text/x-python",
   "name": "python",
   "nbconvert_exporter": "python",
   "pygments_lexer": "ipython3",
   "version": "3.10.9"
  }
 },
 "nbformat": 4,
 "nbformat_minor": 5
}
