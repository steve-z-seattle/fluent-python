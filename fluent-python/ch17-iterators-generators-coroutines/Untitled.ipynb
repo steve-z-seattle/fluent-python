{
 "cells": [
  {
   "cell_type": "markdown",
   "id": "2de82879-a107-41e8-bda5-fe24c6152965",
   "metadata": {},
   "source": [
    "## Why sequences are iterable?"
   ]
  },
  {
   "cell_type": "code",
   "execution_count": null,
   "id": "1ef2db90-aa01-42f6-8ae8-e7bbc8523a9a",
   "metadata": {},
   "outputs": [],
   "source": []
  }
 ],
 "metadata": {
  "kernelspec": {
   "display_name": "Python 3 (ipykernel)",
   "language": "python",
   "name": "python3"
  },
  "language_info": {
   "codemirror_mode": {
    "name": "ipython",
    "version": 3
   },
   "file_extension": ".py",
   "mimetype": "text/x-python",
   "name": "python",
   "nbconvert_exporter": "python",
   "pygments_lexer": "ipython3",
   "version": "3.10.9"
  }
 },
 "nbformat": 4,
 "nbformat_minor": 5
}
