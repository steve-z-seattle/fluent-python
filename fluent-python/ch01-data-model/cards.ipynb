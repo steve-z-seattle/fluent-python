{
 "cells": [
  {
   "cell_type": "code",
   "execution_count": 1,
   "id": "bf09cdb0-6dfb-4436-9e57-467c5eea13d2",
   "metadata": {},
   "outputs": [],
   "source": [
    "import collections"
   ]
  },
  {
   "cell_type": "code",
   "execution_count": 33,
   "id": "abbe2616-86aa-464d-bf01-6574febc0b1b",
   "metadata": {},
   "outputs": [],
   "source": [
    "# define Card using ``namedtuple``"
   ]
  },
  {
   "cell_type": "code",
   "execution_count": 34,
   "id": "e6e24d43-cf75-4c23-8559-41a6ef80b3b9",
   "metadata": {},
   "outputs": [],
   "source": [
    "Card = collections.namedtuple('Card', ['rank', 'suit'])"
   ]
  },
  {
   "cell_type": "code",
   "execution_count": 35,
   "id": "8e028fae-eb03-47a4-a1b1-6efeefadbfe5",
   "metadata": {},
   "outputs": [
    {
     "data": {
      "text/plain": [
       "Card(rank='7', suit='diamonds')"
      ]
     },
     "execution_count": 35,
     "metadata": {},
     "output_type": "execute_result"
    }
   ],
   "source": [
    "beer_card = Card('7', 'diamonds')\n",
    "beer_card"
   ]
  },
  {
   "cell_type": "code",
   "execution_count": 29,
   "id": "30244e77-0724-482c-a90e-f597e602ed81",
   "metadata": {},
   "outputs": [],
   "source": [
    "# define the ```FrenchDeck``` class"
   ]
  },
  {
   "cell_type": "code",
   "execution_count": 36,
   "id": "437638b0-6f19-43b8-8481-1247200a43c7",
   "metadata": {},
   "outputs": [],
   "source": [
    "class FrenchDeck:\n",
    "    ranks = ranks = [str(n) for n in range(2,11)] + list('JQKA')\n",
    "    suits = 'spades diamonds clubs hearts'.split()\n",
    "    \n",
    "    def __init__(self):\n",
    "        self._cards = [Card(rank, suit) \n",
    "                       for suit in self.suits\n",
    "                       for rank in self.ranks]\n",
    "        \n",
    "    def __len__(self):\n",
    "        return len(self._cards)\n",
    "    \n",
    "    def __getitem__(self, pos):\n",
    "        return self._cards[pos]"
   ]
  },
  {
   "cell_type": "code",
   "execution_count": 37,
   "id": "0fd3e63f-eccd-4bc4-91f9-aae74cedf406",
   "metadata": {},
   "outputs": [],
   "source": [
    "deck = FrenchDeck()"
   ]
  },
  {
   "cell_type": "code",
   "execution_count": 38,
   "id": "d3917cb6-0c46-4604-81c3-4566d4c41846",
   "metadata": {},
   "outputs": [],
   "source": [
    "# use len due to ```__len__```"
   ]
  },
  {
   "cell_type": "code",
   "execution_count": 39,
   "id": "1e64f1b0-c170-46be-8b1d-48da81f806a3",
   "metadata": {},
   "outputs": [
    {
     "data": {
      "text/plain": [
       "52"
      ]
     },
     "execution_count": 39,
     "metadata": {},
     "output_type": "execute_result"
    }
   ],
   "source": [
    "len(deck)"
   ]
  },
  {
   "cell_type": "code",
   "execution_count": 40,
   "id": "f1be487c-b499-4530-b70a-40956df815d2",
   "metadata": {},
   "outputs": [],
   "source": [
    "# use index due to ```__getitem__```"
   ]
  },
  {
   "cell_type": "code",
   "execution_count": 41,
   "id": "df0793ef-f36d-48b9-add2-066ded023821",
   "metadata": {},
   "outputs": [
    {
     "data": {
      "text/plain": [
       "Card(rank='2', suit='spades')"
      ]
     },
     "execution_count": 41,
     "metadata": {},
     "output_type": "execute_result"
    }
   ],
   "source": [
    "deck[0]"
   ]
  },
  {
   "cell_type": "code",
   "execution_count": 12,
   "id": "d6b3c9fb-26ef-485c-9270-4a387a6f603d",
   "metadata": {},
   "outputs": [
    {
     "data": {
      "text/plain": [
       "Card(rank='A', suit='hearts')"
      ]
     },
     "execution_count": 12,
     "metadata": {},
     "output_type": "execute_result"
    }
   ],
   "source": [
    "deck[-1]"
   ]
  },
  {
   "cell_type": "code",
   "execution_count": 42,
   "id": "04bd38a5-4e19-4d8b-b45c-3d3791a4d468",
   "metadata": {},
   "outputs": [],
   "source": [
    "# Because the deck is a sequence,\n",
    "# to pick a random card,\n",
    "# we can use random.chice."
   ]
  },
  {
   "cell_type": "code",
   "execution_count": 13,
   "id": "124257cf-f334-4f3c-bf97-b852acf7bcbb",
   "metadata": {},
   "outputs": [],
   "source": [
    "from random import choice"
   ]
  },
  {
   "cell_type": "code",
   "execution_count": 14,
   "id": "e3ccc0a6-bdeb-4b85-9dcc-196cd46243dc",
   "metadata": {},
   "outputs": [
    {
     "data": {
      "text/plain": [
       "Card(rank='2', suit='spades')"
      ]
     },
     "execution_count": 14,
     "metadata": {},
     "output_type": "execute_result"
    }
   ],
   "source": [
    "choice(deck)"
   ]
  },
  {
   "cell_type": "code",
   "execution_count": 15,
   "id": "a5084083-f450-4bc5-a848-b643a279332b",
   "metadata": {},
   "outputs": [
    {
     "data": {
      "text/plain": [
       "Card(rank='2', suit='diamonds')"
      ]
     },
     "execution_count": 15,
     "metadata": {},
     "output_type": "execute_result"
    }
   ],
   "source": [
    "choice(deck)"
   ]
  },
  {
   "cell_type": "code",
   "execution_count": 16,
   "id": "91fc6c3c-b547-434b-980c-bcc7cd6ac9a8",
   "metadata": {},
   "outputs": [
    {
     "data": {
      "text/plain": [
       "Card(rank='8', suit='hearts')"
      ]
     },
     "execution_count": 16,
     "metadata": {},
     "output_type": "execute_result"
    }
   ],
   "source": [
    "choice(deck)"
   ]
  },
  {
   "cell_type": "code",
   "execution_count": 43,
   "id": "6737d3c7-1691-4a68-8282-2cefe8d14607",
   "metadata": {},
   "outputs": [],
   "source": [
    "# use slicing"
   ]
  },
  {
   "cell_type": "code",
   "execution_count": 26,
   "id": "d800a9ec-1e9b-4b7e-9a1a-4cce1e24ab41",
   "metadata": {},
   "outputs": [
    {
     "data": {
      "text/plain": [
       "[Card(rank='2', suit='spades'),\n",
       " Card(rank='3', suit='spades'),\n",
       " Card(rank='4', suit='spades')]"
      ]
     },
     "execution_count": 26,
     "metadata": {},
     "output_type": "execute_result"
    }
   ],
   "source": [
    "deck[:3]"
   ]
  },
  {
   "cell_type": "code",
   "execution_count": 27,
   "id": "47bac8f8-b32f-429c-be3f-d48d1523f871",
   "metadata": {},
   "outputs": [
    {
     "data": {
      "text/plain": [
       "[Card(rank='A', suit='spades'),\n",
       " Card(rank='A', suit='diamonds'),\n",
       " Card(rank='A', suit='clubs'),\n",
       " Card(rank='A', suit='hearts')]"
      ]
     },
     "execution_count": 27,
     "metadata": {},
     "output_type": "execute_result"
    }
   ],
   "source": [
    "deck[12::13]"
   ]
  },
  {
   "cell_type": "code",
   "execution_count": 28,
   "id": "7bdc65b1-d66c-4c3a-866f-67d330925629",
   "metadata": {},
   "outputs": [],
   "source": [
    "# our deck is iterable"
   ]
  },
  {
   "cell_type": "code",
   "execution_count": 44,
   "id": "238797a8-7d9e-454b-a47b-fb85530669ab",
   "metadata": {},
   "outputs": [
    {
     "name": "stdout",
     "output_type": "stream",
     "text": [
      "Card(rank='2', suit='spades')\n",
      "Card(rank='3', suit='spades')\n",
      "Card(rank='4', suit='spades')\n",
      "Card(rank='5', suit='spades')\n",
      "Card(rank='6', suit='spades')\n"
     ]
    }
   ],
   "source": [
    "for card in deck[:5]:\n",
    "    print(card)"
   ]
  },
  {
   "cell_type": "code",
   "execution_count": 46,
   "id": "6a7a9c2f-9442-4ea2-a7ea-b68680930a74",
   "metadata": {},
   "outputs": [
    {
     "name": "stdout",
     "output_type": "stream",
     "text": [
      "Card(rank='A', suit='hearts')\n",
      "Card(rank='K', suit='hearts')\n",
      "Card(rank='Q', suit='hearts')\n",
      "Card(rank='J', suit='hearts')\n",
      "Card(rank='10', suit='hearts')\n"
     ]
    }
   ],
   "source": [
    "for card in list(reversed(deck))[:5]:\n",
    "    print(card)"
   ]
  },
  {
   "cell_type": "code",
   "execution_count": 50,
   "id": "c3019647-2ac8-4ce0-bdc3-26e5debc9969",
   "metadata": {},
   "outputs": [],
   "source": [
    "# The ```in``` operator does a sequence scan."
   ]
  },
  {
   "cell_type": "code",
   "execution_count": 48,
   "id": "10cacde2-d357-4b8c-90bb-a340161c8294",
   "metadata": {},
   "outputs": [
    {
     "data": {
      "text/plain": [
       "True"
      ]
     },
     "execution_count": 48,
     "metadata": {},
     "output_type": "execute_result"
    }
   ],
   "source": [
    "Card('Q', 'hearts') in deck"
   ]
  },
  {
   "cell_type": "code",
   "execution_count": 49,
   "id": "0c3b39c2-bc68-404b-9e0a-b2b41e0fb86d",
   "metadata": {},
   "outputs": [
    {
     "data": {
      "text/plain": [
       "False"
      ]
     },
     "execution_count": 49,
     "metadata": {},
     "output_type": "execute_result"
    }
   ],
   "source": [
    "Card('7', 'beasts') in deck"
   ]
  },
  {
   "cell_type": "code",
   "execution_count": null,
   "id": "80d80c3e-6c71-413f-b7ea-f515d19ac7b1",
   "metadata": {},
   "outputs": [],
   "source": []
  },
  {
   "cell_type": "code",
   "execution_count": null,
   "id": "9ff56d8f-08e7-45fa-a7fb-c8399c094ad4",
   "metadata": {},
   "outputs": [],
   "source": []
  }
 ],
 "metadata": {
  "kernelspec": {
   "display_name": "Python 3 (ipykernel)",
   "language": "python",
   "name": "python3"
  },
  "language_info": {
   "codemirror_mode": {
    "name": "ipython",
    "version": 3
   },
   "file_extension": ".py",
   "mimetype": "text/x-python",
   "name": "python",
   "nbconvert_exporter": "python",
   "pygments_lexer": "ipython3",
   "version": "3.10.6"
  }
 },
 "nbformat": 4,
 "nbformat_minor": 5
}
