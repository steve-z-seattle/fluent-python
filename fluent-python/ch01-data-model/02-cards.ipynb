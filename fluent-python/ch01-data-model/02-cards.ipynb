{
 "cells": [
  {
   "cell_type": "code",
   "execution_count": 1,
   "id": "bf09cdb0-6dfb-4436-9e57-467c5eea13d2",
   "metadata": {},
   "outputs": [],
   "source": [
    "import collections\n",
    "from random import shuffle"
   ]
  },
  {
   "cell_type": "code",
   "execution_count": 2,
   "id": "abbe2616-86aa-464d-bf01-6574febc0b1b",
   "metadata": {},
   "outputs": [],
   "source": [
    "# define Card using ``namedtuple``"
   ]
  },
  {
   "cell_type": "code",
   "execution_count": 3,
   "id": "e6e24d43-cf75-4c23-8559-41a6ef80b3b9",
   "metadata": {},
   "outputs": [],
   "source": [
    "Card = collections.namedtuple('Card', ['rank', 'suit'])"
   ]
  },
  {
   "cell_type": "code",
   "execution_count": 4,
   "id": "30244e77-0724-482c-a90e-f597e602ed81",
   "metadata": {},
   "outputs": [],
   "source": [
    "# define the ```FrenchDeck``` class"
   ]
  },
  {
   "cell_type": "code",
   "execution_count": 5,
   "id": "437638b0-6f19-43b8-8481-1247200a43c7",
   "metadata": {},
   "outputs": [],
   "source": [
    "class FrenchDeck:\n",
    "    ranks = ranks = [str(n) for n in range(2,11)] + list('JQKA')\n",
    "    suits = 'spades diamonds clubs hearts'.split()\n",
    "    \n",
    "    def __init__(self):\n",
    "        self._cards = [Card(rank, suit) \n",
    "                       for suit in self.suits\n",
    "                       for rank in self.ranks]\n",
    "        \n",
    "    def __len__(self):\n",
    "        return len(self._cards)\n",
    "    \n",
    "    def __getitem__(self, pos):\n",
    "        return self._cards[pos]    \n",
    "    \n",
    "    def __setitem__(self, pos, card):\n",
    "        self._cards[pos] = card"
   ]
  },
  {
   "cell_type": "code",
   "execution_count": 6,
   "id": "0fd3e63f-eccd-4bc4-91f9-aae74cedf406",
   "metadata": {},
   "outputs": [],
   "source": [
    "deck = FrenchDeck()"
   ]
  },
  {
   "cell_type": "code",
   "execution_count": 7,
   "id": "d3917cb6-0c46-4604-81c3-4566d4c41846",
   "metadata": {},
   "outputs": [],
   "source": [
    "# use len due to ```__len__```"
   ]
  },
  {
   "cell_type": "code",
   "execution_count": 8,
   "id": "1e64f1b0-c170-46be-8b1d-48da81f806a3",
   "metadata": {},
   "outputs": [
    {
     "data": {
      "text/plain": [
       "52"
      ]
     },
     "execution_count": 8,
     "metadata": {},
     "output_type": "execute_result"
    }
   ],
   "source": [
    "len(deck)"
   ]
  },
  {
   "cell_type": "code",
   "execution_count": 9,
   "id": "f1be487c-b499-4530-b70a-40956df815d2",
   "metadata": {},
   "outputs": [],
   "source": [
    "# use index due to ```__getitem__```"
   ]
  },
  {
   "cell_type": "code",
   "execution_count": 10,
   "id": "df0793ef-f36d-48b9-add2-066ded023821",
   "metadata": {},
   "outputs": [
    {
     "data": {
      "text/plain": [
       "Card(rank='2', suit='spades')"
      ]
     },
     "execution_count": 10,
     "metadata": {},
     "output_type": "execute_result"
    }
   ],
   "source": [
    "deck[0]"
   ]
  },
  {
   "cell_type": "code",
   "execution_count": 11,
   "id": "d6b3c9fb-26ef-485c-9270-4a387a6f603d",
   "metadata": {},
   "outputs": [
    {
     "data": {
      "text/plain": [
       "Card(rank='A', suit='hearts')"
      ]
     },
     "execution_count": 11,
     "metadata": {},
     "output_type": "execute_result"
    }
   ],
   "source": [
    "deck[-1]"
   ]
  },
  {
   "cell_type": "code",
   "execution_count": 12,
   "id": "ee9a12c3-8699-4c82-a690-a2e7f5a292ca",
   "metadata": {},
   "outputs": [],
   "source": [
    "# shuffle\n",
    "# this calls ``__setitem__`` as shuffle is in-place."
   ]
  },
  {
   "cell_type": "code",
   "execution_count": 13,
   "id": "cb64c0e4-fcfc-41f4-9632-1abbc431bed2",
   "metadata": {},
   "outputs": [
    {
     "data": {
      "text/plain": [
       "[Card(rank='2', suit='spades'),\n",
       " Card(rank='3', suit='spades'),\n",
       " Card(rank='4', suit='spades'),\n",
       " Card(rank='5', suit='spades'),\n",
       " Card(rank='6', suit='spades')]"
      ]
     },
     "execution_count": 13,
     "metadata": {},
     "output_type": "execute_result"
    }
   ],
   "source": [
    "deck[:5]"
   ]
  },
  {
   "cell_type": "code",
   "execution_count": 14,
   "id": "924317ee-a6aa-4124-8b21-11f8086cc27f",
   "metadata": {},
   "outputs": [],
   "source": [
    "shuffle(deck)"
   ]
  },
  {
   "cell_type": "code",
   "execution_count": 15,
   "id": "3e12f039-d264-453b-bd03-69408d4e0380",
   "metadata": {},
   "outputs": [
    {
     "data": {
      "text/plain": [
       "[Card(rank='9', suit='spades'),\n",
       " Card(rank='2', suit='clubs'),\n",
       " Card(rank='4', suit='hearts'),\n",
       " Card(rank='6', suit='spades'),\n",
       " Card(rank='8', suit='diamonds')]"
      ]
     },
     "execution_count": 15,
     "metadata": {},
     "output_type": "execute_result"
    }
   ],
   "source": [
    "deck[:5]"
   ]
  },
  {
   "cell_type": "code",
   "execution_count": null,
   "id": "61514ee5-38b4-48e2-87b9-512d64f611ac",
   "metadata": {},
   "outputs": [],
   "source": []
  }
 ],
 "metadata": {
  "kernelspec": {
   "display_name": "Python 3 (ipykernel)",
   "language": "python",
   "name": "python3"
  },
  "language_info": {
   "codemirror_mode": {
    "name": "ipython",
    "version": 3
   },
   "file_extension": ".py",
   "mimetype": "text/x-python",
   "name": "python",
   "nbconvert_exporter": "python",
   "pygments_lexer": "ipython3",
   "version": "3.10.6"
  }
 },
 "nbformat": 4,
 "nbformat_minor": 5
}
