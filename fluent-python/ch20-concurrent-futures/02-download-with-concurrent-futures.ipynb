{
 "cells": [
  {
   "cell_type": "code",
   "execution_count": 4,
   "id": "a22a7d92-21d3-48b3-a8f2-02f6aa4796f7",
   "metadata": {},
   "outputs": [],
   "source": [
    "from concurrent import futures"
   ]
  },
  {
   "cell_type": "code",
   "execution_count": 5,
   "id": "dfead28c-3b7b-4ad1-b1e0-39b59fc735e5",
   "metadata": {},
   "outputs": [],
   "source": [
    "import time\n",
    "from pathlib import Path\n",
    "from typing import Callable"
   ]
  },
  {
   "cell_type": "code",
   "execution_count": 6,
   "id": "577cf63c-615d-4fa4-8079-3bc10cca12ba",
   "metadata": {},
   "outputs": [],
   "source": [
    "import httpx"
   ]
  },
  {
   "cell_type": "code",
   "execution_count": 7,
   "id": "1364fe47-63df-421b-9c96-48b5d9242b8b",
   "metadata": {},
   "outputs": [],
   "source": [
    "POP20_CC = ('CN IN US ID BR PK NG BD RU JP '\n",
    "            'MX PH VN ET EG DE IR TR CD FR').split(' ')"
   ]
  },
  {
   "cell_type": "code",
   "execution_count": 8,
   "id": "cdb3e0f9-1f2a-4864-8a1c-d215e93a55c6",
   "metadata": {},
   "outputs": [],
   "source": [
    "BASE_URL = 'https://www.fluentpython.com/data/flags'"
   ]
  },
  {
   "cell_type": "code",
   "execution_count": 9,
   "id": "9da6db13-5a49-4315-a23c-97109e690d26",
   "metadata": {},
   "outputs": [],
   "source": [
    "DESC_DIR = Path('downloaded')"
   ]
  },
  {
   "cell_type": "code",
   "execution_count": 16,
   "id": "e5b2137e-643f-40e8-b077-359c2e592ed6",
   "metadata": {},
   "outputs": [],
   "source": [
    "def save_flag(img: bytes, filename: str) -> None:\n",
    "    (DESC_DIR / filename).write_bytes(img)"
   ]
  },
  {
   "cell_type": "code",
   "execution_count": 11,
   "id": "78f54fa8-bfd0-4def-8721-14845968ed08",
   "metadata": {},
   "outputs": [],
   "source": [
    "def get_flag(cc: str) -> bytes:\n",
    "    url = f'{BASE_URL}/{cc}/{cc}.gif'.lower()\n",
    "    resp = httpx.get(url, timeout=6.1, follow_redirects=True, verify=False)\n",
    "    resp.raise_for_status()\n",
    "    return resp.content"
   ]
  },
  {
   "cell_type": "code",
   "execution_count": 17,
   "id": "b761580d-8fa3-4e5c-bc39-de714361ba67",
   "metadata": {},
   "outputs": [],
   "source": [
    "def download_many(cc_list: list[str]) -> int:\n",
    "    for cc in sorted(cc_list):\n",
    "        image = get_flag(cc)\n",
    "        save_flag(image, f'{cc}.gif')\n",
    "        print(cc, end=' ', flush=True)\n",
    "    return len(cc_list)"
   ]
  },
  {
   "cell_type": "code",
   "execution_count": 13,
   "id": "f13cbbc9-05c1-4d37-be70-3db9b14b8f67",
   "metadata": {},
   "outputs": [],
   "source": [
    "def main(downloader: Callable[[list[str]], int]) -> None:\n",
    "    DESC_DIR.mkdir(exist_ok=True)\n",
    "    t0 = time.perf_counter()\n",
    "    count = download_many(POP20_CC)\n",
    "    elapsed = time.perf_counter() - t0\n",
    "    print(f'\\n{count} downloads in {elapsed:.2f}s')"
   ]
  },
  {
   "cell_type": "code",
   "execution_count": 14,
   "id": "aba80d4e-af77-4c35-b756-61021295986f",
   "metadata": {},
   "outputs": [],
   "source": [
    "# main(download_many)"
   ]
  },
  {
   "cell_type": "markdown",
   "id": "c9767684-6479-48a2-88a2-5e55f886001a",
   "metadata": {},
   "source": [
    "## ThreadPoolExecutor"
   ]
  },
  {
   "cell_type": "code",
   "execution_count": 15,
   "id": "5d7a5adc-9aab-4227-ad8c-5343e18c226e",
   "metadata": {},
   "outputs": [],
   "source": [
    "# redefine download_many"
   ]
  },
  {
   "cell_type": "code",
   "execution_count": 39,
   "id": "02e9039e-6d2d-4ee2-87e5-d8265e814e1a",
   "metadata": {},
   "outputs": [],
   "source": [
    "def download_one(cc: str) -> str:\n",
    "    image = get_flag(cc)\n",
    "    save_flag(image, f'{cc}.gif')\n",
    "    print(cc, end=' ', flush=True)\n",
    "    return cc"
   ]
  },
  {
   "cell_type": "code",
   "execution_count": 55,
   "id": "a2991689-14f0-47be-9da4-9ed73a202e60",
   "metadata": {},
   "outputs": [],
   "source": [
    "def download_many(cc_list: list[str]) -> int:\n",
    "    with futures.ThreadPoolExecutor() as executor:\n",
    "        # `download_one' will be called concurrently by executor.map.\n",
    "        res = executor.map(download_one, sorted(cc_list))\n",
    "    return len(list(res))"
   ]
  },
  {
   "cell_type": "code",
   "execution_count": 56,
   "id": "5a84c7dc-9075-49b3-b81b-e83efc4ed448",
   "metadata": {},
   "outputs": [
    {
     "name": "stdout",
     "output_type": "stream",
     "text": [
      "FR BDNG  ID PKDE  IR BRIN  CN PH ET EGCD  JP MX RU TRUS  VN \n",
      "20 downloads in 0.32s\n"
     ]
    }
   ],
   "source": [
    "main(download_many)"
   ]
  },
  {
   "cell_type": "code",
   "execution_count": 64,
   "id": "aa603ebd-d403-4da1-b09f-dc675b6d7f76",
   "metadata": {},
   "outputs": [],
   "source": [
    "# download_many take #2"
   ]
  },
  {
   "cell_type": "code",
   "execution_count": 53,
   "id": "e23f077d-3ff0-4041-925b-d30568677738",
   "metadata": {},
   "outputs": [],
   "source": [
    "def download_many(cc_list: list[str]) -> int:\n",
    "    cc_list = cc_list[:5]\n",
    "    with futures.ThreadPoolExecutor(max_workers=3) as executor:\n",
    "        to_do: list[futures.Future] = []\n",
    "        for cc in sorted(cc_list):\n",
    "            future = executor.submit(download_one, cc)\n",
    "            to_do.append(future)\n",
    "            print(f'Scheduled for {cc}: {future}')\n",
    "            \n",
    "        # None of the calls in `download_many' is blocking\n",
    "        # as as_completed yields futures one by one,\n",
    "        # in the order they finishe.\n",
    "        for count, future in enumerate(futures.as_completed(to_do), 1):\n",
    "            res: str = future.result()\n",
    "            print(f'{future} result: {res!r}')\n",
    "    \n",
    "    return count"
   ]
  },
  {
   "cell_type": "code",
   "execution_count": 54,
   "id": "88a84f40-f2b8-4ddb-b6d9-24d1c723551c",
   "metadata": {},
   "outputs": [
    {
     "name": "stdout",
     "output_type": "stream",
     "text": [
      "Scheduled for BR: <Future at 0x10b3b6590 state=running>\n",
      "Scheduled for CN: <Future at 0x10addbd90 state=running>\n",
      "Scheduled for ID: <Future at 0x10ba35e40 state=running>\n",
      "Scheduled for IN: <Future at 0x10ae58400 state=pending>\n",
      "Scheduled for US: <Future at 0x10ba365c0 state=pending>\n",
      "ID <Future at 0x10ba35e40 state=finished returned str> result: 'ID'\n",
      "BR <Future at 0x10b3b6590 state=finished returned str> result: 'BR'\n",
      "CN <Future at 0x10addbd90 state=finished returned str> result: 'CN'\n",
      "IN <Future at 0x10ae58400 state=finished returned str> result: 'IN'\n",
      "US <Future at 0x10ba365c0 state=finished returned str> result: 'US'\n",
      "\n",
      "5 downloads in 0.21s\n"
     ]
    }
   ],
   "source": [
    "main(download_many)"
   ]
  },
  {
   "cell_type": "code",
   "execution_count": 52,
   "id": "f440f1bc-4f3c-4001-8a50-d27be471ccf2",
   "metadata": {},
   "outputs": [],
   "source": [
    "# Note:\n",
    "# US IN will always be the last two.\n",
    "# If we set max_worker to be 1, it will run sequencially."
   ]
  },
  {
   "cell_type": "markdown",
   "id": "6202f7ae-0af6-45bb-8776-544e6017e2fb",
   "metadata": {},
   "source": [
    "## ProcessPoolExecutor"
   ]
  },
  {
   "cell_type": "code",
   "execution_count": 63,
   "id": "ecd9e673-52e5-4d7c-81d4-79862e1877fe",
   "metadata": {},
   "outputs": [],
   "source": [
    "# redefine download_many"
   ]
  },
  {
   "cell_type": "code",
   "execution_count": 61,
   "id": "b0d16e33-3a43-434b-9925-27e38e701caf",
   "metadata": {},
   "outputs": [],
   "source": [
    "def download_many(cc_list: list[str]) -> int:\n",
    "    with futures.ProcessPoolExecutor() as executor:\n",
    "        # `download_one' will be called concurrently by executor.map.\n",
    "        res = executor.map(download_one, sorted(cc_list))\n",
    "    return len(list(res))"
   ]
  },
  {
   "cell_type": "code",
   "execution_count": 62,
   "id": "a51283dd-6eaa-4849-90cd-a06ecdd19e7d",
   "metadata": {},
   "outputs": [],
   "source": [
    "# main(download_many)"
   ]
  },
  {
   "cell_type": "code",
   "execution_count": null,
   "id": "3fe6f8f4-1a1f-41bc-8b8c-ce005e830e66",
   "metadata": {},
   "outputs": [],
   "source": []
  }
 ],
 "metadata": {
  "kernelspec": {
   "display_name": "Python 3 (ipykernel)",
   "language": "python",
   "name": "python3"
  },
  "language_info": {
   "codemirror_mode": {
    "name": "ipython",
    "version": 3
   },
   "file_extension": ".py",
   "mimetype": "text/x-python",
   "name": "python",
   "nbconvert_exporter": "python",
   "pygments_lexer": "ipython3",
   "version": "3.10.6"
  }
 },
 "nbformat": 4,
 "nbformat_minor": 5
}
