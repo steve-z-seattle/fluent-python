{
 "cells": [
  {
   "cell_type": "code",
   "execution_count": 1,
   "id": "dfead28c-3b7b-4ad1-b1e0-39b59fc735e5",
   "metadata": {},
   "outputs": [],
   "source": [
    "import time\n",
    "from pathlib import Path\n",
    "from typing import Callable"
   ]
  },
  {
   "cell_type": "code",
   "execution_count": 2,
   "id": "577cf63c-615d-4fa4-8079-3bc10cca12ba",
   "metadata": {},
   "outputs": [],
   "source": [
    "import httpx"
   ]
  },
  {
   "cell_type": "code",
   "execution_count": 3,
   "id": "1364fe47-63df-421b-9c96-48b5d9242b8b",
   "metadata": {},
   "outputs": [],
   "source": [
    "POP20_CC = ('CN IN US ID BR PK NG BD RU JP '\n",
    "            'MX PH VN ET EG DE IR TR CD FR').split(' ')"
   ]
  },
  {
   "cell_type": "code",
   "execution_count": 4,
   "id": "cdb3e0f9-1f2a-4864-8a1c-d215e93a55c6",
   "metadata": {},
   "outputs": [],
   "source": [
    "BASE_URL = 'https://www.fluentpython.com/data/flags'"
   ]
  },
  {
   "cell_type": "code",
   "execution_count": 5,
   "id": "9da6db13-5a49-4315-a23c-97109e690d26",
   "metadata": {},
   "outputs": [],
   "source": [
    "DESC_DIR = Path('downloaded')"
   ]
  },
  {
   "cell_type": "code",
   "execution_count": 6,
   "id": "e5b2137e-643f-40e8-b077-359c2e592ed6",
   "metadata": {},
   "outputs": [],
   "source": [
    "def save_flags(img: bytes, filename: str) -> None:\n",
    "    (DESC_DIR / filename).write_bytes(img)"
   ]
  },
  {
   "cell_type": "code",
   "execution_count": 16,
   "id": "78f54fa8-bfd0-4def-8721-14845968ed08",
   "metadata": {},
   "outputs": [],
   "source": [
    "def get_flag(cc: str) -> bytes:\n",
    "    url = f'{BASE_URL}/{cc}/{cc}.gif'.lower()\n",
    "    resp = httpx.get(url, timeout=6.1, follow_redirects=True, verify=False)\n",
    "    resp.raise_for_status()\n",
    "    return resp.content"
   ]
  },
  {
   "cell_type": "code",
   "execution_count": 17,
   "id": "b761580d-8fa3-4e5c-bc39-de714361ba67",
   "metadata": {},
   "outputs": [],
   "source": [
    "def download_many(cc_list: list[str]) -> int:\n",
    "    for cc in sorted(cc_list):\n",
    "        image = get_flag(cc)\n",
    "        save_flags(image, f'{cc}.gif')\n",
    "        print(cc, end=' ', flush=True)\n",
    "    return len(cc_list)"
   ]
  },
  {
   "cell_type": "code",
   "execution_count": 18,
   "id": "f13cbbc9-05c1-4d37-be70-3db9b14b8f67",
   "metadata": {},
   "outputs": [],
   "source": [
    "def main(downloader: Callable[[list[str]], int]) -> None:\n",
    "    DESC_DIR.mkdir(exist_ok=True)\n",
    "    t0 = time.perf_counter()\n",
    "    count = download_many(POP20_CC)\n",
    "    elapsed = time.perf_counter() - t0\n",
    "    print(f'\\n{count} downloads in {elapsed:.2f}s')"
   ]
  },
  {
   "cell_type": "code",
   "execution_count": 20,
   "id": "aba80d4e-af77-4c35-b756-61021295986f",
   "metadata": {},
   "outputs": [
    {
     "name": "stdout",
     "output_type": "stream",
     "text": [
      "BD BR CD CN DE EG ET FR ID IN IR JP MX NG PH PK RU TR US VN \n",
      "20 downloads in 2.72s\n"
     ]
    }
   ],
   "source": [
    "main(download_many)"
   ]
  },
  {
   "cell_type": "code",
   "execution_count": null,
   "id": "5d7a5adc-9aab-4227-ad8c-5343e18c226e",
   "metadata": {},
   "outputs": [],
   "source": []
  }
 ],
 "metadata": {
  "kernelspec": {
   "display_name": "Python 3 (ipykernel)",
   "language": "python",
   "name": "python3"
  },
  "language_info": {
   "codemirror_mode": {
    "name": "ipython",
    "version": 3
   },
   "file_extension": ".py",
   "mimetype": "text/x-python",
   "name": "python",
   "nbconvert_exporter": "python",
   "pygments_lexer": "ipython3",
   "version": "3.10.6"
  }
 },
 "nbformat": 4,
 "nbformat_minor": 5
}
