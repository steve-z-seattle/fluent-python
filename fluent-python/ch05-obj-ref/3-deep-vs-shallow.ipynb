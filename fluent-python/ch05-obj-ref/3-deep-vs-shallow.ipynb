{
 "cells": [
  {
   "cell_type": "code",
   "execution_count": 1,
   "id": "5ce50c61-fda0-45c6-a94e-1b3ef13e84cc",
   "metadata": {},
   "outputs": [],
   "source": [
    "# copy.copy vs copy.deepcopy"
   ]
  },
  {
   "cell_type": "code",
   "execution_count": 2,
   "id": "fb0b60fd-639b-4a7f-be73-e5cb4b56b27d",
   "metadata": {},
   "outputs": [],
   "source": [
    "class Bus:\n",
    "    def __init__(self, passengers=None):\n",
    "        if passengers is None:\n",
    "            self.passengers = []\n",
    "        else:\n",
    "            self.passengers = list(passengers)\n",
    "            \n",
    "    def pick(self, name):\n",
    "        self.passengers.append(name)\n",
    "        \n",
    "    def drop(self, name):\n",
    "        self.passengers.remove(name)"
   ]
  },
  {
   "cell_type": "code",
   "execution_count": 3,
   "id": "681ec937-ed98-41f5-8d32-d4e5025fd50e",
   "metadata": {},
   "outputs": [],
   "source": [
    "import copy"
   ]
  },
  {
   "cell_type": "code",
   "execution_count": 8,
   "id": "fd9e935f-baa2-4f1e-9c32-31f924dd3863",
   "metadata": {},
   "outputs": [],
   "source": [
    "bus1 = Bus(['Alice', 'Bill', 'Claire', 'David'])"
   ]
  },
  {
   "cell_type": "code",
   "execution_count": 9,
   "id": "0d2051ca-6570-4480-bbd2-0f18ca628f20",
   "metadata": {},
   "outputs": [],
   "source": [
    "bus2 = copy.copy(bus1)\n",
    "bus3 = copy.deepcopy(bus1)"
   ]
  },
  {
   "cell_type": "code",
   "execution_count": 11,
   "id": "ed979f55-1599-487a-be19-cab6d58e7a99",
   "metadata": {},
   "outputs": [],
   "source": [
    "# we created 3 distinct Bus instances"
   ]
  },
  {
   "cell_type": "code",
   "execution_count": 12,
   "id": "2cddaef9-81c4-44e9-acb5-88bd6956629e",
   "metadata": {},
   "outputs": [
    {
     "data": {
      "text/plain": [
       "(4366564848, 4366313664, 4366554960)"
      ]
     },
     "execution_count": 12,
     "metadata": {},
     "output_type": "execute_result"
    }
   ],
   "source": [
    "id(bus1), id(bus2), id(bus3)"
   ]
  },
  {
   "cell_type": "code",
   "execution_count": 13,
   "id": "bee198b3-b319-4d18-88d3-3e5361e40c87",
   "metadata": {},
   "outputs": [
    {
     "data": {
      "text/plain": [
       "['Alice', 'Claire', 'David']"
      ]
     },
     "execution_count": 13,
     "metadata": {},
     "output_type": "execute_result"
    }
   ],
   "source": [
    "bus1.drop('Bill')\n",
    "bus1.passengers"
   ]
  },
  {
   "cell_type": "code",
   "execution_count": 14,
   "id": "0b0db10e-b26d-4ee6-ac23-e9116c9690a5",
   "metadata": {},
   "outputs": [
    {
     "data": {
      "text/plain": [
       "['Alice', 'Claire', 'David']"
      ]
     },
     "execution_count": 14,
     "metadata": {},
     "output_type": "execute_result"
    }
   ],
   "source": [
    "bus2.passengers"
   ]
  },
  {
   "cell_type": "code",
   "execution_count": 15,
   "id": "05a52b0d-7c41-4283-926a-bfd5a34760eb",
   "metadata": {},
   "outputs": [
    {
     "data": {
      "text/plain": [
       "(4365223360, 4365223360, 4360484480)"
      ]
     },
     "execution_count": 15,
     "metadata": {},
     "output_type": "execute_result"
    }
   ],
   "source": [
    "id(bus1.passengers), id(bus2.passengers), id(bus3.passengers)"
   ]
  },
  {
   "cell_type": "code",
   "execution_count": 16,
   "id": "785a7df3-fb9e-40ec-99ab-3d84664c3aac",
   "metadata": {},
   "outputs": [
    {
     "data": {
      "text/plain": [
       "['Alice', 'Bill', 'Claire', 'David']"
      ]
     },
     "execution_count": 16,
     "metadata": {},
     "output_type": "execute_result"
    }
   ],
   "source": [
    "bus3.passengers"
   ]
  },
  {
   "cell_type": "code",
   "execution_count": null,
   "id": "6403f29c-20af-469a-b1e2-e988ecd4b87a",
   "metadata": {},
   "outputs": [],
   "source": []
  }
 ],
 "metadata": {
  "kernelspec": {
   "display_name": "Python 3 (ipykernel)",
   "language": "python",
   "name": "python3"
  },
  "language_info": {
   "codemirror_mode": {
    "name": "ipython",
    "version": 3
   },
   "file_extension": ".py",
   "mimetype": "text/x-python",
   "name": "python",
   "nbconvert_exporter": "python",
   "pygments_lexer": "ipython3",
   "version": "3.10.6"
  }
 },
 "nbformat": 4,
 "nbformat_minor": 5
}
