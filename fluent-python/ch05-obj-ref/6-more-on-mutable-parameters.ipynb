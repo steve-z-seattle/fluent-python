{
 "cells": [
  {
   "cell_type": "code",
   "execution_count": 1,
   "id": "ea4dabc2-f054-4149-a28a-fdda4335221c",
   "metadata": {},
   "outputs": [],
   "source": [
    "# Defensive programming with mutable parameters"
   ]
  },
  {
   "cell_type": "code",
   "execution_count": 2,
   "id": "bdf7ecaf-9a3f-4595-a295-fbbd19d7a430",
   "metadata": {},
   "outputs": [],
   "source": [
    "class TwilightBus:\n",
    "    def __init__(self, passengers=None):\n",
    "        if passengers is None:\n",
    "            self.passengers = []\n",
    "        else:\n",
    "            self.passengers = passengers\n",
    "            \n",
    "    def pick(self, name):\n",
    "        self.passengers.append(name)\n",
    "        \n",
    "    def drop(self, name):\n",
    "        self.passengers.remove(name)"
   ]
  },
  {
   "cell_type": "code",
   "execution_count": 3,
   "id": "49cd2595-c4ed-4925-87b8-01dd19e679be",
   "metadata": {},
   "outputs": [
    {
     "data": {
      "text/plain": [
       "['Sue', 'Maya', 'Diana']"
      ]
     },
     "execution_count": 3,
     "metadata": {},
     "output_type": "execute_result"
    }
   ],
   "source": [
    "basketball_team = ['Sue', 'Tina', 'Maya', 'Diana', 'Pat']\n",
    "bus = TwilightBus(basketball_team)\n",
    "bus.drop('Tina')\n",
    "bus.drop('Pat')\n",
    "basketball_team"
   ]
  },
  {
   "cell_type": "code",
   "execution_count": 4,
   "id": "fe0e6ee4-717d-4221-95c5-d63416c4a3e5",
   "metadata": {},
   "outputs": [],
   "source": [
    "# the right thing is to make a copy of the mutable parameters"
   ]
  },
  {
   "cell_type": "code",
   "execution_count": 5,
   "id": "6c0405be-2f56-43be-9fc0-e34629245567",
   "metadata": {},
   "outputs": [],
   "source": [
    "def __init__(self, passengers=None):\n",
    "    if passengers is None:\n",
    "        self.passengers = []\n",
    "    else:\n",
    "        self.passengers = list(passengers)"
   ]
  },
  {
   "cell_type": "code",
   "execution_count": 6,
   "id": "fd26b964-4437-448c-97c5-9f3b2fa5e3ac",
   "metadata": {},
   "outputs": [],
   "source": [
    "TwilightBus.__init__ = __init__"
   ]
  },
  {
   "cell_type": "code",
   "execution_count": 8,
   "id": "3a94e5ab-4b97-463f-a8f9-680e96884f43",
   "metadata": {},
   "outputs": [
    {
     "data": {
      "text/plain": [
       "['Sue', 'Tina', 'Maya', 'Diana', 'Pat']"
      ]
     },
     "execution_count": 8,
     "metadata": {},
     "output_type": "execute_result"
    }
   ],
   "source": [
    "basketball_team = ['Sue', 'Tina', 'Maya', 'Diana', 'Pat']\n",
    "bus = TwilightBus(basketball_team)\n",
    "bus.drop('Tina')\n",
    "bus.drop('Pat')\n",
    "basketball_team"
   ]
  },
  {
   "cell_type": "code",
   "execution_count": null,
   "id": "e34802b4-36bc-447d-9567-2ac210cb1a43",
   "metadata": {},
   "outputs": [],
   "source": []
  }
 ],
 "metadata": {
  "kernelspec": {
   "display_name": "Python 3 (ipykernel)",
   "language": "python",
   "name": "python3"
  },
  "language_info": {
   "codemirror_mode": {
    "name": "ipython",
    "version": 3
   },
   "file_extension": ".py",
   "mimetype": "text/x-python",
   "name": "python",
   "nbconvert_exporter": "python",
   "pygments_lexer": "ipython3",
   "version": "3.10.9"
  }
 },
 "nbformat": 4,
 "nbformat_minor": 5
}
