{
 "cells": [
  {
   "cell_type": "code",
   "execution_count": 1,
   "id": "2da8a4c8-53b4-4046-9ebd-8bd08a145681",
   "metadata": {},
   "outputs": [],
   "source": [
    "# copies are shallow by default"
   ]
  },
  {
   "cell_type": "code",
   "execution_count": 2,
   "id": "29e59aa5-6017-43f0-85df-a77371a89d71",
   "metadata": {},
   "outputs": [
    {
     "data": {
      "text/plain": [
       "[3, [66, 55, 44], (7, 8, 9)]"
      ]
     },
     "execution_count": 2,
     "metadata": {},
     "output_type": "execute_result"
    }
   ],
   "source": [
    "l1 = [3, [66, 55, 44], (7, 8, 9)]\n",
    "l1"
   ]
  },
  {
   "cell_type": "code",
   "execution_count": 3,
   "id": "fe7e28e6-b761-4df9-b15b-cdb14c66f415",
   "metadata": {},
   "outputs": [
    {
     "data": {
      "text/plain": [
       "[3, [66, 55, 44], (7, 8, 9)]"
      ]
     },
     "execution_count": 3,
     "metadata": {},
     "output_type": "execute_result"
    }
   ],
   "source": [
    "l2 = list(l1)\n",
    "l2"
   ]
  },
  {
   "cell_type": "code",
   "execution_count": 4,
   "id": "e6483afa-ea69-413d-9942-f70817a31c9a",
   "metadata": {},
   "outputs": [
    {
     "data": {
      "text/plain": [
       "False"
      ]
     },
     "execution_count": 4,
     "metadata": {},
     "output_type": "execute_result"
    }
   ],
   "source": [
    "l1 is l2"
   ]
  },
  {
   "cell_type": "code",
   "execution_count": 5,
   "id": "4de09a1f-2a43-4232-b25a-05651acb4e8c",
   "metadata": {},
   "outputs": [
    {
     "data": {
      "text/plain": [
       "True"
      ]
     },
     "execution_count": 5,
     "metadata": {},
     "output_type": "execute_result"
    }
   ],
   "source": [
    "l1 == l2"
   ]
  },
  {
   "cell_type": "code",
   "execution_count": 6,
   "id": "14f3b9b5-fdc8-4eb8-88d2-9c3fb6f656f1",
   "metadata": {},
   "outputs": [
    {
     "data": {
      "text/plain": [
       "[3, [66, 44], (7, 8, 9), 100]"
      ]
     },
     "execution_count": 6,
     "metadata": {},
     "output_type": "execute_result"
    }
   ],
   "source": [
    "l1.append(100)\n",
    "l1[1].remove(55)\n",
    "l1"
   ]
  },
  {
   "cell_type": "code",
   "execution_count": 7,
   "id": "6bf191c4-81ed-40b0-b0e6-5f6964bdc32a",
   "metadata": {},
   "outputs": [
    {
     "data": {
      "text/plain": [
       "[3, [66, 44], (7, 8, 9)]"
      ]
     },
     "execution_count": 7,
     "metadata": {},
     "output_type": "execute_result"
    }
   ],
   "source": [
    "l2"
   ]
  },
  {
   "cell_type": "code",
   "execution_count": 8,
   "id": "7b9eb51f-2381-4857-9a19-7f28ac76ee33",
   "metadata": {},
   "outputs": [
    {
     "data": {
      "text/plain": [
       "[3, [66, 44, 33, 22], (7, 8, 9)]"
      ]
     },
     "execution_count": 8,
     "metadata": {},
     "output_type": "execute_result"
    }
   ],
   "source": [
    "l2[1] += [33, 22]\n",
    "l2"
   ]
  },
  {
   "cell_type": "code",
   "execution_count": 9,
   "id": "61e4b43f-171e-4e44-842c-2a85e70525cd",
   "metadata": {},
   "outputs": [
    {
     "data": {
      "text/plain": [
       "[3, [66, 44, 33, 22], (7, 8, 9), 100]"
      ]
     },
     "execution_count": 9,
     "metadata": {},
     "output_type": "execute_result"
    }
   ],
   "source": [
    "l1"
   ]
  },
  {
   "cell_type": "code",
   "execution_count": 10,
   "id": "4199d14a-8bdc-4f73-8d53-f90278802600",
   "metadata": {},
   "outputs": [
    {
     "data": {
      "text/plain": [
       "[3, [66, 44, 33, 22], (7, 8, 9, 10, 11)]"
      ]
     },
     "execution_count": 10,
     "metadata": {},
     "output_type": "execute_result"
    }
   ],
   "source": [
    "l2[2] += (10, 11)\n",
    "l2"
   ]
  },
  {
   "cell_type": "code",
   "execution_count": 11,
   "id": "ea360ffa-c29f-459e-bc7f-5f14217995d2",
   "metadata": {},
   "outputs": [
    {
     "data": {
      "text/plain": [
       "[3, [66, 44, 33, 22], (7, 8, 9), 100]"
      ]
     },
     "execution_count": 11,
     "metadata": {},
     "output_type": "execute_result"
    }
   ],
   "source": [
    "l1"
   ]
  },
  {
   "cell_type": "code",
   "execution_count": null,
   "id": "f19c5cad-d848-4871-8d10-3005b6edcbaa",
   "metadata": {},
   "outputs": [],
   "source": []
  }
 ],
 "metadata": {
  "kernelspec": {
   "display_name": "Python 3 (ipykernel)",
   "language": "python",
   "name": "python3"
  },
  "language_info": {
   "codemirror_mode": {
    "name": "ipython",
    "version": 3
   },
   "file_extension": ".py",
   "mimetype": "text/x-python",
   "name": "python",
   "nbconvert_exporter": "python",
   "pygments_lexer": "ipython3",
   "version": "3.10.6"
  }
 },
 "nbformat": 4,
 "nbformat_minor": 5
}
