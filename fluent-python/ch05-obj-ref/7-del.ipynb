{
 "cells": [
  {
   "cell_type": "markdown",
   "id": "af5ca738-85f0-4f34-bd31-f944eea0f6c0",
   "metadata": {},
   "source": [
    "# del is strange"
   ]
  },
  {
   "cell_type": "code",
   "execution_count": 1,
   "id": "af9069cc-6ded-4b42-b986-cd169cc803af",
   "metadata": {},
   "outputs": [],
   "source": [
    "# strange 1: del is a statement, not a function"
   ]
  },
  {
   "cell_type": "code",
   "execution_count": 2,
   "id": "5311594d-c9ed-4fa4-a535-5c72843c36e4",
   "metadata": {},
   "outputs": [],
   "source": [
    "# strange 2: del deletes references, not objects.\n",
    "\n",
    "# Python's gargabe collector may discard an object from memory\n",
    "# as an indirect result of del, if the deleted variable was the \n",
    "# last reference to the object\n",
    "\n",
    "# Rebinding a variable may also cause the number of references\n",
    "# to reach zero, casing its destruction."
   ]
  },
  {
   "cell_type": "code",
   "execution_count": null,
   "id": "2dd2946e-ec20-448b-a917-cb61f7b26138",
   "metadata": {},
   "outputs": [],
   "source": []
  },
  {
   "cell_type": "code",
   "execution_count": 3,
   "id": "8194a473-e5ae-423b-a278-d7e8018603f7",
   "metadata": {},
   "outputs": [],
   "source": [
    "a = [1, 2]"
   ]
  },
  {
   "cell_type": "code",
   "execution_count": 4,
   "id": "76dbdf51-57a6-4865-9579-a50d8ebab28e",
   "metadata": {},
   "outputs": [],
   "source": [
    "b = a"
   ]
  },
  {
   "cell_type": "code",
   "execution_count": 5,
   "id": "1de9382b-b6a4-46fd-98af-122c20a033ca",
   "metadata": {},
   "outputs": [],
   "source": [
    "del a"
   ]
  },
  {
   "cell_type": "code",
   "execution_count": 6,
   "id": "899a7910-bbcf-4f2a-9371-40b7d860d565",
   "metadata": {},
   "outputs": [
    {
     "data": {
      "text/plain": [
       "[1, 2]"
      ]
     },
     "execution_count": 6,
     "metadata": {},
     "output_type": "execute_result"
    }
   ],
   "source": [
    "b"
   ]
  },
  {
   "cell_type": "code",
   "execution_count": 7,
   "id": "6699176a-4384-4cad-bee2-20402d1209a5",
   "metadata": {},
   "outputs": [],
   "source": [
    "b = [3]"
   ]
  },
  {
   "cell_type": "code",
   "execution_count": 8,
   "id": "4a1f42f2-85bc-43ce-b187-9b5f2dca8373",
   "metadata": {},
   "outputs": [],
   "source": [
    "# Now the gargabe collector can discard the object [1, 2]"
   ]
  },
  {
   "cell_type": "code",
   "execution_count": null,
   "id": "d0c44387-6536-43a7-a18d-41c25056bd6d",
   "metadata": {},
   "outputs": [],
   "source": []
  },
  {
   "cell_type": "markdown",
   "id": "390d85e1-cf46-404f-9486-161e4bb4d916",
   "metadata": {},
   "source": [
    "# use weakref to show how del works"
   ]
  },
  {
   "cell_type": "code",
   "execution_count": 9,
   "id": "579b1456-a812-40fb-9057-6883aceb2fb9",
   "metadata": {},
   "outputs": [],
   "source": [
    "import weakref"
   ]
  },
  {
   "cell_type": "code",
   "execution_count": 10,
   "id": "f53a7153-7421-4da8-a939-77780926e704",
   "metadata": {},
   "outputs": [],
   "source": [
    "s1 = {1, 2, 3}"
   ]
  },
  {
   "cell_type": "code",
   "execution_count": 11,
   "id": "146dc65b-4c86-4e01-bab9-893df0fbad5a",
   "metadata": {},
   "outputs": [],
   "source": [
    "s2 = s1"
   ]
  },
  {
   "cell_type": "code",
   "execution_count": 12,
   "id": "358d6cfe-3c98-4977-9bbf-378eb7b30993",
   "metadata": {},
   "outputs": [],
   "source": [
    "def bye():\n",
    "    print('... like tears in the rain.')"
   ]
  },
  {
   "cell_type": "code",
   "execution_count": 13,
   "id": "9c5baf16-5469-4219-bb5a-d0944561d07f",
   "metadata": {},
   "outputs": [],
   "source": [
    "ender = weakref.finalize(s1, bye)"
   ]
  },
  {
   "cell_type": "code",
   "execution_count": 14,
   "id": "0d3f85cf-cd1c-488b-91c9-fbf1b0992b0a",
   "metadata": {},
   "outputs": [
    {
     "data": {
      "text/plain": [
       "True"
      ]
     },
     "execution_count": 14,
     "metadata": {},
     "output_type": "execute_result"
    }
   ],
   "source": [
    "ender.alive"
   ]
  },
  {
   "cell_type": "code",
   "execution_count": 15,
   "id": "6527d912-cfef-416e-8959-8b6e01ca3937",
   "metadata": {},
   "outputs": [],
   "source": [
    "del s1"
   ]
  },
  {
   "cell_type": "code",
   "execution_count": 16,
   "id": "d6e69596-1bfe-418a-b03c-9e89d84f6eaf",
   "metadata": {},
   "outputs": [
    {
     "data": {
      "text/plain": [
       "True"
      ]
     },
     "execution_count": 16,
     "metadata": {},
     "output_type": "execute_result"
    }
   ],
   "source": [
    "ender.alive"
   ]
  },
  {
   "cell_type": "code",
   "execution_count": 17,
   "id": "23df678d-d5da-4a7c-b063-3fff806c9537",
   "metadata": {},
   "outputs": [
    {
     "name": "stdout",
     "output_type": "stream",
     "text": [
      "... like tears in the rain.\n"
     ]
    }
   ],
   "source": [
    "s2 = 'spam'"
   ]
  },
  {
   "cell_type": "code",
   "execution_count": 18,
   "id": "b9471294-56ec-48ed-bd25-3820524f2f30",
   "metadata": {},
   "outputs": [
    {
     "data": {
      "text/plain": [
       "False"
      ]
     },
     "execution_count": 18,
     "metadata": {},
     "output_type": "execute_result"
    }
   ],
   "source": [
    "ender.alive"
   ]
  },
  {
   "cell_type": "code",
   "execution_count": null,
   "id": "c81e4c5a-b010-4907-a38a-d17db3f533be",
   "metadata": {},
   "outputs": [],
   "source": []
  }
 ],
 "metadata": {
  "kernelspec": {
   "display_name": "Python 3 (ipykernel)",
   "language": "python",
   "name": "python3"
  },
  "language_info": {
   "codemirror_mode": {
    "name": "ipython",
    "version": 3
   },
   "file_extension": ".py",
   "mimetype": "text/x-python",
   "name": "python",
   "nbconvert_exporter": "python",
   "pygments_lexer": "ipython3",
   "version": "3.10.9"
  }
 },
 "nbformat": 4,
 "nbformat_minor": 5
}
