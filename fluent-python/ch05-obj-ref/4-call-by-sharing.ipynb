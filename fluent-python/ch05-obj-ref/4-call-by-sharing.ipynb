{
 "cells": [
  {
   "cell_type": "markdown",
   "id": "47bbc196-a20f-408d-b262-6fe8597052e7",
   "metadata": {},
   "source": [
    "# function parameters as references"
   ]
  },
  {
   "cell_type": "code",
   "execution_count": 12,
   "id": "c92e1fc0-dc3c-4eef-8753-59abcee0395a",
   "metadata": {},
   "outputs": [],
   "source": [
    "# A function may change any mutable object passed as a parameter\n",
    "# but it cannot change the identity of those objects\n",
    "# i.e., it cannot algother replace an object with another."
   ]
  },
  {
   "cell_type": "code",
   "execution_count": 13,
   "id": "25adb58b-ed8b-4fa4-8b0e-96dc78465491",
   "metadata": {},
   "outputs": [],
   "source": [
    "def f(a, b):\n",
    "    a += b\n",
    "    return a"
   ]
  },
  {
   "cell_type": "code",
   "execution_count": 14,
   "id": "2e0e5ffb-1c4d-49f5-9f29-4cd5f11785bd",
   "metadata": {},
   "outputs": [
    {
     "data": {
      "text/plain": [
       "3"
      ]
     },
     "execution_count": 14,
     "metadata": {},
     "output_type": "execute_result"
    }
   ],
   "source": [
    "x, y = 1, 2\n",
    "f(x, y)"
   ]
  },
  {
   "cell_type": "code",
   "execution_count": 15,
   "id": "f3fd0e24-852d-4dee-8fe0-cdcd9eb6c177",
   "metadata": {},
   "outputs": [
    {
     "data": {
      "text/plain": [
       "(1, 2)"
      ]
     },
     "execution_count": 15,
     "metadata": {},
     "output_type": "execute_result"
    }
   ],
   "source": [
    "x, y"
   ]
  },
  {
   "cell_type": "code",
   "execution_count": 16,
   "id": "baa6e3de-f78f-4dfb-8dba-efb7143f501a",
   "metadata": {},
   "outputs": [
    {
     "data": {
      "text/plain": [
       "[1, 2, 3, 4]"
      ]
     },
     "execution_count": 16,
     "metadata": {},
     "output_type": "execute_result"
    }
   ],
   "source": [
    "a = [1, 2]\n",
    "b = [3, 4]\n",
    "f(a, b)"
   ]
  },
  {
   "cell_type": "code",
   "execution_count": 17,
   "id": "26a9d109-a70d-4442-bdfb-a09ad3eac075",
   "metadata": {},
   "outputs": [
    {
     "data": {
      "text/plain": [
       "([1, 2, 3, 4], [3, 4])"
      ]
     },
     "execution_count": 17,
     "metadata": {},
     "output_type": "execute_result"
    }
   ],
   "source": [
    "a, b"
   ]
  },
  {
   "cell_type": "code",
   "execution_count": 18,
   "id": "43a1e996-533d-48b2-86a8-b95209e57cc9",
   "metadata": {},
   "outputs": [
    {
     "data": {
      "text/plain": [
       "(10, 20, 30, 40)"
      ]
     },
     "execution_count": 18,
     "metadata": {},
     "output_type": "execute_result"
    }
   ],
   "source": [
    "t = (10, 20)\n",
    "u = (30, 40)\n",
    "f(t, u)"
   ]
  },
  {
   "cell_type": "code",
   "execution_count": 19,
   "id": "ef5c6125-1b93-4f5e-b5d7-b898f8f9aa75",
   "metadata": {},
   "outputs": [
    {
     "data": {
      "text/plain": [
       "((10, 20), (30, 40))"
      ]
     },
     "execution_count": 19,
     "metadata": {},
     "output_type": "execute_result"
    }
   ],
   "source": [
    "t, u"
   ]
  },
  {
   "cell_type": "code",
   "execution_count": null,
   "id": "25229909-a588-423a-a6a7-52f87fd026f8",
   "metadata": {},
   "outputs": [],
   "source": []
  }
 ],
 "metadata": {
  "kernelspec": {
   "display_name": "Python 3 (ipykernel)",
   "language": "python",
   "name": "python3"
  },
  "language_info": {
   "codemirror_mode": {
    "name": "ipython",
    "version": 3
   },
   "file_extension": ".py",
   "mimetype": "text/x-python",
   "name": "python",
   "nbconvert_exporter": "python",
   "pygments_lexer": "ipython3",
   "version": "3.10.6"
  }
 },
 "nbformat": 4,
 "nbformat_minor": 5
}
