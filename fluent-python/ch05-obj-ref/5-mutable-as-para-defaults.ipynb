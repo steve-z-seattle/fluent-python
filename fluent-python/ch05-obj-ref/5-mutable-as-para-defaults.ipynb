{
 "cells": [
  {
   "cell_type": "code",
   "execution_count": 1,
   "id": "f4b748e4-bd77-4095-ab3e-d0a7397ed413",
   "metadata": {},
   "outputs": [],
   "source": [
    "# it is a bad idea to\n",
    "# use mutable types as parameter defaults"
   ]
  },
  {
   "cell_type": "code",
   "execution_count": 13,
   "id": "9f8313b5-2a3b-4030-abf7-1e7e816a38b0",
   "metadata": {},
   "outputs": [],
   "source": [
    "class HauntedBus:\n",
    "    def __init__(self, passengers=[]):\n",
    "        self.passengers = passengers\n",
    "            \n",
    "    def pick(self, name):\n",
    "        self.passengers.append(name)\n",
    "        \n",
    "    def drop(self, name):\n",
    "        self.passengers.remove(name)"
   ]
  },
  {
   "cell_type": "code",
   "execution_count": 14,
   "id": "1175455e-025c-4075-b5cd-a3d8dc0d9c9a",
   "metadata": {},
   "outputs": [],
   "source": [
    "# Buses haunted by ghost passengers"
   ]
  },
  {
   "cell_type": "code",
   "execution_count": 15,
   "id": "2234d137-773b-4a42-9346-4869dc6d8678",
   "metadata": {},
   "outputs": [],
   "source": [
    "bus1 = HauntedBus(['Alice', 'Bill'])"
   ]
  },
  {
   "cell_type": "code",
   "execution_count": 16,
   "id": "56015a8f-e548-4e86-bf5f-f3a3e8f9f0cb",
   "metadata": {},
   "outputs": [
    {
     "data": {
      "text/plain": [
       "['Alice', 'Bill']"
      ]
     },
     "execution_count": 16,
     "metadata": {},
     "output_type": "execute_result"
    }
   ],
   "source": [
    "bus1.passengers"
   ]
  },
  {
   "cell_type": "code",
   "execution_count": 17,
   "id": "21fb31a9-a949-4458-87b1-d9e7abca97d4",
   "metadata": {},
   "outputs": [],
   "source": [
    "bus1.pick('Charlie')\n",
    "bus1.drop('Alice')"
   ]
  },
  {
   "cell_type": "code",
   "execution_count": 18,
   "id": "2f150e2b-e04e-44b0-a525-1f8c2b2293c4",
   "metadata": {},
   "outputs": [
    {
     "data": {
      "text/plain": [
       "['Bill', 'Charlie']"
      ]
     },
     "execution_count": 18,
     "metadata": {},
     "output_type": "execute_result"
    }
   ],
   "source": [
    "bus1.passengers"
   ]
  },
  {
   "cell_type": "code",
   "execution_count": 19,
   "id": "92870920-378e-4435-8edc-718e847bd122",
   "metadata": {},
   "outputs": [],
   "source": [
    "bus2 = HauntedBus()"
   ]
  },
  {
   "cell_type": "code",
   "execution_count": 20,
   "id": "6f264f37-3a8c-4402-b7c1-c44ee61cb9ca",
   "metadata": {},
   "outputs": [],
   "source": [
    "bus2.pick('Carrie')"
   ]
  },
  {
   "cell_type": "code",
   "execution_count": 21,
   "id": "9b7f68f6-582a-4c66-b14c-a618e01ba60f",
   "metadata": {},
   "outputs": [
    {
     "data": {
      "text/plain": [
       "['Carrie']"
      ]
     },
     "execution_count": 21,
     "metadata": {},
     "output_type": "execute_result"
    }
   ],
   "source": [
    "bus2.passengers"
   ]
  },
  {
   "cell_type": "code",
   "execution_count": 22,
   "id": "1a94a22e-8ddf-4e4e-9051-0bf571560c02",
   "metadata": {},
   "outputs": [],
   "source": [
    "bus3 = HauntedBus()"
   ]
  },
  {
   "cell_type": "code",
   "execution_count": 23,
   "id": "bdf9b0c8-aa27-462f-8e83-54dca96e9cfa",
   "metadata": {},
   "outputs": [
    {
     "data": {
      "text/plain": [
       "['Carrie']"
      ]
     },
     "execution_count": 23,
     "metadata": {},
     "output_type": "execute_result"
    }
   ],
   "source": [
    "bus3.passengers"
   ]
  },
  {
   "cell_type": "code",
   "execution_count": 24,
   "id": "97798c0f-cce2-4e17-9954-40ebf7bfb14b",
   "metadata": {},
   "outputs": [],
   "source": [
    "bus3.pick('Dave')"
   ]
  },
  {
   "cell_type": "code",
   "execution_count": 25,
   "id": "d8ee2c89-a6b4-40de-976a-937eed1d3122",
   "metadata": {},
   "outputs": [
    {
     "data": {
      "text/plain": [
       "['Carrie', 'Dave']"
      ]
     },
     "execution_count": 25,
     "metadata": {},
     "output_type": "execute_result"
    }
   ],
   "source": [
    "bus3.passengers"
   ]
  },
  {
   "cell_type": "code",
   "execution_count": 26,
   "id": "5768774f-6caa-4d4e-bc9c-d87a85c3adf9",
   "metadata": {},
   "outputs": [
    {
     "data": {
      "text/plain": [
       "['Carrie', 'Dave']"
      ]
     },
     "execution_count": 26,
     "metadata": {},
     "output_type": "execute_result"
    }
   ],
   "source": [
    "bus2.passengers"
   ]
  },
  {
   "cell_type": "code",
   "execution_count": 27,
   "id": "683aeebc-68e9-43c1-b19f-b588f1b98d8e",
   "metadata": {},
   "outputs": [
    {
     "data": {
      "text/plain": [
       "['Bill', 'Charlie']"
      ]
     },
     "execution_count": 27,
     "metadata": {},
     "output_type": "execute_result"
    }
   ],
   "source": [
    "bus1.passengers"
   ]
  },
  {
   "cell_type": "code",
   "execution_count": 28,
   "id": "8ac20c3a-18f1-467e-a369-d624d59a970c",
   "metadata": {},
   "outputs": [
    {
     "data": {
      "text/plain": [
       "True"
      ]
     },
     "execution_count": 28,
     "metadata": {},
     "output_type": "execute_result"
    }
   ],
   "source": [
    "bus2.passengers is bus3.passengers"
   ]
  },
  {
   "cell_type": "code",
   "execution_count": 29,
   "id": "2eb57795-82c8-49d9-b675-7d856452c09f",
   "metadata": {},
   "outputs": [],
   "source": [
    "# use None as default value for parameters that may receive mutable values"
   ]
  },
  {
   "cell_type": "code",
   "execution_count": null,
   "id": "aab36673-d7a4-4dfd-93d5-3539df59f40b",
   "metadata": {},
   "outputs": [],
   "source": []
  }
 ],
 "metadata": {
  "kernelspec": {
   "display_name": "Python 3 (ipykernel)",
   "language": "python",
   "name": "python3"
  },
  "language_info": {
   "codemirror_mode": {
    "name": "ipython",
    "version": 3
   },
   "file_extension": ".py",
   "mimetype": "text/x-python",
   "name": "python",
   "nbconvert_exporter": "python",
   "pygments_lexer": "ipython3",
   "version": "3.10.9"
  }
 },
 "nbformat": 4,
 "nbformat_minor": 5
}
