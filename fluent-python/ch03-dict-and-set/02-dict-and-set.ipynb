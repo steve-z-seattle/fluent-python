{
 "cells": [
  {
   "cell_type": "markdown",
   "id": "6560f7f6-ff85-4976-b7f0-86466045857a",
   "metadata": {},
   "source": [
    "# dict comprehension"
   ]
  },
  {
   "cell_type": "code",
   "execution_count": 3,
   "id": "1d6da14c-e48b-4dee-8bda-0c7d590a1a5b",
   "metadata": {},
   "outputs": [
    {
     "data": {
      "text/plain": [
       "[(880, 'Bangladesh'),\n",
       " (55, 'Brazil'),\n",
       " (86, 'China'),\n",
       " (91, 'India'),\n",
       " (62, 'Indonesia'),\n",
       " (81, 'Japan'),\n",
       " (234, 'Nigeria'),\n",
       " (92, 'Pakistan'),\n",
       " (7, 'Russia'),\n",
       " (1, 'United States')]"
      ]
     },
     "execution_count": 3,
     "metadata": {},
     "output_type": "execute_result"
    }
   ],
   "source": [
    "dial_codes = [                                                  # <1>\n",
    "    (880, 'Bangladesh'),\n",
    "    (55,  'Brazil'),\n",
    "    (86,  'China'),\n",
    "    (91,  'India'),\n",
    "    (62,  'Indonesia'),\n",
    "    (81,  'Japan'),\n",
    "    (234, 'Nigeria'),\n",
    "    (92,  'Pakistan'),\n",
    "    (7,   'Russia'),\n",
    "    (1,   'United States'),\n",
    "]\n",
    "dial_codes"
   ]
  },
  {
   "cell_type": "code",
   "execution_count": 4,
   "id": "681feecf-7d5d-496f-8e06-8d3924330b59",
   "metadata": {},
   "outputs": [
    {
     "data": {
      "text/plain": [
       "{'Bangladesh': 880,\n",
       " 'Brazil': 55,\n",
       " 'China': 86,\n",
       " 'India': 91,\n",
       " 'Indonesia': 62,\n",
       " 'Japan': 81,\n",
       " 'Nigeria': 234,\n",
       " 'Pakistan': 92,\n",
       " 'Russia': 7,\n",
       " 'United States': 1}"
      ]
     },
     "execution_count": 4,
     "metadata": {},
     "output_type": "execute_result"
    }
   ],
   "source": [
    "country_dial = {country: code for code, country in dial_codes}\n",
    "country_dial"
   ]
  },
  {
   "cell_type": "code",
   "execution_count": 5,
   "id": "5e7e4ade-ec5d-4c20-afd4-b4945457ec5d",
   "metadata": {},
   "outputs": [
    {
     "data": {
      "text/plain": [
       "{55: 'BRAZIL', 62: 'INDONESIA', 7: 'RUSSIA', 1: 'UNITED STATES'}"
      ]
     },
     "execution_count": 5,
     "metadata": {},
     "output_type": "execute_result"
    }
   ],
   "source": [
    "{code: country.upper()\n",
    "     for country, code in sorted(country_dial.items())\n",
    "     if code < 70}"
   ]
  },
  {
   "cell_type": "markdown",
   "id": "18e641fb-b39a-4824-91bc-944bef13ed79",
   "metadata": {},
   "source": [
    "# unpacking mappings"
   ]
  },
  {
   "cell_type": "code",
   "execution_count": 6,
   "id": "73a45358-8150-48d8-be4e-1fe560e2c5f8",
   "metadata": {},
   "outputs": [],
   "source": [
    "def dump(**kwargs):\n",
    "    return kwargs"
   ]
  },
  {
   "cell_type": "code",
   "execution_count": 7,
   "id": "82e83414-50bd-4be1-a610-b5a6885817d2",
   "metadata": {},
   "outputs": [
    {
     "data": {
      "text/plain": [
       "{'x': 1, 'y': 2, 'z': 3}"
      ]
     },
     "execution_count": 7,
     "metadata": {},
     "output_type": "execute_result"
    }
   ],
   "source": [
    "dump(**{'x':1}, y=2, **{'z':3})"
   ]
  },
  {
   "cell_type": "code",
   "execution_count": 10,
   "id": "bc3873bb-baef-460b-9377-561081b8562e",
   "metadata": {},
   "outputs": [
    {
     "data": {
      "text/plain": [
       "{'a': 0, 'x': 4, 'y': 2, 'z': 3}"
      ]
     },
     "execution_count": 10,
     "metadata": {},
     "output_type": "execute_result"
    }
   ],
   "source": [
    "{'a': 0, **{'x': 1}, 'y': 2, **{'z': 3, 'x': 4}}"
   ]
  },
  {
   "cell_type": "code",
   "execution_count": null,
   "id": "02396f8e-4e6b-484d-abc2-a62dcc5745fb",
   "metadata": {},
   "outputs": [],
   "source": []
  }
 ],
 "metadata": {
  "kernelspec": {
   "display_name": "Python 3 (ipykernel)",
   "language": "python",
   "name": "python3"
  },
  "language_info": {
   "codemirror_mode": {
    "name": "ipython",
    "version": 3
   },
   "file_extension": ".py",
   "mimetype": "text/x-python",
   "name": "python",
   "nbconvert_exporter": "python",
   "pygments_lexer": "ipython3",
   "version": "3.10.6"
  }
 },
 "nbformat": 4,
 "nbformat_minor": 5
}
