{
 "cells": [
  {
   "cell_type": "code",
   "execution_count": 1,
   "id": "0a53bc57-698a-4d94-b05f-2b6ddff26124",
   "metadata": {},
   "outputs": [],
   "source": [
    "# set"
   ]
  },
  {
   "cell_type": "code",
   "execution_count": 2,
   "id": "eec2004c-d845-42da-ae19-5dfff82682a1",
   "metadata": {},
   "outputs": [],
   "source": [
    "l = ['spam', 'spam', 'eggs', 'spam', 'bacon', 'eggs']"
   ]
  },
  {
   "cell_type": "code",
   "execution_count": 3,
   "id": "7bd95f4f-296f-44d7-9dad-57bdf368158a",
   "metadata": {},
   "outputs": [
    {
     "data": {
      "text/plain": [
       "{'bacon', 'eggs', 'spam'}"
      ]
     },
     "execution_count": 3,
     "metadata": {},
     "output_type": "execute_result"
    }
   ],
   "source": [
    "set(l)"
   ]
  },
  {
   "cell_type": "code",
   "execution_count": 4,
   "id": "9fd8cbde-3c63-41f8-a586-487db9c31fd5",
   "metadata": {},
   "outputs": [
    {
     "data": {
      "text/plain": [
       "['bacon', 'eggs', 'spam']"
      ]
     },
     "execution_count": 4,
     "metadata": {},
     "output_type": "execute_result"
    }
   ],
   "source": [
    "list(set(l))"
   ]
  },
  {
   "cell_type": "code",
   "execution_count": 6,
   "id": "76f43773-18b5-45fa-99d4-9bf56b75eae4",
   "metadata": {},
   "outputs": [],
   "source": [
    "# if you want to remove duplicates but also preserve the order, use dict:"
   ]
  },
  {
   "cell_type": "code",
   "execution_count": 8,
   "id": "f932c02d-5f0c-440e-b634-9f7db7ae7b70",
   "metadata": {},
   "outputs": [
    {
     "data": {
      "text/plain": [
       "dict_keys(['spam', 'eggs', 'bacon'])"
      ]
     },
     "execution_count": 8,
     "metadata": {},
     "output_type": "execute_result"
    }
   ],
   "source": [
    "dict.fromkeys(l).keys()"
   ]
  },
  {
   "cell_type": "code",
   "execution_count": 9,
   "id": "38a4ca40-45f2-449c-988b-66e21ac845dc",
   "metadata": {},
   "outputs": [
    {
     "data": {
      "text/plain": [
       "['spam', 'eggs', 'bacon']"
      ]
     },
     "execution_count": 9,
     "metadata": {},
     "output_type": "execute_result"
    }
   ],
   "source": [
    "list(dict.fromkeys(l).keys())"
   ]
  },
  {
   "cell_type": "code",
   "execution_count": null,
   "id": "faf21e1e-8b61-4faf-ac41-b1e8c2c05a00",
   "metadata": {},
   "outputs": [],
   "source": []
  }
 ],
 "metadata": {
  "kernelspec": {
   "display_name": "Python 3 (ipykernel)",
   "language": "python",
   "name": "python3"
  },
  "language_info": {
   "codemirror_mode": {
    "name": "ipython",
    "version": 3
   },
   "file_extension": ".py",
   "mimetype": "text/x-python",
   "name": "python",
   "nbconvert_exporter": "python",
   "pygments_lexer": "ipython3",
   "version": "3.10.6"
  }
 },
 "nbformat": 4,
 "nbformat_minor": 5
}
