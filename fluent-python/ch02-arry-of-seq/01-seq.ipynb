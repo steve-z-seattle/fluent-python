{
 "cells": [
  {
   "cell_type": "markdown",
   "id": "64967d6f-fdf3-4ad5-9e47-edc8861dfc25",
   "metadata": {},
   "source": [
    "# Unpacking and Destructing"
   ]
  },
  {
   "cell_type": "code",
   "execution_count": 12,
   "id": "159e080a-50ba-42f1-9928-28c83bbcdb10",
   "metadata": {},
   "outputs": [],
   "source": [
    "# Unpacking a tuple\n",
    "my_tuple = (1, 2, 3)\n",
    "x, y, z = my_tuple\n",
    "\n",
    "# Now x, y, and z are each set to the corresponding element in my_tuple"
   ]
  },
  {
   "cell_type": "code",
   "execution_count": 13,
   "id": "df206586-6b2d-47cc-a61a-e92f59898fd3",
   "metadata": {},
   "outputs": [
    {
     "data": {
      "text/plain": [
       "(1, 2, 3)"
      ]
     },
     "execution_count": 13,
     "metadata": {},
     "output_type": "execute_result"
    }
   ],
   "source": [
    "x, y, z"
   ]
  },
  {
   "cell_type": "code",
   "execution_count": 14,
   "id": "cc8db2ef-016d-44dd-b1ae-8c0431b6794e",
   "metadata": {},
   "outputs": [],
   "source": [
    "# Destructuring a list\n",
    "my_list = [1, 2, 3]\n",
    "[x, y, z] = my_list\n",
    "\n",
    "# Now x, y, and z are each set to the corresponding element in my_list"
   ]
  },
  {
   "cell_type": "code",
   "execution_count": 15,
   "id": "18d517b6-695a-4873-bf8b-6dee247babc5",
   "metadata": {},
   "outputs": [
    {
     "data": {
      "text/plain": [
       "(1, 2, 3)"
      ]
     },
     "execution_count": 15,
     "metadata": {},
     "output_type": "execute_result"
    }
   ],
   "source": [
    "x, y, z"
   ]
  },
  {
   "cell_type": "code",
   "execution_count": 16,
   "id": "d305949c-aa89-4dd7-9a6e-b88ff4252eb6",
   "metadata": {},
   "outputs": [],
   "source": [
    "test1, *_ = range(5)"
   ]
  },
  {
   "cell_type": "code",
   "execution_count": 17,
   "id": "2dfff1cb-7239-4742-83e6-bf68dd759b25",
   "metadata": {},
   "outputs": [
    {
     "data": {
      "text/plain": [
       "0"
      ]
     },
     "execution_count": 17,
     "metadata": {},
     "output_type": "execute_result"
    }
   ],
   "source": [
    "test1"
   ]
  },
  {
   "cell_type": "code",
   "execution_count": 18,
   "id": "341ed76a-ce33-4337-a5a2-a9f2431bb3c9",
   "metadata": {},
   "outputs": [],
   "source": [
    "[test2, *_] = range(5)"
   ]
  },
  {
   "cell_type": "code",
   "execution_count": 19,
   "id": "86e12c2f-8734-4f1d-907d-6f7cef91c0fd",
   "metadata": {},
   "outputs": [
    {
     "data": {
      "text/plain": [
       "0"
      ]
     },
     "execution_count": 19,
     "metadata": {},
     "output_type": "execute_result"
    }
   ],
   "source": [
    "test2"
   ]
  },
  {
   "cell_type": "markdown",
   "id": "8ee6ad60-bf06-4b03-8f28-b289454ffb54",
   "metadata": {},
   "source": [
    "# building lists of lists"
   ]
  },
  {
   "cell_type": "code",
   "execution_count": 21,
   "id": "a616a4f5-ce9c-4f37-beae-e349a05901e9",
   "metadata": {},
   "outputs": [
    {
     "data": {
      "text/plain": [
       "[['_', '_', '_'], ['_', '_', '_'], ['_', '_', '_']]"
      ]
     },
     "execution_count": 21,
     "metadata": {},
     "output_type": "execute_result"
    }
   ],
   "source": [
    "board = [['_'] * 3 for i in range(3)]\n",
    "board"
   ]
  },
  {
   "cell_type": "code",
   "execution_count": 22,
   "id": "8ad55e57-145c-4019-9314-ce3954a06e0f",
   "metadata": {},
   "outputs": [
    {
     "data": {
      "text/plain": [
       "[['_', '_', '_'], ['_', '_', 'X'], ['_', '_', '_']]"
      ]
     },
     "execution_count": 22,
     "metadata": {},
     "output_type": "execute_result"
    }
   ],
   "source": [
    "board[1][2] = 'X'\n",
    "board"
   ]
  },
  {
   "cell_type": "code",
   "execution_count": 23,
   "id": "a5cd4bd7-d61a-44ef-9e48-fe2cfd6419f2",
   "metadata": {},
   "outputs": [],
   "source": [
    "# the wrong way"
   ]
  },
  {
   "cell_type": "code",
   "execution_count": 25,
   "id": "b50cc19b-d41b-4584-8165-025fc0a0c06a",
   "metadata": {},
   "outputs": [
    {
     "data": {
      "text/plain": [
       "[['_', '_', '_'], ['_', '_', '_'], ['_', '_', '_']]"
      ]
     },
     "execution_count": 25,
     "metadata": {},
     "output_type": "execute_result"
    }
   ],
   "source": [
    "weird_board = [['_'] * 3] * 3\n",
    "weird_board"
   ]
  },
  {
   "cell_type": "code",
   "execution_count": 26,
   "id": "6c1c9e14-47fe-427f-b11b-6bdb9d8f62fd",
   "metadata": {},
   "outputs": [
    {
     "data": {
      "text/plain": [
       "[['_', '_', 'O'], ['_', '_', 'O'], ['_', '_', 'O']]"
      ]
     },
     "execution_count": 26,
     "metadata": {},
     "output_type": "execute_result"
    }
   ],
   "source": [
    "weird_board[1][2] = 'O'\n",
    "weird_board"
   ]
  },
  {
   "cell_type": "markdown",
   "id": "ee881f5a-007a-4e15-ac9e-517b8fa214f2",
   "metadata": {},
   "source": [
    "# __add__ vs __iadd__"
   ]
  },
  {
   "cell_type": "code",
   "execution_count": 28,
   "id": "12230552-c0fc-4eeb-8500-ec2b5d5296c5",
   "metadata": {},
   "outputs": [
    {
     "data": {
      "text/plain": [
       "'0x1055c5600'"
      ]
     },
     "execution_count": 28,
     "metadata": {},
     "output_type": "execute_result"
    }
   ],
   "source": [
    "a = [1, 2, 3]\n",
    "hex(id(a))"
   ]
  },
  {
   "cell_type": "code",
   "execution_count": 29,
   "id": "01a79e7e-e886-48a0-96fe-6ca8fe0480f9",
   "metadata": {},
   "outputs": [
    {
     "data": {
      "text/plain": [
       "'0x1055c5600'"
      ]
     },
     "execution_count": 29,
     "metadata": {},
     "output_type": "execute_result"
    }
   ],
   "source": [
    "a += [4, 5, 6]\n",
    "hex(id(a))"
   ]
  },
  {
   "cell_type": "code",
   "execution_count": 30,
   "id": "b55c8fd6-3a00-4536-9242-37f27b86b4e5",
   "metadata": {},
   "outputs": [
    {
     "data": {
      "text/plain": [
       "'0x1055b8ac0'"
      ]
     },
     "execution_count": 30,
     "metadata": {},
     "output_type": "execute_result"
    }
   ],
   "source": [
    "a = a + [7, 8, 9]\n",
    "hex(id(a))"
   ]
  },
  {
   "cell_type": "markdown",
   "id": "701a438e-e1ee-4160-a07a-8b745fdb0b00",
   "metadata": {},
   "source": [
    "# __iadd__ for tuples"
   ]
  },
  {
   "cell_type": "code",
   "execution_count": 43,
   "id": "6e5726cd-4e68-40fa-8f4e-9aaf4fb74df1",
   "metadata": {},
   "outputs": [
    {
     "data": {
      "text/plain": [
       "(1, 2, [30, 40])"
      ]
     },
     "execution_count": 43,
     "metadata": {},
     "output_type": "execute_result"
    }
   ],
   "source": [
    "t1 = (1, 2, [30, 40])\n",
    "t1"
   ]
  },
  {
   "cell_type": "code",
   "execution_count": 44,
   "id": "a4ec13ec-97a0-44ac-b975-05655caa7d4d",
   "metadata": {},
   "outputs": [
    {
     "name": "stdout",
     "output_type": "stream",
     "text": [
      "'tuple' object does not support item assignment\n"
     ]
    }
   ],
   "source": [
    "try:\n",
    "    t1[2] += [50, 60]\n",
    "except TypeError as e:\n",
    "    print(e)"
   ]
  },
  {
   "cell_type": "code",
   "execution_count": 45,
   "id": "f9d7cdaa-13df-4749-b9c8-4b9a01141d26",
   "metadata": {},
   "outputs": [
    {
     "data": {
      "text/plain": [
       "(1, 2, [30, 40, 50, 60])"
      ]
     },
     "execution_count": 45,
     "metadata": {},
     "output_type": "execute_result"
    }
   ],
   "source": [
    "t1"
   ]
  },
  {
   "cell_type": "code",
   "execution_count": null,
   "id": "f938531a-f47c-452a-a13f-d3ae2fc357b5",
   "metadata": {},
   "outputs": [],
   "source": []
  },
  {
   "cell_type": "code",
   "execution_count": 46,
   "id": "80ddd817-7898-4d01-90de-c388d4aff0df",
   "metadata": {},
   "outputs": [
    {
     "data": {
      "text/plain": [
       "(1, 2, [30, 40])"
      ]
     },
     "execution_count": 46,
     "metadata": {},
     "output_type": "execute_result"
    }
   ],
   "source": [
    "t2 = (1, 2, [30, 40])\n",
    "t2"
   ]
  },
  {
   "cell_type": "code",
   "execution_count": 47,
   "id": "705a7d01-32dd-4ccc-9c2c-181644d5fb94",
   "metadata": {},
   "outputs": [
    {
     "data": {
      "text/plain": [
       "(1, 2, [30, 40, 80, 90])"
      ]
     },
     "execution_count": 47,
     "metadata": {},
     "output_type": "execute_result"
    }
   ],
   "source": [
    "t2[2].extend([80, 90])\n",
    "t2"
   ]
  },
  {
   "cell_type": "markdown",
   "id": "85cef9ad-d81f-454d-be13-a2005dc76728",
   "metadata": {},
   "source": [
    "# deque"
   ]
  },
  {
   "cell_type": "code",
   "execution_count": 49,
   "id": "a98bb9af-a052-4fe1-9dc7-e9a567f3ebf7",
   "metadata": {},
   "outputs": [],
   "source": [
    "from collections import deque"
   ]
  },
  {
   "cell_type": "code",
   "execution_count": 50,
   "id": "e7323fae-aaff-43f8-b908-febc00705792",
   "metadata": {},
   "outputs": [
    {
     "data": {
      "text/plain": [
       "deque([0, 1, 2, 3, 4, 5, 6, 7, 8, 9], maxlen=10)"
      ]
     },
     "execution_count": 50,
     "metadata": {},
     "output_type": "execute_result"
    }
   ],
   "source": [
    "dq = deque(range(10), maxlen=10)\n",
    "dq"
   ]
  },
  {
   "cell_type": "code",
   "execution_count": 51,
   "id": "53e985d9-e41a-43a5-a833-5259e01983db",
   "metadata": {},
   "outputs": [
    {
     "data": {
      "text/plain": [
       "deque([7, 8, 9, 0, 1, 2, 3, 4, 5, 6], maxlen=10)"
      ]
     },
     "execution_count": 51,
     "metadata": {},
     "output_type": "execute_result"
    }
   ],
   "source": [
    "dq.rotate(3)\n",
    "dq"
   ]
  },
  {
   "cell_type": "code",
   "execution_count": 52,
   "id": "411e92d0-695c-43ad-9467-21f25f74a9f8",
   "metadata": {},
   "outputs": [
    {
     "data": {
      "text/plain": [
       "deque([1, 2, 3, 4, 5, 6, 7, 8, 9, 0], maxlen=10)"
      ]
     },
     "execution_count": 52,
     "metadata": {},
     "output_type": "execute_result"
    }
   ],
   "source": [
    "dq.rotate(-4)\n",
    "dq"
   ]
  },
  {
   "cell_type": "code",
   "execution_count": 53,
   "id": "63500d9a-937d-4ad0-8f23-e4d0e2649508",
   "metadata": {},
   "outputs": [
    {
     "data": {
      "text/plain": [
       "deque([-1, 1, 2, 3, 4, 5, 6, 7, 8, 9], maxlen=10)"
      ]
     },
     "execution_count": 53,
     "metadata": {},
     "output_type": "execute_result"
    }
   ],
   "source": [
    "dq.appendleft(-1)\n",
    "dq"
   ]
  },
  {
   "cell_type": "code",
   "execution_count": 54,
   "id": "063a777b-256f-476b-9e2e-bd919e30721f",
   "metadata": {},
   "outputs": [
    {
     "data": {
      "text/plain": [
       "deque([3, 4, 5, 6, 7, 8, 9, 11, 22, 33], maxlen=10)"
      ]
     },
     "execution_count": 54,
     "metadata": {},
     "output_type": "execute_result"
    }
   ],
   "source": [
    "dq.extend([11, 22, 33])\n",
    "dq"
   ]
  },
  {
   "cell_type": "code",
   "execution_count": 55,
   "id": "ed5ee3d0-5515-4acb-91a9-fa945345d257",
   "metadata": {},
   "outputs": [
    {
     "data": {
      "text/plain": [
       "deque([40, 30, 20, 10, 3, 4, 5, 6, 7, 8], maxlen=10)"
      ]
     },
     "execution_count": 55,
     "metadata": {},
     "output_type": "execute_result"
    }
   ],
   "source": [
    "dq.extendleft([10, 20, 30, 40])\n",
    "dq"
   ]
  },
  {
   "cell_type": "code",
   "execution_count": null,
   "id": "e3ad66a6-0fc1-4d32-97a6-b18b77ef80c6",
   "metadata": {},
   "outputs": [],
   "source": []
  }
 ],
 "metadata": {
  "kernelspec": {
   "display_name": "Python 3 (ipykernel)",
   "language": "python",
   "name": "python3"
  },
  "language_info": {
   "codemirror_mode": {
    "name": "ipython",
    "version": 3
   },
   "file_extension": ".py",
   "mimetype": "text/x-python",
   "name": "python",
   "nbconvert_exporter": "python",
   "pygments_lexer": "ipython3",
   "version": "3.10.6"
  }
 },
 "nbformat": 4,
 "nbformat_minor": 5
}
