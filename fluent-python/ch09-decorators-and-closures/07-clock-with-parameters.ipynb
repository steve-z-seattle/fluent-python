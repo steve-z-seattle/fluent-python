{
 "cells": [
  {
   "cell_type": "code",
   "execution_count": 1,
   "id": "7bb2420a-c0f1-4429-a3c2-13e7285cc81c",
   "metadata": {},
   "outputs": [],
   "source": [
    "import time"
   ]
  },
  {
   "cell_type": "code",
   "execution_count": 3,
   "id": "5a92e967-5bab-41e3-9495-83fc9ff573e6",
   "metadata": {},
   "outputs": [],
   "source": [
    "# original"
   ]
  },
  {
   "cell_type": "code",
   "execution_count": 4,
   "id": "7e69ec9f-159a-47b1-af55-5fbd30205a31",
   "metadata": {},
   "outputs": [],
   "source": [
    "def clock(func):\n",
    "    def clocked(*args):\n",
    "        t0 = time.perf_counter()\n",
    "        result = func(*args)\n",
    "        elapsed = time.perf_counter() - t0\n",
    "        name = func.__name__\n",
    "        arg_str = ', '.join(repr(arg) for arg in args)\n",
    "        print(f'[{elapsed:.8f}s] {name}({arg_str}) -> {result!r}')\n",
    "        return result\n",
    "    return clocked"
   ]
  },
  {
   "cell_type": "code",
   "execution_count": 27,
   "id": "727470b2-d07a-4fd6-a74d-519499fe392a",
   "metadata": {},
   "outputs": [],
   "source": [
    "DEFAULT_FMT = '[{elapsed:.8f}s] {name}({args}) -> {result!r}'"
   ]
  },
  {
   "cell_type": "code",
   "execution_count": 28,
   "id": "a5e0329c-b2bb-4291-a57e-14647deefb1d",
   "metadata": {},
   "outputs": [],
   "source": [
    "def clock(fmt=DEFAULT_FMT):\n",
    "    def decorate(func):\n",
    "        def clocked(*_args):\n",
    "            t0 = time.perf_counter()\n",
    "            _result = func(*_args)\n",
    "            elapsed = time.perf_counter() - t0\n",
    "            name = func.__name__\n",
    "            args = ', '.join(repr(arg) for arg in _args)\n",
    "            result = repr(_result)\n",
    "            print(fmt.format(**locals()))\n",
    "            return _result\n",
    "        return clocked\n",
    "    return decorate"
   ]
  },
  {
   "cell_type": "code",
   "execution_count": 29,
   "id": "13aff44c-2160-49a3-80f8-b0a549b3d5a0",
   "metadata": {},
   "outputs": [],
   "source": [
    "@clock()\n",
    "def snooze(seconds):\n",
    "    time.sleep(seconds)"
   ]
  },
  {
   "cell_type": "code",
   "execution_count": 30,
   "id": "2d789eb8-613d-4821-b8b7-b0b3942897b8",
   "metadata": {},
   "outputs": [
    {
     "name": "stdout",
     "output_type": "stream",
     "text": [
      "[0.20506126s] snooze(0.2) -> 'None'\n",
      "[0.20065824s] snooze(0.2) -> 'None'\n",
      "[0.20130491s] snooze(0.2) -> 'None'\n"
     ]
    }
   ],
   "source": [
    "for i in range(3):\n",
    "    snooze(0.2)"
   ]
  },
  {
   "cell_type": "code",
   "execution_count": null,
   "id": "a6d342a2-e77f-493b-90b1-a2548830fc70",
   "metadata": {},
   "outputs": [],
   "source": []
  },
  {
   "cell_type": "code",
   "execution_count": 31,
   "id": "f5ab5928-1e57-4ba6-9883-8f31b2d9f5ca",
   "metadata": {},
   "outputs": [],
   "source": [
    "@clock('{name}: {elapsed}s')\n",
    "def snooze(seconds):\n",
    "    time.sleep(seconds)"
   ]
  },
  {
   "cell_type": "code",
   "execution_count": 32,
   "id": "8ef1ab02-5f79-4152-a5dd-eed399a81378",
   "metadata": {},
   "outputs": [
    {
     "name": "stdout",
     "output_type": "stream",
     "text": [
      "snooze: 0.20506461698096246s\n",
      "snooze: 0.20159901498118415s\n",
      "snooze: 0.20205004699528217s\n"
     ]
    }
   ],
   "source": [
    "for i in range(3):\n",
    "    snooze(0.2)"
   ]
  },
  {
   "cell_type": "code",
   "execution_count": null,
   "id": "d656f512-bf8e-4105-92a2-21349a98d51a",
   "metadata": {},
   "outputs": [],
   "source": []
  },
  {
   "cell_type": "code",
   "execution_count": 33,
   "id": "de645542-16d3-4e98-8b81-2c81fd68e60c",
   "metadata": {},
   "outputs": [],
   "source": [
    "@clock('{name}({args}): dt={elapsed:.3f}s')\n",
    "def snooze(seconds):\n",
    "    time.sleep(seconds)"
   ]
  },
  {
   "cell_type": "code",
   "execution_count": 34,
   "id": "ba4a3890-6755-4857-a764-1a86796f2067",
   "metadata": {},
   "outputs": [
    {
     "name": "stdout",
     "output_type": "stream",
     "text": [
      "snooze(0.2): dt=0.200s\n",
      "snooze(0.2): dt=0.201s\n",
      "snooze(0.2): dt=0.204s\n"
     ]
    }
   ],
   "source": [
    "for i in range(3):\n",
    "    snooze(0.2)"
   ]
  },
  {
   "cell_type": "code",
   "execution_count": null,
   "id": "56764ce1-d7f9-4a3a-ae9d-636fbb9ec28a",
   "metadata": {},
   "outputs": [],
   "source": []
  }
 ],
 "metadata": {
  "kernelspec": {
   "display_name": "Python 3 (ipykernel)",
   "language": "python",
   "name": "python3"
  },
  "language_info": {
   "codemirror_mode": {
    "name": "ipython",
    "version": 3
   },
   "file_extension": ".py",
   "mimetype": "text/x-python",
   "name": "python",
   "nbconvert_exporter": "python",
   "pygments_lexer": "ipython3",
   "version": "3.10.6"
  }
 },
 "nbformat": 4,
 "nbformat_minor": 5
}
