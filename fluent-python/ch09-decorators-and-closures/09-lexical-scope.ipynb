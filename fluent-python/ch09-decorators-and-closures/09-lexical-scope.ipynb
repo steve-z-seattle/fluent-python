{
 "cells": [
  {
   "cell_type": "markdown",
   "id": "9afdb913-12a0-4995-b52a-3073f94faa74",
   "metadata": {},
   "source": [
    "## Python uses lexical scopy, not dynamic scope"
   ]
  },
  {
   "cell_type": "code",
   "execution_count": 1,
   "id": "85f2b4c5-6fc6-46ac-8231-88f95c3704a0",
   "metadata": {},
   "outputs": [],
   "source": [
    "def make_averager():\n",
    "    series = []\n",
    "    \n",
    "    def averager(new_value):\n",
    "        series.append(new_value)\n",
    "        total = sum(series)\n",
    "        return total / len(series)\n",
    "\n",
    "    return averager"
   ]
  },
  {
   "cell_type": "code",
   "execution_count": 2,
   "id": "9b959917-458c-4695-8de4-1fc8bb4d42d7",
   "metadata": {},
   "outputs": [],
   "source": [
    "avg = make_averager()"
   ]
  },
  {
   "cell_type": "code",
   "execution_count": 3,
   "id": "89505e76-26a7-4c31-a48d-a7a2f34b0158",
   "metadata": {},
   "outputs": [
    {
     "data": {
      "text/plain": [
       "10.0"
      ]
     },
     "execution_count": 3,
     "metadata": {},
     "output_type": "execute_result"
    }
   ],
   "source": [
    "avg(10)"
   ]
  },
  {
   "cell_type": "code",
   "execution_count": 4,
   "id": "db1d87ad-8ac0-42fc-98ac-65f90a498179",
   "metadata": {},
   "outputs": [
    {
     "data": {
      "text/plain": [
       "10.5"
      ]
     },
     "execution_count": 4,
     "metadata": {},
     "output_type": "execute_result"
    }
   ],
   "source": [
    "avg(11)"
   ]
  },
  {
   "cell_type": "code",
   "execution_count": 5,
   "id": "e91dabd3-00c8-411e-bb21-fe8f6391d43b",
   "metadata": {},
   "outputs": [
    {
     "data": {
      "text/plain": [
       "11.0"
      ]
     },
     "execution_count": 5,
     "metadata": {},
     "output_type": "execute_result"
    }
   ],
   "source": [
    "avg(12)"
   ]
  },
  {
   "cell_type": "markdown",
   "id": "9fd57941-d86d-43bd-b8c5-19ff2aec22f0",
   "metadata": {},
   "source": [
    "### inspection"
   ]
  },
  {
   "cell_type": "code",
   "execution_count": 6,
   "id": "3e1a1898-bdb8-45e4-80d1-46014c184f6a",
   "metadata": {},
   "outputs": [
    {
     "data": {
      "text/plain": [
       "('series',)"
      ]
     },
     "execution_count": 6,
     "metadata": {},
     "output_type": "execute_result"
    }
   ],
   "source": [
    "avg.__code__.co_freevars"
   ]
  },
  {
   "cell_type": "code",
   "execution_count": 7,
   "id": "3849757c-856c-4f7f-a05d-4b57d3dbf51e",
   "metadata": {},
   "outputs": [
    {
     "data": {
      "text/plain": [
       "(<cell at 0x112496d70: list object at 0x1124e8940>,)"
      ]
     },
     "execution_count": 7,
     "metadata": {},
     "output_type": "execute_result"
    }
   ],
   "source": [
    "avg.__closure__"
   ]
  },
  {
   "cell_type": "code",
   "execution_count": 8,
   "id": "5476e902-caec-44b5-a8f3-a20a0b7ff921",
   "metadata": {},
   "outputs": [
    {
     "data": {
      "text/plain": [
       "[10, 11, 12]"
      ]
     },
     "execution_count": 8,
     "metadata": {},
     "output_type": "execute_result"
    }
   ],
   "source": [
    "avg.__closure__[0].cell_contents"
   ]
  },
  {
   "cell_type": "code",
   "execution_count": 9,
   "id": "952b90bc-afb3-4b30-a13b-49a33fc39a6c",
   "metadata": {},
   "outputs": [
    {
     "data": {
      "text/plain": [
       "12.0"
      ]
     },
     "execution_count": 9,
     "metadata": {},
     "output_type": "execute_result"
    }
   ],
   "source": [
    "avg(15)"
   ]
  },
  {
   "cell_type": "code",
   "execution_count": 10,
   "id": "5f1abbe0-b770-4cab-bc16-4b3294b5dc4f",
   "metadata": {},
   "outputs": [
    {
     "data": {
      "text/plain": [
       "(<cell at 0x112496d70: list object at 0x1124e8940>,)"
      ]
     },
     "execution_count": 10,
     "metadata": {},
     "output_type": "execute_result"
    }
   ],
   "source": [
    "avg.__closure__"
   ]
  },
  {
   "cell_type": "code",
   "execution_count": 11,
   "id": "ab540cca-d3e5-4e17-8222-ef9ebd29df9d",
   "metadata": {},
   "outputs": [
    {
     "data": {
      "text/plain": [
       "[10, 11, 12, 15]"
      ]
     },
     "execution_count": 11,
     "metadata": {},
     "output_type": "execute_result"
    }
   ],
   "source": [
    "avg.__closure__[0].cell_contents"
   ]
  },
  {
   "cell_type": "markdown",
   "id": "e5405586-931a-41d3-905f-182362540ad9",
   "metadata": {},
   "source": [
    "## Python does not use dynamic scope"
   ]
  },
  {
   "cell_type": "code",
   "execution_count": 12,
   "id": "4d459f8e-27ac-4e84-9343-43821b951153",
   "metadata": {},
   "outputs": [],
   "source": [
    "series = [100]"
   ]
  },
  {
   "cell_type": "code",
   "execution_count": 13,
   "id": "24c35115-93a2-4bf6-8e08-ffe44804cc71",
   "metadata": {},
   "outputs": [
    {
     "data": {
      "text/plain": [
       "12.0"
      ]
     },
     "execution_count": 13,
     "metadata": {},
     "output_type": "execute_result"
    }
   ],
   "source": [
    "avg(12)"
   ]
  },
  {
   "cell_type": "code",
   "execution_count": null,
   "id": "7555db19-8c2c-4fe8-8043-abf2079cff20",
   "metadata": {},
   "outputs": [],
   "source": []
  }
 ],
 "metadata": {
  "kernelspec": {
   "display_name": "Python 3 (ipykernel)",
   "language": "python",
   "name": "python3"
  },
  "language_info": {
   "codemirror_mode": {
    "name": "ipython",
    "version": 3
   },
   "file_extension": ".py",
   "mimetype": "text/x-python",
   "name": "python",
   "nbconvert_exporter": "python",
   "pygments_lexer": "ipython3",
   "version": "3.10.6"
  }
 },
 "nbformat": 4,
 "nbformat_minor": 5
}
