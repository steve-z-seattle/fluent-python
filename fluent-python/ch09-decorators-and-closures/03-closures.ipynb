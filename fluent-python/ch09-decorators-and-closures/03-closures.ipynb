{
 "cells": [
  {
   "cell_type": "code",
   "execution_count": 51,
   "id": "ec13a63e-9ca9-4b6e-86bc-4610e40af0b6",
   "metadata": {},
   "outputs": [],
   "source": [
    "# A closure is a function -- let's clal it f -- with an extended scope\n",
    "# that encompasses variables referenced in the body of f that \n",
    "# are not global variables or local variables of f."
   ]
  },
  {
   "cell_type": "code",
   "execution_count": 52,
   "id": "54aea533-da48-42d0-9442-d00061b379d7",
   "metadata": {},
   "outputs": [],
   "source": [
    "# Such variables must come from the local scope of an outer function that\n",
    "# encompasses f."
   ]
  },
  {
   "cell_type": "markdown",
   "id": "0dbef027-3e51-40c2-b6ce-dea3b17f48b4",
   "metadata": {},
   "source": [
    "## compute running average - class-based implementation"
   ]
  },
  {
   "cell_type": "code",
   "execution_count": 53,
   "id": "e7aaed26-a3fe-490a-a2c7-86f50efd192c",
   "metadata": {},
   "outputs": [],
   "source": [
    "class Averager():\n",
    "    \n",
    "    def __init__(self):\n",
    "        self.series = []\n",
    "        \n",
    "    def __call__(self, new_value):\n",
    "        self.series.append(new_value)\n",
    "        total = sum(self.series)\n",
    "        return total / len(self.series)"
   ]
  },
  {
   "cell_type": "code",
   "execution_count": 54,
   "id": "abef1d07-5a90-4cf6-8dda-707d786d3ee2",
   "metadata": {},
   "outputs": [],
   "source": [
    "avg = Averager()"
   ]
  },
  {
   "cell_type": "code",
   "execution_count": 55,
   "id": "ce65756a-2427-44f6-bf4c-a4a362e3208a",
   "metadata": {},
   "outputs": [
    {
     "data": {
      "text/plain": [
       "10.0"
      ]
     },
     "execution_count": 55,
     "metadata": {},
     "output_type": "execute_result"
    }
   ],
   "source": [
    "avg(10)"
   ]
  },
  {
   "cell_type": "code",
   "execution_count": 56,
   "id": "b36df31b-e2f9-4dd9-a788-807f34a05365",
   "metadata": {},
   "outputs": [
    {
     "data": {
      "text/plain": [
       "10.5"
      ]
     },
     "execution_count": 56,
     "metadata": {},
     "output_type": "execute_result"
    }
   ],
   "source": [
    "avg(11)"
   ]
  },
  {
   "cell_type": "code",
   "execution_count": 57,
   "id": "002a56bb-1714-43a3-9301-1811ccac31e7",
   "metadata": {},
   "outputs": [
    {
     "data": {
      "text/plain": [
       "11.0"
      ]
     },
     "execution_count": 57,
     "metadata": {},
     "output_type": "execute_result"
    }
   ],
   "source": [
    "avg(12)"
   ]
  },
  {
   "cell_type": "code",
   "execution_count": 58,
   "id": "d1159a1d-8e3d-4942-8be6-9bfe44ccc704",
   "metadata": {},
   "outputs": [
    {
     "data": {
      "text/plain": [
       "12.0"
      ]
     },
     "execution_count": 58,
     "metadata": {},
     "output_type": "execute_result"
    }
   ],
   "source": [
    "avg(15)"
   ]
  },
  {
   "cell_type": "markdown",
   "id": "dfc05e31-5316-4e6f-8950-fb7d097c6d62",
   "metadata": {},
   "source": [
    "## compute running average - functional implementation"
   ]
  },
  {
   "cell_type": "code",
   "execution_count": 59,
   "id": "85f2b4c5-6fc6-46ac-8231-88f95c3704a0",
   "metadata": {},
   "outputs": [],
   "source": [
    "def make_averager():\n",
    "    series = []\n",
    "    \n",
    "    def averager(new_value):\n",
    "        series.append(new_value)\n",
    "        total = sum(series)\n",
    "        return total / len(series)\n",
    "\n",
    "    return averager"
   ]
  },
  {
   "cell_type": "code",
   "execution_count": 60,
   "id": "9b959917-458c-4695-8de4-1fc8bb4d42d7",
   "metadata": {},
   "outputs": [],
   "source": [
    "avg2 = make_averager()"
   ]
  },
  {
   "cell_type": "code",
   "execution_count": 61,
   "id": "89505e76-26a7-4c31-a48d-a7a2f34b0158",
   "metadata": {},
   "outputs": [
    {
     "data": {
      "text/plain": [
       "10.0"
      ]
     },
     "execution_count": 61,
     "metadata": {},
     "output_type": "execute_result"
    }
   ],
   "source": [
    "avg2(10)"
   ]
  },
  {
   "cell_type": "code",
   "execution_count": 62,
   "id": "db1d87ad-8ac0-42fc-98ac-65f90a498179",
   "metadata": {},
   "outputs": [
    {
     "data": {
      "text/plain": [
       "10.5"
      ]
     },
     "execution_count": 62,
     "metadata": {},
     "output_type": "execute_result"
    }
   ],
   "source": [
    "avg2(11)"
   ]
  },
  {
   "cell_type": "code",
   "execution_count": 63,
   "id": "e91dabd3-00c8-411e-bb21-fe8f6391d43b",
   "metadata": {},
   "outputs": [
    {
     "data": {
      "text/plain": [
       "11.0"
      ]
     },
     "execution_count": 63,
     "metadata": {},
     "output_type": "execute_result"
    }
   ],
   "source": [
    "avg2(12)"
   ]
  },
  {
   "cell_type": "code",
   "execution_count": 64,
   "id": "32d28c1d-ccb4-4001-9c72-6e95ad1fc976",
   "metadata": {},
   "outputs": [],
   "source": [
    "avg3 = make_averager()"
   ]
  },
  {
   "cell_type": "code",
   "execution_count": 65,
   "id": "2c99fee8-db69-4a39-96d6-17793843ab69",
   "metadata": {},
   "outputs": [
    {
     "data": {
      "text/plain": [
       "100.0"
      ]
     },
     "execution_count": 65,
     "metadata": {},
     "output_type": "execute_result"
    }
   ],
   "source": [
    "avg3(100)"
   ]
  },
  {
   "cell_type": "code",
   "execution_count": 66,
   "id": "f8c08913-8c32-4abe-8546-fe94aedaafff",
   "metadata": {},
   "outputs": [
    {
     "data": {
      "text/plain": [
       "105.0"
      ]
     },
     "execution_count": 66,
     "metadata": {},
     "output_type": "execute_result"
    }
   ],
   "source": [
    "avg3(110)"
   ]
  },
  {
   "cell_type": "markdown",
   "id": "9fd57941-d86d-43bd-b8c5-19ff2aec22f0",
   "metadata": {},
   "source": [
    "## inspection"
   ]
  },
  {
   "cell_type": "code",
   "execution_count": 67,
   "id": "3e1a1898-bdb8-45e4-80d1-46014c184f6a",
   "metadata": {},
   "outputs": [
    {
     "data": {
      "text/plain": [
       "('series',)"
      ]
     },
     "execution_count": 67,
     "metadata": {},
     "output_type": "execute_result"
    }
   ],
   "source": [
    "avg2.__code__.co_freevars"
   ]
  },
  {
   "cell_type": "code",
   "execution_count": 68,
   "id": "3849757c-856c-4f7f-a05d-4b57d3dbf51e",
   "metadata": {},
   "outputs": [
    {
     "data": {
      "text/plain": [
       "(<cell at 0x109e9f220: list object at 0x10a5c3940>,)"
      ]
     },
     "execution_count": 68,
     "metadata": {},
     "output_type": "execute_result"
    }
   ],
   "source": [
    "avg2.__closure__"
   ]
  },
  {
   "cell_type": "code",
   "execution_count": 69,
   "id": "5476e902-caec-44b5-a8f3-a20a0b7ff921",
   "metadata": {},
   "outputs": [
    {
     "data": {
      "text/plain": [
       "[10, 11, 12]"
      ]
     },
     "execution_count": 69,
     "metadata": {},
     "output_type": "execute_result"
    }
   ],
   "source": [
    "avg2.__closure__[0].cell_contents"
   ]
  },
  {
   "cell_type": "code",
   "execution_count": 70,
   "id": "adde9ac5-20e0-47a3-ac8f-475981956909",
   "metadata": {},
   "outputs": [
    {
     "data": {
      "text/plain": [
       "('series',)"
      ]
     },
     "execution_count": 70,
     "metadata": {},
     "output_type": "execute_result"
    }
   ],
   "source": [
    "avg3.__code__.co_freevars"
   ]
  },
  {
   "cell_type": "code",
   "execution_count": 71,
   "id": "10ba3b01-2fc4-41fb-8839-1ea0d7012b35",
   "metadata": {},
   "outputs": [
    {
     "data": {
      "text/plain": [
       "(<cell at 0x109e9e6e0: list object at 0x10a539800>,)"
      ]
     },
     "execution_count": 71,
     "metadata": {},
     "output_type": "execute_result"
    }
   ],
   "source": [
    "avg3.__closure__"
   ]
  },
  {
   "cell_type": "code",
   "execution_count": 72,
   "id": "86a96f04-c8ef-44d9-b2a7-0357bed6c10e",
   "metadata": {},
   "outputs": [
    {
     "data": {
      "text/plain": [
       "[100, 110]"
      ]
     },
     "execution_count": 72,
     "metadata": {},
     "output_type": "execute_result"
    }
   ],
   "source": [
    "avg3.__closure__[0].cell_contents"
   ]
  },
  {
   "cell_type": "code",
   "execution_count": null,
   "id": "6b199ab6-2659-44aa-8a69-8c137722aa56",
   "metadata": {},
   "outputs": [],
   "source": []
  },
  {
   "cell_type": "code",
   "execution_count": 73,
   "id": "952b90bc-afb3-4b30-a13b-49a33fc39a6c",
   "metadata": {},
   "outputs": [
    {
     "data": {
      "text/plain": [
       "12.0"
      ]
     },
     "execution_count": 73,
     "metadata": {},
     "output_type": "execute_result"
    }
   ],
   "source": [
    "avg2(15)"
   ]
  },
  {
   "cell_type": "code",
   "execution_count": 74,
   "id": "5f1abbe0-b770-4cab-bc16-4b3294b5dc4f",
   "metadata": {},
   "outputs": [
    {
     "data": {
      "text/plain": [
       "(<cell at 0x109e9f220: list object at 0x10a5c3940>,)"
      ]
     },
     "execution_count": 74,
     "metadata": {},
     "output_type": "execute_result"
    }
   ],
   "source": [
    "avg2.__closure__"
   ]
  },
  {
   "cell_type": "code",
   "execution_count": 75,
   "id": "ab540cca-d3e5-4e17-8222-ef9ebd29df9d",
   "metadata": {},
   "outputs": [
    {
     "data": {
      "text/plain": [
       "[10, 11, 12, 15]"
      ]
     },
     "execution_count": 75,
     "metadata": {},
     "output_type": "execute_result"
    }
   ],
   "source": [
    "avg2.__closure__[0].cell_contents"
   ]
  },
  {
   "cell_type": "code",
   "execution_count": null,
   "id": "1c20bbe1-9264-4547-b3f7-13acf915f0a7",
   "metadata": {},
   "outputs": [],
   "source": []
  }
 ],
 "metadata": {
  "kernelspec": {
   "display_name": "Python 3 (ipykernel)",
   "language": "python",
   "name": "python3"
  },
  "language_info": {
   "codemirror_mode": {
    "name": "ipython",
    "version": 3
   },
   "file_extension": ".py",
   "mimetype": "text/x-python",
   "name": "python",
   "nbconvert_exporter": "python",
   "pygments_lexer": "ipython3",
   "version": "3.10.6"
  }
 },
 "nbformat": 4,
 "nbformat_minor": 5
}
