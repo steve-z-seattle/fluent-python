{
 "cells": [
  {
   "cell_type": "markdown",
   "id": "8744a5b7-f4c2-43a6-b73e-487c26f4d092",
   "metadata": {},
   "source": [
    "## A naive implementation of Fibonacci"
   ]
  },
  {
   "cell_type": "code",
   "execution_count": 10,
   "id": "d2a31de1-61ed-43c0-ae66-81e6eb15ad6c",
   "metadata": {},
   "outputs": [],
   "source": [
    "from clock import clock"
   ]
  },
  {
   "cell_type": "code",
   "execution_count": 20,
   "id": "0bf17f04-c839-45c3-a4e7-dc069b0b0109",
   "metadata": {},
   "outputs": [],
   "source": [
    "@clock\n",
    "def fib1(n):\n",
    "    if n < 2:\n",
    "        return n\n",
    "    return fib1(n-2) + fib1(n-1)"
   ]
  },
  {
   "cell_type": "code",
   "execution_count": 21,
   "id": "3c77a443-8c3e-40aa-a955-b6602f2f0cd3",
   "metadata": {},
   "outputs": [
    {
     "name": "stdout",
     "output_type": "stream",
     "text": [
      "[0.00000040s] fib1(0) -> 0\n",
      "[0.00000059s] fib1(1) -> 1\n",
      "[0.00029265s] fib1(2) -> 1\n",
      "[0.00000024s] fib1(1) -> 1\n",
      "[0.00000025s] fib1(0) -> 0\n",
      "[0.00000020s] fib1(1) -> 1\n",
      "[0.00000722s] fib1(2) -> 1\n",
      "[0.00001429s] fib1(3) -> 2\n",
      "[0.00032761s] fib1(4) -> 3\n",
      "[0.00000016s] fib1(1) -> 1\n",
      "[0.00000017s] fib1(0) -> 0\n",
      "[0.00000016s] fib1(1) -> 1\n",
      "[0.00000617s] fib1(2) -> 1\n",
      "[0.00001231s] fib1(3) -> 2\n",
      "[0.00000016s] fib1(0) -> 0\n",
      "[0.00000016s] fib1(1) -> 1\n",
      "[0.00000607s] fib1(2) -> 1\n",
      "[0.00000016s] fib1(1) -> 1\n",
      "[0.00000025s] fib1(0) -> 0\n",
      "[0.00000015s] fib1(1) -> 1\n",
      "[0.00000625s] fib1(2) -> 1\n",
      "[0.00001216s] fib1(3) -> 2\n",
      "[0.00002422s] fib1(4) -> 3\n",
      "[0.00004218s] fib1(5) -> 5\n",
      "[0.00037652s] fib1(6) -> 8\n"
     ]
    },
    {
     "data": {
      "text/plain": [
       "8"
      ]
     },
     "execution_count": 21,
     "metadata": {},
     "output_type": "execute_result"
    }
   ],
   "source": [
    "fib1(6)"
   ]
  },
  {
   "cell_type": "markdown",
   "id": "21125f01-1fec-4f9b-88a7-24e6907e1472",
   "metadata": {},
   "source": [
    "## Fibonacci with memoization"
   ]
  },
  {
   "cell_type": "code",
   "execution_count": 22,
   "id": "566ec3bd-46c4-4d69-893d-2f47fc9c0325",
   "metadata": {},
   "outputs": [],
   "source": [
    "import functools"
   ]
  },
  {
   "cell_type": "code",
   "execution_count": 76,
   "id": "2612798a-c0b1-4a67-a261-b867303b1927",
   "metadata": {},
   "outputs": [],
   "source": [
    "@functools.cache\n",
    "@clock\n",
    "def fib2(n):\n",
    "    if n < 2:\n",
    "        return n\n",
    "    return fib2(n-2) + fib2(n-1)"
   ]
  },
  {
   "cell_type": "code",
   "execution_count": 77,
   "id": "c0731d11-7af9-4cfa-89ef-4d778f3220be",
   "metadata": {},
   "outputs": [
    {
     "name": "stdout",
     "output_type": "stream",
     "text": [
      "[0.00000029s] fib2(0) -> 0\n",
      "[0.00000031s] fib2(1) -> 1\n",
      "[0.00003183s] fib2(2) -> 1\n",
      "[0.00000040s] fib2(3) -> 2\n",
      "[0.00003897s] fib2(4) -> 3\n",
      "[0.00000034s] fib2(5) -> 5\n",
      "[0.00004612s] fib2(6) -> 8\n"
     ]
    },
    {
     "data": {
      "text/plain": [
       "8"
      ]
     },
     "execution_count": 77,
     "metadata": {},
     "output_type": "execute_result"
    }
   ],
   "source": [
    "fib2(6)"
   ]
  },
  {
   "cell_type": "markdown",
   "id": "b147ac05-2e97-48cf-8ac6-3efabba77c1a",
   "metadata": {},
   "source": [
    "## LRU cache"
   ]
  },
  {
   "cell_type": "code",
   "execution_count": 25,
   "id": "adc61c6d-f56f-4a11-bb66-2effe22aa846",
   "metadata": {},
   "outputs": [],
   "source": [
    "import functools"
   ]
  },
  {
   "cell_type": "code",
   "execution_count": 73,
   "id": "c4d7e6b5-233a-493a-bfd4-3f02534d1c57",
   "metadata": {},
   "outputs": [],
   "source": [
    "# @functools.lru_cache(maxsize=2**20, typed=True)\n",
    "@functools.lru_cache(maxsize=2, typed=True)\n",
    "@clock\n",
    "def fib3(n):\n",
    "    if n < 2:\n",
    "        return n\n",
    "    return fib3(n-2) + fib3(n-1)"
   ]
  },
  {
   "cell_type": "code",
   "execution_count": 74,
   "id": "bf0d3db2-3560-4acd-88fa-f14ec435e7d9",
   "metadata": {},
   "outputs": [
    {
     "name": "stdout",
     "output_type": "stream",
     "text": [
      "[0.00000030s] fib3(0) -> 0\n",
      "[0.00000030s] fib3(1) -> 1\n",
      "[0.00003186s] fib3(2) -> 1\n",
      "[0.00000060s] fib3(3) -> 2\n",
      "[0.00004043s] fib3(4) -> 3\n",
      "[0.00000044s] fib3(5) -> 5\n",
      "[0.00004820s] fib3(6) -> 8\n"
     ]
    },
    {
     "data": {
      "text/plain": [
       "8"
      ]
     },
     "execution_count": 74,
     "metadata": {},
     "output_type": "execute_result"
    }
   ],
   "source": [
    "fib3(6)"
   ]
  },
  {
   "cell_type": "code",
   "execution_count": null,
   "id": "89d771b1-356d-4dbd-b8ec-7e25ba49ffac",
   "metadata": {},
   "outputs": [],
   "source": []
  }
 ],
 "metadata": {
  "kernelspec": {
   "display_name": "Python 3 (ipykernel)",
   "language": "python",
   "name": "python3"
  },
  "language_info": {
   "codemirror_mode": {
    "name": "ipython",
    "version": 3
   },
   "file_extension": ".py",
   "mimetype": "text/x-python",
   "name": "python",
   "nbconvert_exporter": "python",
   "pygments_lexer": "ipython3",
   "version": "3.10.6"
  }
 },
 "nbformat": 4,
 "nbformat_minor": 5
}
