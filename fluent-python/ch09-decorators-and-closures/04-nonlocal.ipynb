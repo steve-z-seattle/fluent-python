{
 "cells": [
  {
   "cell_type": "markdown",
   "id": "2d8cd248-2980-418b-b50d-fea6cdc9c8bf",
   "metadata": {},
   "source": [
    "## nonlocal"
   ]
  },
  {
   "cell_type": "code",
   "execution_count": 2,
   "id": "a9c08053-b62f-41d1-ba2c-5a3f219a0124",
   "metadata": {},
   "outputs": [],
   "source": [
    "def make_averager():\n",
    "    count = 0\n",
    "    total = 0\n",
    "    \n",
    "    def averager(new_value):\n",
    "        nonlocal count, total\n",
    "        count += 1\n",
    "        total += new_value\n",
    "        return total / count\n",
    "    \n",
    "    return averager"
   ]
  },
  {
   "cell_type": "code",
   "execution_count": 3,
   "id": "534625a1-5f4a-416c-b8f1-84a35981db48",
   "metadata": {},
   "outputs": [],
   "source": [
    "avg3 = make_averager()"
   ]
  },
  {
   "cell_type": "code",
   "execution_count": 4,
   "id": "51d7d6b3-a584-4e48-bad0-7ce5a882b96c",
   "metadata": {},
   "outputs": [
    {
     "data": {
      "text/plain": [
       "10.0"
      ]
     },
     "execution_count": 4,
     "metadata": {},
     "output_type": "execute_result"
    }
   ],
   "source": [
    "avg3(10)"
   ]
  },
  {
   "cell_type": "code",
   "execution_count": 5,
   "id": "e3dd15a1-4f0b-41f4-8216-8888872e36d5",
   "metadata": {},
   "outputs": [
    {
     "data": {
      "text/plain": [
       "10.5"
      ]
     },
     "execution_count": 5,
     "metadata": {},
     "output_type": "execute_result"
    }
   ],
   "source": [
    "avg3(11)"
   ]
  },
  {
   "cell_type": "code",
   "execution_count": 6,
   "id": "80bac08f-2086-4218-886f-a96dd06b0e8e",
   "metadata": {},
   "outputs": [
    {
     "data": {
      "text/plain": [
       "11.0"
      ]
     },
     "execution_count": 6,
     "metadata": {},
     "output_type": "execute_result"
    }
   ],
   "source": [
    "avg3(12)"
   ]
  },
  {
   "cell_type": "code",
   "execution_count": null,
   "id": "b18078a3-d7ce-4e24-a78d-82bc60cf9692",
   "metadata": {},
   "outputs": [],
   "source": []
  }
 ],
 "metadata": {
  "kernelspec": {
   "display_name": "Python 3 (ipykernel)",
   "language": "python",
   "name": "python3"
  },
  "language_info": {
   "codemirror_mode": {
    "name": "ipython",
    "version": 3
   },
   "file_extension": ".py",
   "mimetype": "text/x-python",
   "name": "python",
   "nbconvert_exporter": "python",
   "pygments_lexer": "ipython3",
   "version": "3.10.6"
  }
 },
 "nbformat": 4,
 "nbformat_minor": 5
}
