{
 "cells": [
  {
   "cell_type": "code",
   "execution_count": 1,
   "id": "54a2c949-dc11-44be-973f-4043e82fb8b1",
   "metadata": {},
   "outputs": [],
   "source": [
    "import time"
   ]
  },
  {
   "cell_type": "code",
   "execution_count": 2,
   "id": "81739a26-79d1-47eb-b5c0-f44e3e860c17",
   "metadata": {},
   "outputs": [],
   "source": [
    "DEFAULT_FMT = '[{elapsed:.8f}s] {name}({args}) -> {result!r}'"
   ]
  },
  {
   "cell_type": "code",
   "execution_count": 8,
   "id": "3ae66d99-7bec-45fc-986a-34d770825208",
   "metadata": {},
   "outputs": [],
   "source": [
    "class clock:\n",
    "    \n",
    "    def __init__(self, fmt=DEFAULT_FMT):\n",
    "        self.fmt = fmt\n",
    "        \n",
    "    def __call__(self, func):\n",
    "        def clocked(*_args):\n",
    "            t0 = time.perf_counter()\n",
    "            _result = func(*_args)\n",
    "            elapsed = time.perf_counter() - t0\n",
    "            name = func.__name__\n",
    "            args = ', '.join(repr(arg) for arg in _args)\n",
    "            result = repr(_result)\n",
    "            print(self.fmt.format(**locals()))\n",
    "            return _result\n",
    "        return clocked"
   ]
  },
  {
   "cell_type": "code",
   "execution_count": null,
   "id": "6664db69-db51-4a69-a961-83aaed2b1ab9",
   "metadata": {},
   "outputs": [],
   "source": []
  },
  {
   "cell_type": "code",
   "execution_count": 9,
   "id": "ace6c314-9a50-48c0-bad1-22a16a33b65b",
   "metadata": {},
   "outputs": [],
   "source": [
    "@clock()\n",
    "def snooze(seconds):\n",
    "    time.sleep(seconds)"
   ]
  },
  {
   "cell_type": "code",
   "execution_count": 10,
   "id": "0bcd05dd-c495-4713-88b4-b7f447636f24",
   "metadata": {},
   "outputs": [
    {
     "name": "stdout",
     "output_type": "stream",
     "text": [
      "[0.20505700s] snooze(0.2) -> 'None'\n",
      "[0.20089766s] snooze(0.2) -> 'None'\n",
      "[0.20155780s] snooze(0.2) -> 'None'\n"
     ]
    }
   ],
   "source": [
    "for i in range(3):\n",
    "    snooze(0.2)"
   ]
  },
  {
   "cell_type": "code",
   "execution_count": null,
   "id": "3a043dbb-e0dd-423a-9b9b-7ace528ff742",
   "metadata": {},
   "outputs": [],
   "source": []
  },
  {
   "cell_type": "code",
   "execution_count": 11,
   "id": "2097720a-2631-4dfa-ade9-e9f00ac42511",
   "metadata": {},
   "outputs": [],
   "source": [
    "@clock('{name}: {elapsed}s')\n",
    "def snooze(seconds):\n",
    "    time.sleep(seconds)"
   ]
  },
  {
   "cell_type": "code",
   "execution_count": 12,
   "id": "531009d7-2b0d-4473-b231-9efaad39fdef",
   "metadata": {},
   "outputs": [
    {
     "name": "stdout",
     "output_type": "stream",
     "text": [
      "snooze: 0.20122201804770157s\n",
      "snooze: 0.20122461300343275s\n",
      "snooze: 0.20010532799642533s\n"
     ]
    }
   ],
   "source": [
    "for i in range(3):\n",
    "    snooze(0.2)"
   ]
  },
  {
   "cell_type": "code",
   "execution_count": null,
   "id": "3d331185-d6b9-4849-b59c-a508335552ad",
   "metadata": {},
   "outputs": [],
   "source": []
  },
  {
   "cell_type": "code",
   "execution_count": 13,
   "id": "df8d67b2-6c08-4425-a7dd-ce8587ebe583",
   "metadata": {},
   "outputs": [],
   "source": [
    "@clock('{name}({args}): dt={elapsed:.3f}s')\n",
    "def snooze(seconds):\n",
    "    time.sleep(seconds)"
   ]
  },
  {
   "cell_type": "code",
   "execution_count": 14,
   "id": "8a7bcd9f-c2c7-4087-aaa5-b678b8cbab7e",
   "metadata": {},
   "outputs": [
    {
     "name": "stdout",
     "output_type": "stream",
     "text": [
      "snooze(0.2): dt=0.200s\n",
      "snooze(0.2): dt=0.201s\n",
      "snooze(0.2): dt=0.201s\n"
     ]
    }
   ],
   "source": [
    "for i in range(3):\n",
    "    snooze(0.2)"
   ]
  },
  {
   "cell_type": "code",
   "execution_count": null,
   "id": "9178f82c-cfdf-4c8f-873f-faf877ea7ba5",
   "metadata": {},
   "outputs": [],
   "source": []
  }
 ],
 "metadata": {
  "kernelspec": {
   "display_name": "Python 3 (ipykernel)",
   "language": "python",
   "name": "python3"
  },
  "language_info": {
   "codemirror_mode": {
    "name": "ipython",
    "version": 3
   },
   "file_extension": ".py",
   "mimetype": "text/x-python",
   "name": "python",
   "nbconvert_exporter": "python",
   "pygments_lexer": "ipython3",
   "version": "3.10.6"
  }
 },
 "nbformat": 4,
 "nbformat_minor": 5
}
