{
 "cells": [
  {
   "cell_type": "code",
   "execution_count": 3,
   "id": "a85b398d-6eed-4a44-bff3-3741a658a414",
   "metadata": {},
   "outputs": [],
   "source": [
    "# A decorator is a callable that takes another function as an argument\n",
    "# (the decorated function).\n",
    "#\n",
    "# The decorator may perform some processing with the decorated function, \n",
    "# and returns it or replaces it with another function or callable object."
   ]
  },
  {
   "cell_type": "code",
   "execution_count": 9,
   "id": "70100bad-6ee6-4118-a998-bf6da06dff5b",
   "metadata": {},
   "outputs": [],
   "source": [
    "# I.E.,"
   ]
  },
  {
   "cell_type": "code",
   "execution_count": 10,
   "id": "b9ef7914-fa3d-45bf-b2d9-64e49ec736af",
   "metadata": {},
   "outputs": [],
   "source": [
    "# @decorate\n",
    "# def target():\n",
    "#     print('running target')    "
   ]
  },
  {
   "cell_type": "code",
   "execution_count": 11,
   "id": "929980e0-48ea-4fdc-9b06-eedd76ecd4db",
   "metadata": {},
   "outputs": [],
   "source": [
    "# def target():\n",
    "#     print('running target')\n",
    "\n",
    "# target = decorate(target)"
   ]
  },
  {
   "cell_type": "markdown",
   "id": "ed7110d4-eb7e-48fe-8c04-1d134a0ae5db",
   "metadata": {},
   "source": [
    "## A decorator"
   ]
  },
  {
   "cell_type": "code",
   "execution_count": 12,
   "id": "04585443-1d1b-4a13-9772-45cee2cf2780",
   "metadata": {},
   "outputs": [],
   "source": [
    "# A decorator usually replaces a function with a different one"
   ]
  },
  {
   "cell_type": "code",
   "execution_count": 13,
   "id": "d9a3dd3f-e51c-4659-98a4-fc21fabcd5ee",
   "metadata": {},
   "outputs": [],
   "source": [
    "def deco(func):\n",
    "    def inner():\n",
    "        print('running inner')\n",
    "    return inner"
   ]
  },
  {
   "cell_type": "code",
   "execution_count": 15,
   "id": "61bca86b-2283-4cd6-a0c2-04511420ab55",
   "metadata": {},
   "outputs": [],
   "source": [
    "@deco\n",
    "def target():\n",
    "    print('running target')"
   ]
  },
  {
   "cell_type": "code",
   "execution_count": 17,
   "id": "16ea9764-1140-4812-b7a7-8ad62a115769",
   "metadata": {},
   "outputs": [
    {
     "name": "stdout",
     "output_type": "stream",
     "text": [
      "running inner\n"
     ]
    }
   ],
   "source": [
    "target()"
   ]
  },
  {
   "cell_type": "code",
   "execution_count": 18,
   "id": "ef15f8ba-fc84-421f-b3f1-e5399abc56ec",
   "metadata": {},
   "outputs": [
    {
     "data": {
      "text/plain": [
       "<function __main__.deco.<locals>.inner()>"
      ]
     },
     "execution_count": 18,
     "metadata": {},
     "output_type": "execute_result"
    }
   ],
   "source": [
    "target"
   ]
  },
  {
   "cell_type": "code",
   "execution_count": null,
   "id": "68e8f6c8-c658-430f-953e-7c8622503cd0",
   "metadata": {},
   "outputs": [],
   "source": []
  }
 ],
 "metadata": {
  "kernelspec": {
   "display_name": "Python 3 (ipykernel)",
   "language": "python",
   "name": "python3"
  },
  "language_info": {
   "codemirror_mode": {
    "name": "ipython",
    "version": 3
   },
   "file_extension": ".py",
   "mimetype": "text/x-python",
   "name": "python",
   "nbconvert_exporter": "python",
   "pygments_lexer": "ipython3",
   "version": "3.10.6"
  }
 },
 "nbformat": 4,
 "nbformat_minor": 5
}
