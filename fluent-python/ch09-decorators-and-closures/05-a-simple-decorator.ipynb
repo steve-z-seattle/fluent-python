{
 "cells": [
  {
   "cell_type": "markdown",
   "id": "148ffeca-6baf-48ab-8d8e-a9b7d684d97e",
   "metadata": {},
   "source": [
    "## a simple decorator"
   ]
  },
  {
   "cell_type": "code",
   "execution_count": 2,
   "id": "7fe29b3b-a1ba-4cba-b525-b35ff6271240",
   "metadata": {},
   "outputs": [],
   "source": [
    "# clock is a decorator that clocks every invocation of the decorated fucntion\n",
    "# and displays the elapsed time, the arguments passed, and the result of the call."
   ]
  },
  {
   "cell_type": "code",
   "execution_count": 3,
   "id": "eb64fe10-3e0c-49e0-a9ce-049ffbb7a138",
   "metadata": {},
   "outputs": [],
   "source": [
    "import time\n",
    "\n",
    "def clock(func):\n",
    "    def clocked(*args):\n",
    "        t0 = time.perf_counter()\n",
    "        result = func(*args)\n",
    "        elapsed = time.perf_counter() - t0\n",
    "        name = func.__name__\n",
    "        arg_str = ', '.join(repr(arg) for arg in args)\n",
    "        print(f'[{elapsed:.8f}s] {name}({arg_str}) -> {result!r}')\n",
    "        return result\n",
    "    return clocked"
   ]
  },
  {
   "cell_type": "markdown",
   "id": "6a20142e-a0e0-4ec6-aa38-b64bcd742cca",
   "metadata": {},
   "source": [
    "## using the decorator"
   ]
  },
  {
   "cell_type": "code",
   "execution_count": 4,
   "id": "a620a2d7-6f78-413d-9ed1-19c5b7bb8eb2",
   "metadata": {},
   "outputs": [],
   "source": [
    "@clock\n",
    "def snooze(seconds):\n",
    "    time.sleep(seconds)"
   ]
  },
  {
   "cell_type": "code",
   "execution_count": 5,
   "id": "8cacc1ef-059c-47fd-ba48-6bbfb0c74601",
   "metadata": {},
   "outputs": [],
   "source": [
    "@clock\n",
    "def factorial(n):\n",
    "    return 1 if n < 2 else n*factorial(n-1)"
   ]
  },
  {
   "cell_type": "code",
   "execution_count": 6,
   "id": "9d484ef2-79fb-4235-bae1-4e5b72b1152e",
   "metadata": {},
   "outputs": [
    {
     "name": "stdout",
     "output_type": "stream",
     "text": [
      "[0.12804501s] snooze(0.123) -> None\n"
     ]
    }
   ],
   "source": [
    "snooze(.123)"
   ]
  },
  {
   "cell_type": "code",
   "execution_count": 7,
   "id": "c0cac54a-49b4-4bac-a75e-64a78a2ffd3a",
   "metadata": {},
   "outputs": [
    {
     "name": "stdout",
     "output_type": "stream",
     "text": [
      "[0.00000044s] factorial(1) -> 1\n",
      "[0.00027729s] factorial(2) -> 2\n",
      "[0.00028665s] factorial(3) -> 6\n",
      "[0.00029090s] factorial(4) -> 24\n",
      "[0.00029478s] factorial(5) -> 120\n",
      "[0.00029943s] factorial(6) -> 720\n"
     ]
    },
    {
     "data": {
      "text/plain": [
       "720"
      ]
     },
     "execution_count": 7,
     "metadata": {},
     "output_type": "execute_result"
    }
   ],
   "source": [
    "factorial(6)"
   ]
  },
  {
   "cell_type": "code",
   "execution_count": null,
   "id": "a6b16c1d-0394-484d-97b6-75194f40a11e",
   "metadata": {},
   "outputs": [],
   "source": []
  }
 ],
 "metadata": {
  "kernelspec": {
   "display_name": "Python 3 (ipykernel)",
   "language": "python",
   "name": "python3"
  },
  "language_info": {
   "codemirror_mode": {
    "name": "ipython",
    "version": 3
   },
   "file_extension": ".py",
   "mimetype": "text/x-python",
   "name": "python",
   "nbconvert_exporter": "python",
   "pygments_lexer": "ipython3",
   "version": "3.10.6"
  }
 },
 "nbformat": 4,
 "nbformat_minor": 5
}
